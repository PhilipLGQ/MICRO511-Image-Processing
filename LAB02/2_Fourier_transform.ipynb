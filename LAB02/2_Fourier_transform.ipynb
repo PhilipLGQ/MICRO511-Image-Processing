{
 "cells": [
  {
   "cell_type": "markdown",
   "metadata": {
    "deletable": false,
    "editable": false,
    "kernel": "SoS",
    "nbgrader": {
     "cell_type": "markdown",
     "checksum": "427df71005495b992c43e088d2061816",
     "grade": false,
     "grade_id": "cell-87ef5277e6904d04",
     "locked": true,
     "schema_version": 3,
     "solution": false,
     "task": false
    }
   },
   "source": [
    "<img src=\"https://www.epfl.ch/about/overview/wp-content/uploads/2020/07/logo-epfl-1024x576.png\" style=\"padding-right:10px;width:140px;float:left\"></td>\n",
    "<h2 style=\"white-space: nowrap\">Image Processing Laboratory Notebooks</h2>\n",
    "<hr style=\"clear:both\">\n",
    "<p style=\"font-size:0.85em; margin:2px; text-align:justify\">\n",
    "This Juypter notebook is part of a series of computer laboratories which are designed\n",
    "to teach image-processing programming; they are running on the EPFL's Noto server. They are the practical complement of the theoretical lectures of the EPFL's Master course <b>Image Processing I</b> \n",
    "(<a href=\"https://moodle.epfl.ch/course/view.php?id=522\">MICRO-511</a>) taught by Prof. M. Unser and Prof. D. Van de Ville.\n",
    "</p>\n",
    "<p style=\"font-size:0.85em; margin:2px; text-align:justify\">\n",
    "The project is funded by the Center for Digital Education and the School of Engineering. It is owned by the <a href=\"http://bigwww.epfl.ch/\">Biomedical Imaging Group</a>. \n",
    "The distribution or the reproduction of the notebook is strictly prohibited without the written consent of the authors.  &copy; EPFL 2020.\n",
    "</p>\n",
    "<p style=\"font-size:0.85em; margin:0px\"><b>Authors</b>: \n",
    "    <a href=\"mailto:pol.delaguilapla@epfl.ch\">Pol del Aguila Pla</a>, \n",
    "    <a href=\"mailto:kay.lachler@epfl.ch\">Kay Lächler</a>,\n",
    "    <a href=\"mailto:alejandro.nogueronaramburu@epfl.ch\">Alejandro Noguerón Arámburu</a>, and\n",
    "    <a href=\"mailto:daniel.sage@epfl.ch\">Daniel Sage</a>.\n",
    "</p>\n",
    "<hr style=\"clear:both\">\n",
    "<h1>Lab 1.2: The Fourier transform</h1>\n",
    "<div style=\"background-color:#F0F0F0;padding:4px\">\n",
    "    <p style=\"margin:4px;\"><b>Released</b>: Thursday October 7, 2021</p>\n",
    "    <p style=\"margin:4px;\"><b>Submission</b>: <span style=\"color:red\">Friday October 15, 2021</span> (before 11:59PM) on <a href=\"https://moodle.epfl.ch/course/view.php?id=522\">Moodle</a></p>\n",
    "    <p style=\"margin:4px;\"><b>Grade weigth</b>: Lab 1 (16 points), 9% of the overall grade</p>\n",
    "    <p style=\"margin:4px;\"><b>Remote help</b>: Monday October 11, on Zoom (see Moodle for link and time)</p>    \n",
    "    <p style=\"margin:4px;\"><b>Related lectures</b>: Chapters 1 and 2</p>\n",
    "</div>"
   ]
  },
  {
   "cell_type": "markdown",
   "metadata": {
    "kernel": "SoS"
   },
   "source": [
    "### Student Name: Guanqun Liu\n",
    "### SCIPER: 334988\n",
    "\n",
    "Double-click on this cell and fill your name and SCIPER number. Then, run the cell below to verify your identity in Noto and set the seed for random results."
   ]
  },
  {
   "cell_type": "code",
   "execution_count": 1,
   "metadata": {
    "deletable": false,
    "editable": false,
    "kernel": "SoS",
    "nbgrader": {
     "cell_type": "code",
     "checksum": "813503e599ff1f5d567993e83e7499ca",
     "grade": true,
     "grade_id": "cell-2f6633932108c60f",
     "locked": true,
     "points": 0,
     "schema_version": 3,
     "solution": false,
     "task": false
    }
   },
   "outputs": [
    {
     "name": "stdout",
     "output_type": "stream",
     "text": [
      "SCIPER: 334988\n"
     ]
    }
   ],
   "source": [
    "import getpass\n",
    "# This line recovers your camipro number to mark the images with your ID\n",
    "uid = int(getpass.getuser().split('-')[2]) if len(getpass.getuser().split('-')) > 2 else ord(getpass.getuser()[0])\n",
    "print(f'SCIPER: {uid}')"
   ]
  },
  {
   "cell_type": "markdown",
   "metadata": {
    "deletable": false,
    "editable": false,
    "kernel": "SoS",
    "nbgrader": {
     "cell_type": "markdown",
     "checksum": "c44fef728f635880a1b27a03602411d2",
     "grade": false,
     "grade_id": "cell-9f52138bd6524e0b",
     "locked": true,
     "schema_version": 3,
     "solution": false,
     "task": false
    }
   },
   "source": [
    "### Imports\n",
    "In the next cell we import the python libraries that we will use throughout the lab, as well as the `ImageViewer` class (Python package developed specifically for these laboratories, see documentation [here](https://github.com/Biomedical-Imaging-Group/interactive-kit/wiki/Image-Viewer), or run the python command `help(viewer)` after loading the class):\n",
    "* [`matplotlib.pyplot`](https://matplotlib.org), to display images,\n",
    "* [`ipywidgets`](https://ipywidgets.readthedocs.io/en/latest/), to make the image display interactive, and\n",
    "* [`numpy`](https://numpy.org/doc/stable/reference), for mathematical operations on arrays.\n",
    "\n",
    "Finally, we load the images used in this lab. Note that we will use the [OpenCV](https://opencv.org/) library for loading the images, and then we will make sure that it is of type `float64`, for higher accuracy during operations. **Note that, while in the pixelwise operations lab we didn't need high accuracy, for transforms like the Fourier transform, as well as other transforms you will see in [IP2](https://moodle.epfl.ch/course/view.php?id=463), it is essential to have the highest accuracy available.**\n",
    "\n",
    "Run the next cell to get your notebook ready.\n",
    "<div class=\" alert alert-danger\">\n",
    "    \n",
    "<i>Note:</i> Always run the two import cells below before starting to work on the notebook.    \n",
    "</div>"
   ]
  },
  {
   "cell_type": "code",
   "execution_count": 2,
   "metadata": {
    "deletable": false,
    "editable": false,
    "kernel": "SoS",
    "nbgrader": {
     "cell_type": "code",
     "checksum": "3f305b5a3305d5d0ea7348bd5d669cab",
     "grade": false,
     "grade_id": "cell-7ebcf2f0631aad5a",
     "locked": true,
     "schema_version": 3,
     "solution": false,
     "task": false
    }
   },
   "outputs": [],
   "source": [
    "# Configure plotting as dynamic\n",
    "%matplotlib widget\n",
    "\n",
    "# Import required packages for this lab\n",
    "import matplotlib.pyplot as plt\n",
    "import ipywidgets as widgets\n",
    "import numpy as np\n",
    "import cv2 as cv\n",
    "from interactive_kit import imviewer as viewer\n",
    "\n",
    "# Loading images\n",
    "joux = cv.imread(\"images/joux.tif\", cv.IMREAD_UNCHANGED).astype('float64')\n",
    "car = cv.imread(\"images/car_pad.tif\", cv.IMREAD_UNCHANGED).astype('float64')\n",
    "mandrill = cv.imread(\"images/mandrill.tif\", cv.IMREAD_UNCHANGED).astype('float64')\n",
    "impulse = np.zeros((65,65)); impulse[32,32] = 1;\n",
    "pens = cv.imread(\"images/pens.tif\", cv.IMREAD_UNCHANGED).astype('float64')\n",
    "zebra = cv.imread(\"images/zebra.tif\", cv.IMREAD_UNCHANGED).astype('float64')"
   ]
  },
  {
   "cell_type": "markdown",
   "metadata": {
    "deletable": false,
    "editable": false,
    "kernel": "SoS",
    "nbgrader": {
     "cell_type": "markdown",
     "checksum": "1afd8b61f751401094106b9c31e3ce82",
     "grade": false,
     "grade_id": "cell-9584117c30781c3d",
     "locked": true,
     "schema_version": 3,
     "solution": false,
     "task": false
    }
   },
   "source": [
    "# The Fourier transform (7 points)\n",
    "\n",
    "In this second part we will look at the 2D discrete Fourier transform (abbreviated as *DFT*), what it represents, and how an image can be reconstructed from its 2D discrete Fourier transform by using the inverse discrete Fourier transform (*iDFT*). First, you will:\n",
    " * understand the effects of the elements in an image on its Fourier transform (*FT*), and then\n",
    " * understand how an image is reconstructed from its FT using the inverse Fourier transform (*iFT*). \n",
    "\n",
    "In this part of the lab we will only use Python, since implementing a *FT* in a low level language is beyond the scope of this course. To compute the FT in Python, we will use the [`fft` module](https://numpy.org/doc/stable/reference/routines.fft.html) in NumPy, which implements the *FT* using a [fast Fourier transform (FFT)](https://en.wikipedia.org/wiki/Fast_Fourier_transform) algorithm.\n",
    "\n",
    "## <a id=\"ToC_2_Fourier_transform\"></a>Table of contents\n",
    "\n",
    "1. [Understanding the Fourier transform and its inverse](#1.-Understanding-the-Fourier-transform-and-its-inverse-(4-points)) **(4 points)**\n",
    "2. [Reconstruction of an image](#2.-Reconstruction-of-an-image-(3-points)) **(3 points)**\n",
    "    1. [Reconstruction error](#2.A.-Reconstruction-error-(1-point))\n",
    "    2. [Fourier components](#2.B.-Fourier-components-(1-point))"
   ]
  },
  {
   "cell_type": "markdown",
   "metadata": {
    "deletable": false,
    "editable": false,
    "kernel": "Python3",
    "nbgrader": {
     "cell_type": "markdown",
     "checksum": "8c4059c549495a1243c32cacb7eb8735",
     "grade": false,
     "grade_id": "cell-8f718308c0429f7e",
     "locked": true,
     "schema_version": 3,
     "solution": false,
     "task": false
    }
   },
   "source": [
    "Take some time to explore the images you will be using. Run the next cell and look at the histograms, the range of values, etc.\n",
    "<div class=\"alert alert-info\">\n",
    "    \n",
    "<b>Hint:</b> Use the buttons <code>Prev</code>/<code>Next</code> to cycle through the images.\n",
    "</div>"
   ]
  },
  {
   "cell_type": "code",
   "execution_count": 3,
   "metadata": {
    "deletable": false,
    "editable": false,
    "kernel": "SoS",
    "nbgrader": {
     "cell_type": "code",
     "checksum": "88641f052bec98805e2355a4d5276d49",
     "grade": false,
     "grade_id": "cell-40e70c87a9f21f8b",
     "locked": true,
     "schema_version": 3,
     "solution": false,
     "task": false
    }
   },
   "outputs": [
    {
     "data": {
      "application/vnd.jupyter.widget-view+json": {
       "model_id": "9e57398f4b374bf0b5fc477ce0c4a10e",
       "version_major": 2,
       "version_minor": 0
      },
      "text/plain": [
       "HBox(children=(Output(layout=Layout(width='80%')), Output(), Output(layout=Layout(width='25%'))))"
      ]
     },
     "metadata": {},
     "output_type": "display_data"
    }
   ],
   "source": [
    "# Define the list of images\n",
    "image_list = [joux, car, mandrill, impulse, pens, zebra]\n",
    "# Display all images used in this lab\n",
    "initial_viewer = viewer(image_list, hist = True)"
   ]
  },
  {
   "cell_type": "markdown",
   "metadata": {
    "deletable": false,
    "editable": false,
    "kernel": "Python3",
    "nbgrader": {
     "cell_type": "markdown",
     "checksum": "34683884121b70fa45e8f1d03fb93bac",
     "grade": false,
     "grade_id": "cell-be46dd7a6139a1e4",
     "locked": true,
     "schema_version": 3,
     "solution": false,
     "task": false
    }
   },
   "source": [
    "# 1. Understanding the Fourier transform and its inverse (4 points)\n",
    "[Back to table of contents](#ToC_2_Fourier_transform)\n",
    "\n",
    "First, we will provide the functions `fourier(img)` and `inverse_fourier(ft)`, which calculate the FT and the IFT respectively.\n",
    "\n",
    "<div class=\"alert alert-info\">\n",
    "<b>Note:</b> We will make use of the following <i>NumPy</i> functions:\n",
    "<ul>\n",
    "<li><a href='https://numpy.org/doc/stable/reference/generated/numpy.fft.fft2.html'><code>np.fft.fft2(img)</code></a> calculates the two-dimensional FT of <code>img</code>,</li>\n",
    "<li><a href='https://numpy.org/doc/stable/reference/generated/numpy.fft.fftshift.html#numpy.fft.fftshift'><code>np.fft.fftshift(ft)</code></a> shifts the frequency range of the FT <code>ft</code> from $[0, \\pi]$ to $[-\\frac{\\pi}{2}, \\frac{\\pi}{2}]$,</li>\n",
    "<li><a href='https://numpy.org/doc/stable/reference/generated/numpy.fft.ifft2.html#numpy.fft.ifft2'><code>np.fft.ifft2(ft)</code></a> calculates the inverse FT of the two-dimensional FT <code>ft</code>.</li>\n",
    "</ul>in the wrappers <code>fourier</code> and <code>inverse_fourier</code>. Make sure to understand how we use the <code>numpy.fft</code> module.\n",
    "</div>"
   ]
  },
  {
   "cell_type": "code",
   "execution_count": 4,
   "metadata": {
    "deletable": false,
    "editable": false,
    "kernel": "SoS",
    "nbgrader": {
     "cell_type": "code",
     "checksum": "59194514fdfe9169b09e729566b52f04",
     "grade": false,
     "grade_id": "cell-3e4d343d619b0837",
     "locked": true,
     "schema_version": 3,
     "solution": false,
     "task": false
    }
   },
   "outputs": [],
   "source": [
    "# Function that returns the FT\n",
    "def fourier(img):\n",
    "    # Generate the FT\n",
    "    ft = np.fft.fft2(img)\n",
    "    # Shift the frequency range to [-pi/2, pi/2] \n",
    "    shift_ft = np.fft.fftshift(ft)\n",
    "    return shift_ft\n",
    "\n",
    "# Function that return the inverse FT\n",
    "def inverse_fourier(ft):\n",
    "    # Shift the FT back to [0, pi]\n",
    "    ft = np.fft.ifftshift(ft)\n",
    "    # Get the inverse FT\n",
    "    ift = np.fft.ifft2(ft)\n",
    "    # Clip the imaginary part of the reconstruction\n",
    "    # (should be approximately zero anyway)\n",
    "    ift = np.real(ift)\n",
    "    return ift"
   ]
  },
  {
   "cell_type": "markdown",
   "metadata": {
    "deletable": false,
    "editable": false,
    "kernel": "SoS",
    "nbgrader": {
     "cell_type": "markdown",
     "checksum": "77fcd0e421527e26af2311a79f5bd52e",
     "grade": false,
     "grade_id": "cell-9f1d3140cb97f16b",
     "locked": true,
     "schema_version": 3,
     "solution": false,
     "task": false
    }
   },
   "source": [
    "As you know, calculating the FT of an image generates a two-dimensional array (image) of complex values, which makes it challenging to find a good visualization. Therefore, we usually extract the **magnitude** and **phase** of the complex numbers, which are much easier to deal with and present useful information. Remember that the magnitude of a complex number $z\\in\\mathbb{C}$ is given by\n",
    "$$|z| = \\sqrt{\\operatorname{Re}(z)^2+\\operatorname{Im}(z)^2}.$$\n",
    "\n",
    "Furthermore, we usually visualize this magnitude in dB, i.e., \n",
    "\n",
    "$$|z|~[\\mathrm{dB}] = 10\\log_{10}\\left(|z|^2\\right).$$\n",
    "\n",
    "One of the reasons for this is that the variations in the magnitude of the Fourier transform generally span very different ranges, from the very small to the very large, and the $\\log(\\cdot)$ transformation allows us to visualize both in the same image.\n",
    "\n",
    "To do this, you will first define the function `magnitude(ft)`, which should return **the magnitude in decibels (`dB`)** of a FT given as an input parameter. For **1 point**, complete the function `magnitude(ft)` in the cell below according to the equation given above.\n",
    "\n",
    "<div class=\"alert alert-info\">\n",
    "\n",
    "<b>Hints:</b>\n",
    "\n",
    "<li> With NumPy, you can extract the <b>real</b> part of a complex variable <code>z</code> using <a href=\"https://numpy.org/doc/stable/reference/generated/numpy.real.html\" ><code>np.real(z)</code></a> and the <b>imaginary</b> part using <a href=\"https://numpy.org/doc/stable/reference/generated/numpy.imag.html\" ><code>np.imag(z)</code></a>,</li>\n",
    "<li> if you need it, use <a href=\"https://numpy.org/doc/stable/reference/generated/numpy.sqrt.html\" ><code>np.sqrt(x)</code></a> to get the square root of <code>x</code>,</li>\n",
    "<li> use <a href=\"https://numpy.org/doc/stable/reference/generated/numpy.log10.html\" ><code>np.log10(x)</code></a> to get the base-10 logarithm of <code>x</code>.</li>\n",
    "</div>\n",
    "\n",
    "<div class=\"alert alert-danger\">\n",
    "<b>Warning:</b> Using <code>np.absolute</code> in this exercise will give you <b>0 points</b>! We want you to implement the function yourself.\n",
    "</div>"
   ]
  },
  {
   "cell_type": "code",
   "execution_count": 9,
   "metadata": {
    "deletable": false,
    "kernel": "SoS",
    "nbgrader": {
     "cell_type": "code",
     "checksum": "e396de6d27009d2c599756739385d40d",
     "grade": false,
     "grade_id": "ans-7078161896540164",
     "locked": false,
     "schema_version": 3,
     "solution": true,
     "task": false
    }
   },
   "outputs": [],
   "source": [
    "# Function that returns the magnitude of the FT in dB\n",
    "def magnitude(ft):\n",
    "    # Initialize the output to 0\n",
    "    output = None\n",
    "    \n",
    "    # Apply the magnitude function of ft, and transform the result into dB\n",
    "    output = 10 * np.log10(np.power(np.real(ft), 2) + np.power(np.imag(ft), 2))\n",
    "    \n",
    "    # Return the output\n",
    "    return output"
   ]
  },
  {
   "cell_type": "code",
   "execution_count": 10,
   "metadata": {
    "deletable": false,
    "editable": false,
    "kernel": "SoS",
    "nbgrader": {
     "cell_type": "code",
     "checksum": "fa3f94dc953dc29aa4e4bb196471a3da",
     "grade": true,
     "grade_id": "grad-aab6c96c21ed9da9",
     "locked": true,
     "points": 1,
     "schema_version": 3,
     "solution": false,
     "task": false
    }
   },
   "outputs": [
    {
     "name": "stdout",
     "output_type": "stream",
     "text": [
      "Nice, your magnitude function passed the basic sanity check!\n"
     ]
    }
   ],
   "source": [
    "# Let's do a sanity check\n",
    "# The complex number used for the test which has a magnitude of ~3 dB\n",
    "z = 1 + 1j\n",
    "# Check that the magnitude function is correct\n",
    "if np.round(magnitude(z), decimals=1) == 3.0:\n",
    "    print(\"Nice, your magnitude function passed the basic sanity check!\")\n",
    "else:\n",
    "    print(\"Something isn't quite right yet.\")"
   ]
  },
  {
   "cell_type": "markdown",
   "metadata": {
    "deletable": false,
    "editable": false,
    "kernel": "SoS",
    "nbgrader": {
     "cell_type": "markdown",
     "checksum": "3000c90c2413626d9ad489d133584f0b",
     "grade": false,
     "grade_id": "cell-e83793b000b52116",
     "locked": true,
     "schema_version": 3,
     "solution": false,
     "task": false
    }
   },
   "source": [
    "Now, we will define a function to calculate the phase of the *FT*. For this we define the function `phase(ft)`, which takes as argument an *FT* and returns its phase.\n",
    "\n",
    "Remember that the phase of a complex number $z$ is given by\n",
    "$$\\angle(z)=\\arctan\\left(\\frac{\\operatorname{Im}(z)}{\\operatorname{Re}(z)}\\right)\\,.$$\n",
    "\n",
    "For **0.5 points**, complete the function `phase(ft)` in the cell below according to the equation given above.\n",
    "\n",
    "<div class=\"alert alert-info\">\n",
    "<b>Hint:</b> Use <a href=\"https://numpy.org/doc/stable/reference/generated/numpy.arctan2.html\" ><code>np.arctan2(x1, x2)</code></a> to calculate the $\\arctan\\left(\\frac{x_1}{x_2}\\right)$. This function even chooses the corresponding quadrant for you, so you do not need to check for negative angles.\n",
    "</div>\n",
    "<div class=\"alert alert-danger\">\n",
    "<b>Warning:</b> Using <code>np.angle</code> in this exercise will give you <b>0 points</b>! Implement the function yourself.\n",
    "</div>"
   ]
  },
  {
   "cell_type": "code",
   "execution_count": 11,
   "metadata": {
    "deletable": false,
    "kernel": "SoS",
    "nbgrader": {
     "cell_type": "code",
     "checksum": "e442f3dd7e813afd8363f146dfee6cc6",
     "grade": false,
     "grade_id": "ans-63a15ac76c7b5d69",
     "locked": false,
     "schema_version": 3,
     "solution": true,
     "task": false
    }
   },
   "outputs": [],
   "source": [
    "# Function that calculates the phase of complex numbers\n",
    "def phase(ft):\n",
    "    # Initialize output variable\n",
    "    output = None\n",
    "    \n",
    "    # YOUR CODE HERE\n",
    "    output = np.arctan2(np.imag(ft), np.real(ft))\n",
    "    \n",
    "    return output"
   ]
  },
  {
   "cell_type": "code",
   "execution_count": 12,
   "metadata": {
    "deletable": false,
    "editable": false,
    "kernel": "SoS",
    "nbgrader": {
     "cell_type": "code",
     "checksum": "8b05001c89a705579434d6bf0d9160f2",
     "grade": true,
     "grade_id": "grad-9ae7daa14c45d818",
     "locked": true,
     "points": 1,
     "schema_version": 3,
     "solution": false,
     "task": false
    }
   },
   "outputs": [
    {
     "name": "stdout",
     "output_type": "stream",
     "text": [
      "Nice, your phase function passed the sanity check!\n"
     ]
    }
   ],
   "source": [
    "# Let's do a sanity check\n",
    "# The complex number used for the test which has a phase of pi/4\n",
    "z = 1 + 1j\n",
    "# Check that the magnitude function is correct\n",
    "if phase(z) == np.pi/4:\n",
    "    print(\"Nice, your phase function passed the sanity check!\")\n",
    "else:\n",
    "    print(\"Something isn't quite right yet.\")"
   ]
  },
  {
   "cell_type": "markdown",
   "metadata": {
    "deletable": false,
    "editable": false,
    "kernel": "SoS",
    "nbgrader": {
     "cell_type": "markdown",
     "checksum": "ce1ca65ef2f309c692a192ed1f8f643b",
     "grade": false,
     "grade_id": "cell-133e10af0d745e6b",
     "locked": true,
     "schema_version": 3,
     "solution": false,
     "task": false
    }
   },
   "source": [
    "Now, let's look at the resuts of the functions you just coded. For this we will apply the *FT* to the image `car`, calculate its magnitude and phase, and visualize the results as images. \n",
    "\n",
    "Run the next cell to see the magnitude and phase of the *FT* of `car`.\n",
    "\n",
    "</div>\n",
    "<div class=\"alert alert-success\">\n",
    "<b>Hint:</b> If you don't see the phase of the image, use the sliding bar to slide to the right. You can also use <code>Ctrl + b</code> to hide the left sidebar of JupyterLab. \n",
    "\n",
    "If everything went well you should see:\n",
    "<ul><li>For the magnitude: a diagonal cross in the center with stars spread over the image, and</li>\n",
    "<li>For the phase: random noise, cut by a near vertical line and a few other straight lines.</li>\n",
    "</ul>\n",
    "</div>"
   ]
  },
  {
   "cell_type": "code",
   "execution_count": 13,
   "metadata": {
    "deletable": false,
    "editable": false,
    "kernel": "SoS",
    "nbgrader": {
     "cell_type": "code",
     "checksum": "53d9aa74a2f70e9674d35ca0d2f061e2",
     "grade": false,
     "grade_id": "cell-eaa553653ffc69a1",
     "locked": true,
     "schema_version": 3,
     "solution": false,
     "task": false
    }
   },
   "outputs": [
    {
     "data": {
      "application/vnd.jupyter.widget-view+json": {
       "model_id": "70a85d6c49c34d96b827bec56645b381",
       "version_major": 2,
       "version_minor": 0
      },
      "text/plain": [
       "HBox(children=(Output(layout=Layout(width='80%')), Output(), Output(layout=Layout(width='25%'))))"
      ]
     },
     "metadata": {},
     "output_type": "display_data"
    },
    {
     "data": {
      "application/vnd.jupyter.widget-view+json": {
       "model_id": "",
       "version_major": 2,
       "version_minor": 0
      },
      "text/plain": [
       "Button(description='Show Widgets', style=ButtonStyle())"
      ]
     },
     "metadata": {},
     "output_type": "display_data"
    }
   ],
   "source": [
    "# Generate the FT of car\n",
    "car_ft = fourier(car)\n",
    "# Calculate the magnitude\n",
    "car_ft_mag = magnitude(car_ft)\n",
    "# Calculate the phase\n",
    "car_ft_ph = phase(car_ft)\n",
    "# Visualize the two together with the original image\n",
    "plt.close('all')\n",
    "ft_vis = viewer([car, car_ft_mag, car_ft_ph], title=['Car', 'Car FT magnitude', 'Car FT phase'], subplots=(1,3))"
   ]
  },
  {
   "cell_type": "markdown",
   "metadata": {
    "deletable": false,
    "editable": false,
    "kernel": "Python3",
    "nbgrader": {
     "cell_type": "markdown",
     "checksum": "bba54a7c89436f4d8b43a2c510a7b19c",
     "grade": false,
     "grade_id": "cell-82c4152b3417a148",
     "locked": true,
     "schema_version": 3,
     "solution": false,
     "task": false
    }
   },
   "source": [
    "### Multiple Choice Questions \n",
    "The following questions will test your understanding of the relationship of an image with its FT **magnitude**. The first two will ask about the image `car`, and the second two will ask about the image `pens`. Each MC question is worth **0.5 points**. As usual, we will include a cell for you to change your answer (in the variable `answer`) and a cell to check that you chose one of the possible answers. \n",
    "\n",
    "Run the next cell to visualize the images `pens` and `car` together with their FT magnitudes and answer the upcoming questions."
   ]
  },
  {
   "cell_type": "code",
   "execution_count": 14,
   "metadata": {
    "deletable": false,
    "editable": false,
    "kernel": "SoS",
    "nbgrader": {
     "cell_type": "code",
     "checksum": "3319dd44bae9cf083190b397d5381d14",
     "grade": false,
     "grade_id": "cell-b5b291649ebc0eb0",
     "locked": true,
     "schema_version": 3,
     "solution": false,
     "task": false
    }
   },
   "outputs": [
    {
     "data": {
      "application/vnd.jupyter.widget-view+json": {
       "model_id": "c3d8e6d0d76049dda6ccfe299904afb7",
       "version_major": 2,
       "version_minor": 0
      },
      "text/plain": [
       "HBox(children=(Output(layout=Layout(width='80%')), Output(), Output(layout=Layout(width='25%'))))"
      ]
     },
     "metadata": {},
     "output_type": "display_data"
    },
    {
     "data": {
      "application/vnd.jupyter.widget-view+json": {
       "model_id": "bda458e0c59648e2a8f9d54e075edf04",
       "version_major": 2,
       "version_minor": 0
      },
      "text/plain": [
       "Button(description='Show Widgets', style=ButtonStyle())"
      ]
     },
     "metadata": {},
     "output_type": "display_data"
    }
   ],
   "source": [
    " # Get the FT magnitudes of the images using the fourier and magnitude functions\n",
    "car_ft  = magnitude(fourier(car))\n",
    "pens_ft = magnitude(fourier(pens))\n",
    "\n",
    "# Define the lits of images and names\n",
    "image_list = [car, car_ft, pens, pens_ft]\n",
    "title_list = ['Car', 'FT of Car', 'Pens', 'FT of Pens']\n",
    "\n",
    "# Display results\n",
    "plt.close('all')\n",
    "ft_viewer = viewer(image_list, title=title_list, subplots = [2, 2], colorbar = True)"
   ]
  },
  {
   "cell_type": "markdown",
   "metadata": {
    "deletable": false,
    "editable": false,
    "kernel": "Python3",
    "nbgrader": {
     "cell_type": "markdown",
     "checksum": "e79ddb90cd9f0ed5c1af844136f3fb7d",
     "grade": false,
     "grade_id": "cell-5a9789ef912c906f",
     "locked": true,
     "schema_version": 3,
     "solution": false,
     "task": false
    }
   },
   "source": [
    "* Q1: Where do the little stars at different distances from the center in the FT of `car` come from?\n",
    "    1. From the contour of the car.\n",
    "    2. From the driver.\n",
    "    3. From the carpet under the car.\n",
    "    4. From the details of the car (JAGUAR text, doors, steering wheel, etc).\n",
    "    5. From the size of the image.\n",
    "\n",
    "In the next cell, modify the variable `answer` to reflect your choice."
   ]
  },
  {
   "cell_type": "code",
   "execution_count": 23,
   "metadata": {
    "deletable": false,
    "kernel": "SoS",
    "nbgrader": {
     "cell_type": "code",
     "checksum": "fe4eae527c0ac7c4e248c4a338680df4",
     "grade": false,
     "grade_id": "ans-66af2208d33072da",
     "locked": false,
     "schema_version": 3,
     "solution": true,
     "task": false
    }
   },
   "outputs": [],
   "source": [
    "# Assign your answer to this variable\n",
    "answer = 3\n",
    "# YOUR CODE HERE"
   ]
  },
  {
   "cell_type": "code",
   "execution_count": 24,
   "metadata": {
    "deletable": false,
    "editable": false,
    "kernel": "SoS",
    "nbgrader": {
     "cell_type": "code",
     "checksum": "4511293783a05f49b22a206e6a8fc441",
     "grade": true,
     "grade_id": "grad-bda900129c0a32df",
     "locked": true,
     "points": 0.5,
     "schema_version": 3,
     "solution": false,
     "task": false
    }
   },
   "outputs": [],
   "source": [
    "assert answer in [1, 2, 3, 4, 5], 'Possible answers are 1, 2, 3, 4 and 5'"
   ]
  },
  {
   "cell_type": "markdown",
   "metadata": {
    "deletable": false,
    "editable": false,
    "kernel": "Python3",
    "nbgrader": {
     "cell_type": "markdown",
     "checksum": "bac3abb3e91f11cb43c5a9b4c67e549a",
     "grade": false,
     "grade_id": "cell-89a8354d6352e067",
     "locked": true,
     "schema_version": 3,
     "solution": false,
     "task": false
    }
   },
   "source": [
    "* Q2: Where do the two big intersecting lines in `car` come from? \n",
    "    1. From the contour of the car.\n",
    "    2. From the driver.\n",
    "    3. From the carpet under the car.\n",
    "    4. From the details of the car (JAGUAR text, doors, steering wheel, etc).\n",
    "    5. From the size of the image.\n",
    "\n",
    "In the next cell, modify the variable `answer` to reflect your choice."
   ]
  },
  {
   "cell_type": "code",
   "execution_count": 25,
   "metadata": {
    "deletable": false,
    "kernel": "SoS",
    "nbgrader": {
     "cell_type": "code",
     "checksum": "1685716ed548981a1fe8bbbe70907adc",
     "grade": false,
     "grade_id": "ans-4a92583fb39143e6",
     "locked": false,
     "schema_version": 3,
     "solution": true,
     "task": false
    }
   },
   "outputs": [],
   "source": [
    "# Assign your answer to this variable\n",
    "answer = 4\n",
    "# YOUR CODE HERE"
   ]
  },
  {
   "cell_type": "code",
   "execution_count": 26,
   "metadata": {
    "deletable": false,
    "editable": false,
    "kernel": "SoS",
    "nbgrader": {
     "cell_type": "code",
     "checksum": "3abd6f9d947c397429086bc5123aaa1f",
     "grade": true,
     "grade_id": "grad-ad16b9572b4fa684",
     "locked": true,
     "points": 0.5,
     "schema_version": 3,
     "solution": false,
     "task": false
    }
   },
   "outputs": [],
   "source": [
    "assert answer in [1, 2, 3, 4, 5], 'Valid answers are 1, 2, 3, 4, and 5'"
   ]
  },
  {
   "cell_type": "markdown",
   "metadata": {
    "deletable": false,
    "editable": false,
    "kernel": "Python3",
    "nbgrader": {
     "cell_type": "markdown",
     "checksum": "55073cc91eed315e37286e839a0a35bd",
     "grade": false,
     "grade_id": "cell-7ef1a6f54162f8ca",
     "locked": true,
     "schema_version": 3,
     "solution": false,
     "task": false
    }
   },
   "source": [
    "* Q3: Why is there only one main line in the FT of `pens`, if there are two pens?\n",
    "    1. Because the background is constant.\n",
    "    2. Because they are ballpoint pens and not fountain pens.\n",
    "    3. Because the two pens are aligned.\n",
    "    4. Because the two pens are close to each other.\n",
    "\n",
    "In the next cell, modify the variable `answer` to reflect your choice."
   ]
  },
  {
   "cell_type": "code",
   "execution_count": 27,
   "metadata": {
    "deletable": false,
    "kernel": "SoS",
    "nbgrader": {
     "cell_type": "code",
     "checksum": "0a637fd23b9cb4c301eef40b4ec963a1",
     "grade": false,
     "grade_id": "ans-b97ff3156f3b6688",
     "locked": false,
     "schema_version": 3,
     "solution": true,
     "task": false
    }
   },
   "outputs": [],
   "source": [
    "# Assign your answer to this variable\n",
    "answer = 3\n",
    "# YOUR CODE HERE"
   ]
  },
  {
   "cell_type": "code",
   "execution_count": 28,
   "metadata": {
    "deletable": false,
    "editable": false,
    "kernel": "SoS",
    "nbgrader": {
     "cell_type": "code",
     "checksum": "beca22735119bb229b78c6f3f4748f07",
     "grade": true,
     "grade_id": "grad-b5234dc1b8b8bafa",
     "locked": true,
     "points": 0.5,
     "schema_version": 3,
     "solution": false,
     "task": false
    }
   },
   "outputs": [],
   "source": [
    "assert answer in [1, 2, 3, 4], 'Valid answers are 1, 2, 3 or 4'"
   ]
  },
  {
   "cell_type": "markdown",
   "metadata": {
    "deletable": false,
    "editable": false,
    "kernel": "Python3",
    "nbgrader": {
     "cell_type": "markdown",
     "checksum": "ad609b53d28318b1a99499e3a791c4ab",
     "grade": false,
     "grade_id": "cell-0943d62710d73c80",
     "locked": true,
     "schema_version": 3,
     "solution": false,
     "task": false
    }
   },
   "source": [
    "* Q4: Why is the main line in the *FT* not aligned with the pens? \n",
    "\n",
    "    1. The frequency of a contour is perpendicular to the contour. \n",
    "    2. The main periodicity in the image is *parallel* to the pens because they have rough surfaces.\n",
    "    3. The `viewer` rotates the FT.\n",
    "    4. Numpy rotates the FT.\n",
    "\n",
    "In the next cell, modify the variable `answer` to reflect your choice."
   ]
  },
  {
   "cell_type": "code",
   "execution_count": 29,
   "metadata": {
    "deletable": false,
    "kernel": "SoS",
    "nbgrader": {
     "cell_type": "code",
     "checksum": "7f62cfe3e8966a3f4314d0d245e259ca",
     "grade": false,
     "grade_id": "ans-8414e8b6a1607a1e",
     "locked": false,
     "schema_version": 3,
     "solution": true,
     "task": false
    }
   },
   "outputs": [],
   "source": [
    "# Assign your answer to this variable\n",
    "answer = 1\n",
    "# YOUR CODE HERE"
   ]
  },
  {
   "cell_type": "code",
   "execution_count": 30,
   "metadata": {
    "deletable": false,
    "editable": false,
    "kernel": "SoS",
    "nbgrader": {
     "cell_type": "code",
     "checksum": "f83b6f03ce2cb37f22df6db0e26bbd85",
     "grade": true,
     "grade_id": "grad-a59ca821abb77062",
     "locked": true,
     "points": 0.5,
     "schema_version": 3,
     "solution": false,
     "task": false
    },
    "tags": []
   },
   "outputs": [],
   "source": [
    "assert answer in [1, 2, 3, 4, 5], 'Valid answers are 1, 2, 3, 4 and 5'"
   ]
  },
  {
   "cell_type": "markdown",
   "metadata": {
    "deletable": false,
    "editable": false,
    "kernel": "Python3",
    "nbgrader": {
     "cell_type": "markdown",
     "checksum": "97108e97b27f34a70bf07650982dd2f8",
     "grade": false,
     "grade_id": "cell-fa915af9bcffb903",
     "locked": true,
     "schema_version": 3,
     "solution": false,
     "task": false
    }
   },
   "source": [
    "# 2. Reconstruction of an image (3 points)\n",
    "[Back to table of contents](#ToC_2_Fourier_transform)\n",
    "\n",
    "As you learned in the course, it is possible to reconstruct an image from its Fourier transform by performing the inverse Fourier transform. In the next exercise we will investigate the role that the magnitude and phase of the *FT* has on the reconstruction of an image. For this we first need to create a function that reconstructs an image from its *FT* magnitude (in $\\mathrm{dB}$) and phase. Run the next cell to define the function `reconstruct` and make sure that you understand every line of the code."
   ]
  },
  {
   "cell_type": "code",
   "execution_count": 31,
   "metadata": {
    "deletable": false,
    "editable": false,
    "kernel": "SoS",
    "nbgrader": {
     "cell_type": "code",
     "checksum": "6a474ac4f92693ec17714d8dfd280196",
     "grade": false,
     "grade_id": "cell-135e619da9bddb99",
     "locked": true,
     "schema_version": 3,
     "solution": false,
     "task": false
    }
   },
   "outputs": [],
   "source": [
    "# Function that reconstructs an image from its FT magnitude (in dB) and phase\n",
    "def reconstruct(mag, ph):\n",
    "    # Since the magnitude is in dB we first need to convert it back\n",
    "    mag = 10 ** (mag / 20)\n",
    "    # Now we can restore the complex FT from the magnitude and phase using the polar representation\n",
    "    ft = mag * np.exp(1j * ph)\n",
    "    # Having the complex FT we can simply use the inverse_fourier function that we defined above to reconstruct the image\n",
    "    return inverse_fourier(ft)"
   ]
  },
  {
   "cell_type": "markdown",
   "metadata": {
    "deletable": false,
    "editable": false,
    "kernel": "SoS",
    "nbgrader": {
     "cell_type": "markdown",
     "checksum": "a97544d139c0c8543fd6baa099987725",
     "grade": false,
     "grade_id": "cell-760695d66a5c92a8",
     "locked": true,
     "schema_version": 3,
     "solution": false,
     "task": false
    }
   },
   "source": [
    "Let's see if the function works. Run the cell below to reconstruct the car image from its magnitude and phase, and visualize the result. \n",
    "\n",
    "<div class = 'alert alert-warning'>\n",
    "<b>Warning:</b> If the reconstruction is not near perfect, check again your functions <code>magnitude</code> and <code>phase</code>. You will need both functions to answer the next questions. \n",
    "</div>"
   ]
  },
  {
   "cell_type": "code",
   "execution_count": 32,
   "metadata": {
    "deletable": false,
    "editable": false,
    "kernel": "SoS",
    "nbgrader": {
     "cell_type": "code",
     "checksum": "fdd0a4b53487acc7de6a592d63306fb7",
     "grade": false,
     "grade_id": "cell-d3de1befc78e32cc",
     "locked": true,
     "schema_version": 3,
     "solution": false,
     "task": false
    }
   },
   "outputs": [
    {
     "data": {
      "application/vnd.jupyter.widget-view+json": {
       "model_id": "c2609d2ba6d746778354b3310c10cda8",
       "version_major": 2,
       "version_minor": 0
      },
      "text/plain": [
       "HBox(children=(Output(layout=Layout(width='80%')), Output(), Output(layout=Layout(width='25%'))))"
      ]
     },
     "metadata": {},
     "output_type": "display_data"
    },
    {
     "data": {
      "application/vnd.jupyter.widget-view+json": {
       "model_id": "",
       "version_major": 2,
       "version_minor": 0
      },
      "text/plain": [
       "Button(description='Show Widgets', style=ButtonStyle())"
      ]
     },
     "metadata": {},
     "output_type": "display_data"
    }
   ],
   "source": [
    "# Reconstruct the car image\n",
    "car_reconstructed = reconstruct(car_ft_mag, car_ft_ph)\n",
    "# Display the result\n",
    "plt.close('all')\n",
    "ft_rec_vis = viewer([car, car_reconstructed], title=['Original car', 'Reconstructed car'], subplots=(1,2))\n",
    "np.testing.assert_array_almost_equal(car, car_reconstructed, err_msg='Check again your magnitude and phase functions!')"
   ]
  },
  {
   "cell_type": "markdown",
   "metadata": {
    "deletable": false,
    "editable": false,
    "kernel": "SoS",
    "nbgrader": {
     "cell_type": "markdown",
     "checksum": "ebe893553994a3c04a55407138a7bc6c",
     "grade": false,
     "grade_id": "cell-725bb93760893450",
     "locked": true,
     "schema_version": 3,
     "solution": false,
     "task": false
    }
   },
   "source": [
    "Since we didn't make any changes to the *FT* before the reconstruction, the reconstructed image should be (almost) identical to the original image (if it's not you should have seen an error message). \n",
    "\n",
    "For the next excercise we will use the `mandrill` image in addition to the car image. Run the next cell to visualize it again. Moreover, we will plot its *FT*'s magnitude and phase (browse through the images with the buttons `Next` & `Prev`). This will help you to answer the upcoming questions."
   ]
  },
  {
   "cell_type": "code",
   "execution_count": 33,
   "metadata": {
    "deletable": false,
    "editable": false,
    "kernel": "SoS",
    "nbgrader": {
     "cell_type": "code",
     "checksum": "1d6e85f5c9e62840b590b76bbb9441e2",
     "grade": false,
     "grade_id": "cell-f2671c4dcbeb39a8",
     "locked": true,
     "schema_version": 3,
     "solution": false,
     "task": false
    }
   },
   "outputs": [
    {
     "data": {
      "application/vnd.jupyter.widget-view+json": {
       "model_id": "2352e84ef3ba4aea97301c0175d3b443",
       "version_major": 2,
       "version_minor": 0
      },
      "text/plain": [
       "HBox(children=(Output(layout=Layout(width='80%')), Output(), Output(layout=Layout(width='25%'))))"
      ]
     },
     "metadata": {},
     "output_type": "display_data"
    }
   ],
   "source": [
    "# Generate FT of the mandrill image\n",
    "mandrill_ft = fourier(mandrill)\n",
    "# Extract the magnitude and phase\n",
    "mandrill_ft_mag = magnitude(mandrill_ft)\n",
    "mandrill_ft_ph = phase(mandrill_ft)\n",
    "\n",
    "# Visualize\n",
    "plt.close('all')\n",
    "mandrill_vis = viewer([mandrill, mandrill_ft_mag, mandrill_ft_ph], widgets=True)"
   ]
  },
  {
   "cell_type": "markdown",
   "metadata": {
    "deletable": false,
    "editable": false,
    "kernel": "SoS",
    "nbgrader": {
     "cell_type": "markdown",
     "checksum": "b1a155e102d048242ca24085147f8022",
     "grade": false,
     "grade_id": "cell-3632f02d41668d81",
     "locked": true,
     "schema_version": 3,
     "solution": false,
     "task": false
    }
   },
   "source": [
    "Now lets see what happens if we use the magnitude of one image and the phase of another image to do the reconstruction. What do you think will happen? Run the cell below and observe the results. Try to make a conclusion on what type of information is stored in the phase of the *FT*."
   ]
  },
  {
   "cell_type": "code",
   "execution_count": 34,
   "metadata": {
    "deletable": false,
    "editable": false,
    "kernel": "SoS",
    "nbgrader": {
     "cell_type": "code",
     "checksum": "03e66a6ca9d2733712f86c8960aaab5e",
     "grade": false,
     "grade_id": "cell-edfa23d685d4fef9",
     "locked": true,
     "schema_version": 3,
     "solution": false,
     "task": false
    }
   },
   "outputs": [
    {
     "data": {
      "application/vnd.jupyter.widget-view+json": {
       "model_id": "0e35059866a74ee187a06b88a3d77102",
       "version_major": 2,
       "version_minor": 0
      },
      "text/plain": [
       "HBox(children=(Output(layout=Layout(width='80%')), Output(), Output(layout=Layout(width='25%'))))"
      ]
     },
     "metadata": {},
     "output_type": "display_data"
    },
    {
     "data": {
      "application/vnd.jupyter.widget-view+json": {
       "model_id": "456fd1685edc4f66ad9f0dc73c435a0a",
       "version_major": 2,
       "version_minor": 0
      },
      "text/plain": [
       "Button(description='Show Widgets', style=ButtonStyle())"
      ]
     },
     "metadata": {},
     "output_type": "display_data"
    }
   ],
   "source": [
    "# Reconstruct an image with the magnitude of car and phase of mandrill\n",
    "car_mandrill = reconstruct(car_ft_mag, mandrill_ft_ph)\n",
    "# Reconstruct an image with the magnitude of mandrill and phase of car\n",
    "mandrill_car = reconstruct(mandrill_ft_mag, car_ft_ph)\n",
    "# Visualize the results\n",
    "plt.close('all')\n",
    "rec_comp_vis = viewer([car_mandrill, mandrill_car], title=['Magn. = car, Phase = mandrill', 'Magn. = mandrill, Phase = car'], subplots=(1,2))"
   ]
  },
  {
   "cell_type": "markdown",
   "metadata": {
    "deletable": false,
    "editable": false,
    "kernel": "SoS",
    "nbgrader": {
     "cell_type": "markdown",
     "checksum": "457bff3073d0b15e89164af5ba2ce681",
     "grade": false,
     "grade_id": "cell-ba7b60defd1c42b0",
     "locked": true,
     "schema_version": 3,
     "solution": false,
     "task": false
    }
   },
   "source": [
    "### Multiple choice question\n",
    "\n",
    "What type of information of the image is stored in the **phase** of the FT that is **not stored** in the magnitude? (**0.5 points**)\n",
    "\n",
    "1. The spacial frequencies contained in the image.\n",
    "2. The light intensity of each pixel.\n",
    "3. The location and shape of objects in the image.\n",
    "\n",
    "Modify the variable `answer`in the next cell to reflect your choice. The second cell is for you to check that you have entered a valid answer."
   ]
  },
  {
   "cell_type": "code",
   "execution_count": 35,
   "metadata": {
    "deletable": false,
    "kernel": "SoS",
    "nbgrader": {
     "cell_type": "code",
     "checksum": "1669be8b9f5cd78fa45b864af90576c1",
     "grade": false,
     "grade_id": "ans-7e7c03216cfd90a0",
     "locked": false,
     "schema_version": 3,
     "solution": true,
     "task": false
    }
   },
   "outputs": [],
   "source": [
    "# Assign your answer to this variable\n",
    "answer = 3\n",
    "# YOUR CODE HERE"
   ]
  },
  {
   "cell_type": "code",
   "execution_count": 36,
   "metadata": {
    "deletable": false,
    "editable": false,
    "kernel": "SoS",
    "nbgrader": {
     "cell_type": "code",
     "checksum": "af88361c19fea37c04b3d5f777aeb198",
     "grade": true,
     "grade_id": "grad-5da443479b1400ff",
     "locked": true,
     "points": 1,
     "schema_version": 3,
     "solution": false,
     "task": false
    }
   },
   "outputs": [],
   "source": [
    "# Sanity check\n",
    "assert answer in [1, 2, 3], 'Valid answers are 1, 2 or 3'"
   ]
  },
  {
   "cell_type": "markdown",
   "metadata": {
    "deletable": false,
    "editable": false,
    "kernel": "Python3",
    "nbgrader": {
     "cell_type": "markdown",
     "checksum": "9e4acc59e5816bdb1ddb71ffe5da6b42",
     "grade": false,
     "grade_id": "cell-9a92d5cbd8420331",
     "locked": true,
     "schema_version": 3,
     "solution": false,
     "task": false
    }
   },
   "source": [
    "## 2.A. Reconstruction error (1 point)\n",
    "[Back to table of contents](#ToC_2_Fourier_transform)\n",
    "\n",
    "How many Fourier coefficients do we really need to keep to still have the basic information present in an image? Do all coefficients contribute the same? In order to answer this type of questions, it is good to define an objective metric of _how good_ a certain reconstruction is. Here, we will discuss the normalized mean square error (NMSE) to reconstruct an image $f$. This metric assesses how different an image $f$ is from its reconstruction $g$, but normalizes it by the total power of $f$. In particular, we have that if $K$ and $L$ are the number of columns and rows, respectively,\n",
    "\n",
    "$$\\operatorname{NMSE}_f(g) =  \\frac{\\sum_{k=1}^{K} \\sum_{l=1}^L (g[k,l] - f[k,l])^2}{\\sum_{m=1}^{K} \\sum_{n=1}^L f[m,n]^2}\\mbox{, and } \\operatorname{NMSE}_f(g)~[\\mathrm{dB}] = 10 \\log_{10}\\left(\\operatorname{NMSE}_f(g)\\right).$$\n",
    "\n",
    "As we can see, the NMSE is often expressed in dB. This makes it easier for one to observe, for example, when the error has doubled ($+3~\\mathrm{dB}$) or halved ($-3~\\mathrm{dB}$) in plots.\n",
    "\n",
    "For **1 point**, complete the function `nmse(f, g)` in the cell below according to the equation given above, where `f` and `g` are two NumPy arrays of the same shape.\n",
    "<div class=\"alert alert-info\">\n",
    "<b>Hints:</b> Use <a href=\"https://numpy.org/doc/stable/reference/generated/numpy.mean.html\" ><code>np.mean(x)</code></a> to calculate the mean value of <code>x</code>, or \n",
    "    <a href=\"https://numpy.org/doc/stable/reference/generated/numpy.sum.html\" ><code>np.sum(x)</code></a> to calculate its sum through all axis.\n",
    "</div>\n",
    "<div class=\"alert alert-danger\">\n",
    "<b>Warning</b>: Remember that your function should <b>not use <code>for</code> loops</b> to iterate through images (this will give you $0$ points), and should work for NumPy arrays of any shape.\n",
    "</div>"
   ]
  },
  {
   "cell_type": "code",
   "execution_count": 41,
   "metadata": {},
   "outputs": [],
   "source": [
    "# check = np.ones((3,3))\n",
    "# np.sum(check)"
   ]
  },
  {
   "cell_type": "code",
   "execution_count": 42,
   "metadata": {
    "deletable": false,
    "kernel": "SoS",
    "nbgrader": {
     "cell_type": "code",
     "checksum": "38fd67ee7d129dbeb60270ebe95c11b1",
     "grade": false,
     "grade_id": "ans-8dded687cf67f4f1",
     "locked": false,
     "schema_version": 3,
     "solution": true,
     "task": false
    }
   },
   "outputs": [],
   "source": [
    "# Function that calculates the Normalized Mean Square Error in dB\n",
    "def nmse(f, g):\n",
    "    # Declare the output variable\n",
    "    output = None\n",
    "    \n",
    "    # YOUR CODE HERE\n",
    "    nmse = np.sum(np.power((g - f), 2)) / np.sum(np.power(f, 2))\n",
    "    output = 10 * np.log10(nmse)\n",
    "    \n",
    "    # Return MSE\n",
    "    return output"
   ]
  },
  {
   "cell_type": "code",
   "execution_count": 43,
   "metadata": {
    "deletable": false,
    "editable": false,
    "kernel": "SoS",
    "nbgrader": {
     "cell_type": "code",
     "checksum": "8eb99e614626a8f48a45e7367729ff96",
     "grade": true,
     "grade_id": "grad-f43f5970d01e3a71",
     "locked": true,
     "points": 1,
     "schema_version": 3,
     "solution": false,
     "task": false
    }
   },
   "outputs": [
    {
     "name": "stdout",
     "output_type": "stream",
     "text": [
      "Nice, your function seems to work! Do not worry about the divide by zero warning!\n"
     ]
    },
    {
     "name": "stderr",
     "output_type": "stream",
     "text": [
      "/tmp/ipykernel_40/2835904627.py:8: RuntimeWarning: divide by zero encountered in log10\n",
      "  output = 10 * np.log10(nmse)\n"
     ]
    }
   ],
   "source": [
    "# Sanity check (do not worry about the divide by zero note)\n",
    "if  nmse(impulse, impulse) != -np.infty: \n",
    "    print('The error between two equal images should be zero. In dB -infinity.')\n",
    "# Check your function on the hrct image\n",
    "elif nmse(impulse, 0) != 0:\n",
    "    print('The error of any image and a zero-image should be 1. In dB, 0.')\n",
    "else:\n",
    "    print('Nice, your function seems to work! Do not worry about the divide by zero warning!')"
   ]
  },
  {
   "cell_type": "markdown",
   "metadata": {
    "deletable": false,
    "editable": false,
    "kernel": "SoS",
    "nbgrader": {
     "cell_type": "markdown",
     "checksum": "252e1606ee0b05a9b5f2987469dd51b6",
     "grade": false,
     "grade_id": "cell-0a2def51f8d1b167",
     "locked": true,
     "schema_version": 3,
     "solution": false,
     "task": false
    }
   },
   "source": [
    "## 2.B. Fourier components (1 point)\n",
    "[Back to table of contents](#ToC_2_Fourier_transform)\n",
    "\n",
    "In this section we look into the reconstruction process of an image from part of its Fourier components. This touches on a topic that will continue to appear in IP1 and IP2: how much does a given transform compress an image? \n",
    "\n",
    "For a first practical approximation to the topic, we define the method `clip_fourier(img, percent)`. This method reconstructs an image for only `percent`$\\%$ of its Fourier coefficients. If `largest=True`, only the largest are kept, while \n",
    "if `largest=False`, only all the rest are kept. This will illustrate the uneven distribution of information contained in the Fourier components.\n",
    "\n",
    "Run the next cell to define the function `clip_fourier`."
   ]
  },
  {
   "cell_type": "code",
   "execution_count": 44,
   "metadata": {
    "deletable": false,
    "editable": false,
    "kernel": "SoS",
    "nbgrader": {
     "cell_type": "code",
     "checksum": "9126a83781d51093b449f827499ec072",
     "grade": false,
     "grade_id": "cell-f35ca285f774a8b7",
     "locked": true,
     "schema_version": 3,
     "solution": false,
     "task": false
    }
   },
   "outputs": [],
   "source": [
    " def clip_fourier(img, percent, largest=True, perc = True):\n",
    "    # Get number of coefficients to keep\n",
    "    if perc:\n",
    "        # Extract from percentage\n",
    "        n = np.round(np.prod(img.shape) * percent / 100 ).astype(int)\n",
    "    else: \n",
    "        # Pass directly\n",
    "        n = percent\n",
    "    # Get ft of img\n",
    "    img_ft = np.fft.fft2(img)\n",
    "    # Get the threshold value. To do this, we order the Fourier coefficients \n",
    "    # from low to high and select the n-to-last ([-n]) coefficient\n",
    "    threshold = np.sort(np.abs(img_ft.flatten()))[-n]\n",
    "    if largest == True:\n",
    "        # Get the inverse Fourier transform of the thresholded Fourier transform\n",
    "        clipped_ift = np.real(np.fft.ifft2((np.abs(img_ft) >= threshold) * img_ft))\n",
    "    else:\n",
    "        # Get the inverse Fourier transform of the thresholded Fourier transform\n",
    "        clipped_ift = np.real(np.fft.ifft2((np.abs(img_ft) < threshold) * img_ft))\n",
    "    return clipped_ift"
   ]
  },
  {
   "cell_type": "markdown",
   "metadata": {
    "deletable": false,
    "editable": false,
    "kernel": "SoS",
    "nbgrader": {
     "cell_type": "markdown",
     "checksum": "9f33cddbab02fab2d64ece089435afb3",
     "grade": false,
     "grade_id": "cell-9445799bbeb15ffe",
     "locked": true,
     "schema_version": 3,
     "solution": false,
     "task": false
    }
   },
   "source": [
    "Let's use the error metric `nmse` defined before to illustrate the difference in information contained in the few largest Fourier components compared to the information contained in the rest. In the cell below we will reconstruct the image `zebra` using: \n",
    " * only the `percent` largest Fourier components, and \n",
    " * using the `100-percent` smallest components. \n",
    "\n",
    "Then we will compare the reconstruction error by applying the `nmse` function defined above with both reconstructions. Run the cell below to see the different reconstruction errors. Play with the variable `percent` and see what happens."
   ]
  },
  {
   "cell_type": "code",
   "execution_count": 45,
   "metadata": {
    "kernel": "SoS"
   },
   "outputs": [
    {
     "name": "stdout",
     "output_type": "stream",
     "text": [
      "The reconstruction error when using the 20% largest  components: NMSE = -23.7228\n",
      "The reconstruction error when using the 80% smallest components: NMSE = -0.0185\n"
     ]
    },
    {
     "data": {
      "application/vnd.jupyter.widget-view+json": {
       "model_id": "5646e65cd6e843a6afe15d648c71a0ad",
       "version_major": 2,
       "version_minor": 0
      },
      "text/plain": [
       "HBox(children=(Output(layout=Layout(width='80%')), Output(), Output(layout=Layout(width='25%'))))"
      ]
     },
     "metadata": {},
     "output_type": "display_data"
    }
   ],
   "source": [
    "percent = 20\n",
    "# First, reconstruct zebra using the largest components\n",
    "zebra_largest = clip_fourier(zebra, percent)\n",
    "# Reconstruct zebra using the smallest components\n",
    "zebra_smallest = clip_fourier(zebra, percent, largest=False)\n",
    "# Calculate the errors\n",
    "error_l = nmse(zebra,zebra_largest )\n",
    "error_s = nmse(zebra,zebra_smallest)\n",
    "# Compare the error\n",
    "print(f'The reconstruction error when using the {percent}% largest  components: NMSE = {error_l:.4f}')\n",
    "print(f\"The reconstruction error when using the {100 - percent}% smallest components: NMSE = {error_s:6.4f}\")\n",
    "# Visualize images\n",
    "view = viewer([zebra, zebra_largest, zebra_smallest], \n",
    "              titles = ['Original', f'{percent}% Largest Components', f'{100-percent}% Smallest Components'], \n",
    "              widgets=True)"
   ]
  },
  {
   "cell_type": "markdown",
   "metadata": {
    "deletable": false,
    "editable": false,
    "kernel": "SoS",
    "nbgrader": {
     "cell_type": "markdown",
     "checksum": "ab028d52c9cd1ba12e48e384a23b27aa",
     "grade": false,
     "grade_id": "cell-af1dad6c7d299b33",
     "locked": true,
     "schema_version": 3,
     "solution": false,
     "task": false
    }
   },
   "source": [
    "In the long run, this type of characteristics of transforms are explored using graphs like the one below, where the NMSE can be seen as a function of the percentage of the largest coefficients kept."
   ]
  },
  {
   "cell_type": "code",
   "execution_count": 46,
   "metadata": {
    "deletable": false,
    "editable": false,
    "kernel": "SoS",
    "nbgrader": {
     "cell_type": "code",
     "checksum": "af8b48440a0f9687b9138da1afa4d33a",
     "grade": false,
     "grade_id": "cell-9ee60b5808fea24d",
     "locked": true,
     "schema_version": 3,
     "solution": false,
     "task": false
    }
   },
   "outputs": [
    {
     "data": {
      "application/vnd.jupyter.widget-view+json": {
       "model_id": "cb9417b8681b4dc8aee5238a17f14f07",
       "version_major": 2,
       "version_minor": 0
      },
      "text/plain": [
       "Canvas(toolbar=Toolbar(toolitems=[('Home', 'Reset original view', 'home', 'home'), ('Pan', 'Pan axes with left…"
      ]
     },
     "metadata": {},
     "output_type": "display_data"
    }
   ],
   "source": [
    "plt.close(\"all\")\n",
    "# Create figure\n",
    "fig = plt.figure(num=f\"SCIPER: {uid}\",figsize = (8, 5));\n",
    "# Plot the NMSE vs kept coefficients curve\n",
    "plt.plot( np.arange(.5,100,5), [nmse(zebra, clip_fourier(zebra, perc)) for perc in np.arange(.5,100,5)], 'bo-' );\n",
    "# Labels and titles for clear plotting\n",
    "plt.xlabel(\"Percentage of coefficients kept\"); plt.ylabel(\"NMSE [dB]\"); \n",
    "plt.xticks([0,20,40,60,80,100], [f\"{perc}%\" for perc in [0,20,40,60,80,100]]);\n",
    "plt.title(\"Reconstructing zebra with the largest Fourier coefs.\")\n",
    "plt.show()"
   ]
  },
  {
   "cell_type": "markdown",
   "metadata": {
    "deletable": false,
    "editable": false,
    "kernel": "Python3",
    "nbgrader": {
     "cell_type": "markdown",
     "checksum": "86956c99f578556acce05b010dc3e62e",
     "grade": false,
     "grade_id": "cell-aca9c2e4d2518fc6",
     "locked": true,
     "schema_version": 3,
     "solution": false,
     "task": false
    }
   },
   "source": [
    "Now we are going to create a widget to apply the function to an image and dinamically visualize its effect. \n",
    "\n",
    "We will define a slider to choose an integer `n` such that **the number of largest coefficients kept is $2^n$**. \n",
    "<div class = \"alert alert-info\">\n",
    "<b>Note</b>: This is because the visual difference between the reconstructions is only apparent for percentages between $0\\%$ and $2\\%$, and very small steps would be needed. Keep in mind that you are not working with percentages anymore.\n",
    "    \n",
    "</div>\n",
    "\n",
    "We will also provide a checkbox to switch between the two modes of operation (keeping the largest, or keeping all the rest). Click the button `Apply` to apply `clip_fourier()` with the chosen parameter on the image. Run the next cell and click on `Extra Widgets` to use the widget. Explore the results carefuly."
   ]
  },
  {
   "cell_type": "code",
   "execution_count": 47,
   "metadata": {
    "deletable": false,
    "editable": false,
    "kernel": "SoS",
    "nbgrader": {
     "cell_type": "code",
     "checksum": "3d15e89bc35931d8ec6afa807bcf3521",
     "grade": false,
     "grade_id": "cell-c4b7a812e25017e1",
     "locked": true,
     "schema_version": 3,
     "solution": false,
     "task": false
    }
   },
   "outputs": [
    {
     "data": {
      "application/vnd.jupyter.widget-view+json": {
       "model_id": "8b573e3f3e9f416897dad3283475350b",
       "version_major": 2,
       "version_minor": 0
      },
      "text/plain": [
       "HBox(children=(Output(layout=Layout(width='80%')), Output(), Output(layout=Layout(width='25%'))))"
      ]
     },
     "metadata": {},
     "output_type": "display_data"
    }
   ],
   "source": [
    "# Declare slider and checkbox\n",
    "n_slider = widgets.IntSlider( value = 16, min = 0, max = 16, step = 1, description = 'n' )\n",
    "checkbox = widgets.Checkbox(value=True, description='Use largest components')\n",
    "\n",
    "# Declare btutton\n",
    "button = widgets.Button(description = 'Apply')\n",
    "\n",
    "# declare the button callback\n",
    "def button_callback(image):\n",
    "    n      = n_slider.value\n",
    "    check  = checkbox.value\n",
    "    output = clip_fourier(image, 2**n, largest = check, perc = False)\n",
    "    return output\n",
    "\n",
    "# visualize\n",
    "plt.close('all')\n",
    "cfourier_viewer = viewer(zebra, title = \"Clipping the FT\", new_widgets = [n_slider, checkbox, button], callbacks = [button_callback], widgets=True, normalize=True)"
   ]
  },
  {
   "cell_type": "markdown",
   "metadata": {
    "deletable": false,
    "editable": false,
    "kernel": "Python3",
    "nbgrader": {
     "cell_type": "markdown",
     "checksum": "6f0d17e8476028f6f44c4d0ca77a2044",
     "grade": false,
     "grade_id": "cell-167b4895c49676c8",
     "locked": true,
     "schema_version": 3,
     "solution": false,
     "task": false
    }
   },
   "source": [
    "### Multiple Choice Question\n",
    "Congratulations! You made it to the end of the notebook. Now you just need to answer these last two MCQ questions (**0.5 points** each).\n",
    "\n",
    "* Q1: How many largest Fourier coefficients are required to start noting a zebra shape in the image?\n",
    "    1. 1\n",
    "    2. 8\n",
    "    3. $2^8$\n",
    "    4. $8^2$\n",
    "\n",
    "Modify the variable `answer` to reflect your choice. The second cell will raise an error if you have not answered."
   ]
  },
  {
   "cell_type": "code",
   "execution_count": 48,
   "metadata": {
    "deletable": false,
    "kernel": "SoS",
    "nbgrader": {
     "cell_type": "code",
     "checksum": "8876a88072894f67b27f315c31e7338e",
     "grade": false,
     "grade_id": "ans-ee040ab2d1398a93",
     "locked": false,
     "schema_version": 3,
     "solution": true,
     "task": false
    }
   },
   "outputs": [],
   "source": [
    "# assign your answer to this variable\n",
    "answer = 2\n",
    "# YOUR CODE HERE"
   ]
  },
  {
   "cell_type": "code",
   "execution_count": 49,
   "metadata": {
    "deletable": false,
    "editable": false,
    "kernel": "SoS",
    "nbgrader": {
     "cell_type": "code",
     "checksum": "bae0f556ebd6dab19e9e503aeab8ab4e",
     "grade": true,
     "grade_id": "grad-614f5700675a0260",
     "locked": true,
     "points": 0.5,
     "schema_version": 3,
     "solution": false,
     "task": false
    }
   },
   "outputs": [],
   "source": [
    "assert answer in [1, 2, 3, 4], 'Possible answers are 1, 2, 3 and 4'"
   ]
  },
  {
   "cell_type": "markdown",
   "metadata": {
    "deletable": false,
    "editable": false,
    "kernel": "Python3",
    "nbgrader": {
     "cell_type": "markdown",
     "checksum": "d72c90970f0ab1c52e8d1186e9c3cc6d",
     "grade": false,
     "grade_id": "cell-fea792cc3a05b29b",
     "locked": true,
     "schema_version": 3,
     "solution": false,
     "task": false
    }
   },
   "source": [
    "* Q2: How is it possible to reconstruct the zebra from only periodic components if the zebra is not periodic (there is only one zebra in the image)?\n",
    "    1. The black and white stripes in the zebra make it possible.\n",
    "    2. The FT assumes that the image is periodic in space.\n",
    "    3. The biggest components of the FT are non-periodic, to account for such features in an image.\n",
    "\n",
    "Modify the variable `answer` to reflect your choice. The second cell will raise an error if you have not answered."
   ]
  },
  {
   "cell_type": "code",
   "execution_count": null,
   "metadata": {
    "deletable": false,
    "kernel": "SoS",
    "nbgrader": {
     "cell_type": "code",
     "checksum": "e02cbb923865a1c12ad140a428731c00",
     "grade": false,
     "grade_id": "ans-9a7c38e4ea3a4322",
     "locked": false,
     "schema_version": 3,
     "solution": true,
     "task": false
    }
   },
   "outputs": [],
   "source": [
    "# Assign your answer to this variable\n",
    "answer = None\n",
    "# YOUR CODE HERE"
   ]
  },
  {
   "cell_type": "code",
   "execution_count": null,
   "metadata": {
    "deletable": false,
    "editable": false,
    "kernel": "SoS",
    "nbgrader": {
     "cell_type": "code",
     "checksum": "3af52c4be977d791edbf44b5d644ab7e",
     "grade": true,
     "grade_id": "grad-08af35ecf1d0b4b8",
     "locked": true,
     "points": 0.5,
     "schema_version": 3,
     "solution": false,
     "task": false
    }
   },
   "outputs": [],
   "source": [
    "assert answer in [1, 2, 3], 'Possible answers are 1, 2, and 3'"
   ]
  },
  {
   "cell_type": "markdown",
   "metadata": {
    "deletable": false,
    "editable": false,
    "kernel": "SoS",
    "nbgrader": {
     "cell_type": "markdown",
     "checksum": "383597855e0d551bc9f3d025f82159cb",
     "grade": false,
     "grade_id": "cell-6deaf74b6ab1ae1f",
     "locked": true,
     "schema_version": 3,
     "solution": false,
     "task": false
    }
   },
   "source": [
    "<div class=\"alert alert-success\">\n",
    "<p><b>Congratulations on finishing the second part of the Pixel-Fourier lab!</b></p>\n",
    "<p>\n",
    "Make sure to save your notebook (you might want to keep a copy on your personal computer) and upload it to <a href=\"https://moodle.epfl.ch/mod/assign/view.php?id=1157357\">Moodle</a>, in a zip file with the other notebook of this lab.\n",
    "</p>\n",
    "</div>\n",
    "\n",
    "* Keep the name of the notebook as: *2_Fourier_transform.ipynb*,\n",
    "* Name the zip file: *Pixel_Fourier_Lab.zip*."
   ]
  }
 ],
 "metadata": {
  "kernelspec": {
   "display_name": "Python",
   "language": "python",
   "name": "python3"
  },
  "language_info": {
   "codemirror_mode": {
    "name": "ipython",
    "version": 3
   },
   "file_extension": ".py",
   "mimetype": "text/x-python",
   "name": "python",
   "nbconvert_exporter": "python",
   "pygments_lexer": "ipython3",
   "version": "3.8.10"
  },
  "sos": {
   "kernels": [
    [
     "JavaScript",
     "javascript",
     "JavaScript",
     "#c8e1ae",
     ""
    ],
    [
     "SoS",
     "sos",
     "",
     "",
     "sos"
    ]
   ],
   "panel": {
    "displayed": false,
    "height": 0
   },
   "version": "0.21.9"
  }
 },
 "nbformat": 4,
 "nbformat_minor": 4
}
