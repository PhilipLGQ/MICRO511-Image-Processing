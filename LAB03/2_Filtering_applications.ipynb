{
 "cells": [
  {
   "cell_type": "markdown",
   "metadata": {
    "deletable": false,
    "editable": false,
    "kernel": "SoS",
    "nbgrader": {
     "cell_type": "markdown",
     "checksum": "dfa5cb915f64302bce99ee0606c4218d",
     "grade": false,
     "grade_id": "cell-2f137ed5983c4fea",
     "locked": true,
     "schema_version": 3,
     "solution": false,
     "task": false
    }
   },
   "source": [
    "<img src=\"https://www.epfl.ch/about/overview/wp-content/uploads/2020/07/logo-epfl-1024x576.png\" style=\"padding-right:10px;width:140px;float:left\"></td>\n",
    "<h2 style=\"white-space: nowrap\">Image Processing Laboratory Notebooks</h2>\n",
    "<hr style=\"clear:both\">\n",
    "<p style=\"font-size:0.85em; margin:2px; text-align:justify\">\n",
    "This Juypter notebook is part of a series of computer laboratories which are designed\n",
    "to teach image-processing programming; they are running on the EPFL's Noto server. They are the practical complement of the theoretical lectures of the EPFL's Master course <b>Image Processing I</b> \n",
    "(<a href=\"https://moodle.epfl.ch/course/view.php?id=522\">MICRO-511</a>) taught by Prof. M. Unser and Prof. D. Van de Ville.\n",
    "</p>\n",
    "<p style=\"font-size:0.85em; margin:2px; text-align:justify\">\n",
    "The project is funded by the Center for Digital Education and the School of Engineering. It is owned by the <a href=\"http://bigwww.epfl.ch/\">Biomedical Imaging Group</a>. \n",
    "The distribution or the reproduction of the notebook is strictly prohibited without the written consent of the authors.  &copy; EPFL 2021.\n",
    "</p>\n",
    "<p style=\"font-size:0.85em; margin:0px\"><b>Authors</b>: \n",
    "    <a href=\"mailto:pol.delaguilapla@epfl.ch\">Pol del Aguila Pla</a>, \n",
    "    <a href=\"mailto:kay.lachler@epfl.ch\">Kay Lächler</a>,\n",
    "    <a href=\"mailto:alejandro.nogueronaramburu@epfl.ch\">Alejandro Noguerón Arámburu</a>, and\n",
    "    <a href=\"mailto:daniel.sage@epfl.ch\">Daniel Sage</a>.\n",
    "</p>\n",
    "<hr style=\"clear:both\">\n",
    "<h1>Lab 2.2: Filtering Applications</h1>\n",
    "<div style=\"background-color:#F0F0F0;padding:4px\">\n",
    "    <p style=\"margin:4px;\"><b>Released</b>: Thursday November 11, 2021</p>\n",
    "    <p style=\"margin:4px;\"><b>Submission</b>: <span style=\"color:red\">Friday November 19, 2021</span> (before 11:59PM) on <a href=\"https://moodle.epfl.ch/course/view.php?id=522\">Moodle</a></p>\n",
    "    <p style=\"margin:4px;\"><b>Grade weigth</b>: Lab 2 (18 points), 10% of the overall grade</p>\n",
    "    <p style=\"margin:4px;\"><b>Help sessions</b>: Monday November 15, on Zoom (12h-13h, see Moodle for link) and Thursday November 18 on campus</p>        \n",
    "    <p style=\"margin:4px;\"><b>Related lectures</b>: Chapter 3</p>\n",
    "</div>"
   ]
  },
  {
   "cell_type": "markdown",
   "metadata": {
    "kernel": "SoS"
   },
   "source": [
    "### Student Name: Guanqun Liu\n",
    "### SCIPER: 334988\n",
    "\n",
    "Double-click on this cell and fill your name and SCIPER number. Then, run the cell below to verify your identity in Noto and set the seed for random results."
   ]
  },
  {
   "cell_type": "code",
   "execution_count": 116,
   "metadata": {
    "deletable": false,
    "editable": false,
    "kernel": "SoS",
    "nbgrader": {
     "cell_type": "code",
     "checksum": "181db843e2a8484c104865f047736fe1",
     "grade": true,
     "grade_id": "cell-5808010fef9a8499",
     "locked": true,
     "points": 0,
     "schema_version": 3,
     "solution": false,
     "task": false
    }
   },
   "outputs": [
    {
     "name": "stdout",
     "output_type": "stream",
     "text": [
      "SCIPER: 334988\n"
     ]
    }
   ],
   "source": [
    "%use sos\n",
    "import getpass\n",
    "# This line recovers your camipro number to mark the images with your ID\n",
    "uid = int(getpass.getuser().split('-')[2]) if len(getpass.getuser().split('-')) > 2 else ord(getpass.getuser()[0])\n",
    "print(f'SCIPER: {uid}')"
   ]
  },
  {
   "cell_type": "markdown",
   "metadata": {
    "deletable": false,
    "editable": false,
    "kernel": "SoS",
    "nbgrader": {
     "cell_type": "markdown",
     "checksum": "696dfe8bd1d98ec474269494033cb66c",
     "grade": false,
     "grade_id": "cell-22d02ae9386542b4",
     "locked": true,
     "schema_version": 3,
     "solution": false,
     "task": false
    }
   },
   "source": [
    "### <a name=\"imports_\"></a> Imports\n",
    "In the next cell we import the Python libraries that we will use throughout the lab, as well as the `ImageViewer` class (Python package developed specifically for these laboratories, see documentation [here](https://github.com/Biomedical-Imaging-Group/interactive-kit/wiki/Image-Viewer), or run the python command `help(viewer)` after loading the class):\n",
    "\n",
    "* [`matplotlib.pyplot`](https://matplotlib.org), to display images\n",
    "* [`ipywidgets`](https://ipywidgets.readthedocs.io/en/latest/), to make the image display interactive\n",
    "* [`numpy`](https://numpy.org/doc/stable/reference/index.html), for mathematical operations on arrays\n",
    "* [`openCV` (cv2)](https://docs.opencv.org/2.4/index.html), for image-processing tasks\n",
    "* [`scipy.ndimage`](https://docs.scipy.org/doc/scipy/reference/ndimage.html), Scipy's specific module for multidimensional image processing\n",
    "* [`scikit-image` (skimage)](https://scikit-image.org/docs/stable/api/api.html), also for image-processing tasks\n",
    "\n",
    "We will then load the `ImageViewer` class (either see the complete documentation [here](https://github.com/Biomedical-Imaging-Group/interactive-kit/wiki/Image-Viewer), run the Python command `help(viewer)` after loading the class, or refer to [Lab 0: Introduction](./Introductory.ipynb#4.-Python-Image-Viewer)).\n",
    "\n",
    "Finally, we load the images you will use in the exercise to test your algorithms. "
   ]
  },
  {
   "cell_type": "code",
   "execution_count": 117,
   "metadata": {
    "deletable": false,
    "editable": false,
    "kernel": "SoS",
    "nbgrader": {
     "cell_type": "code",
     "checksum": "94d9150866e1e63751491745d0b16401",
     "grade": false,
     "grade_id": "cell-e71e32bb6c3077e0",
     "locked": true,
     "schema_version": 3,
     "solution": false,
     "task": false
    }
   },
   "outputs": [],
   "source": [
    "%use sos\n",
    "# Configure plotting as dynamic\n",
    "%matplotlib widget\n",
    "\n",
    "# Import standard required packages for this exercise\n",
    "import matplotlib.pyplot as plt\n",
    "import numpy as np\n",
    "import cv2 as cv \n",
    "import scipy.ndimage as ndi\n",
    "import ipywidgets as widgets\n",
    "import skimage\n",
    "import scipy\n",
    "from skimage import filters\n",
    "from interactive_kit import imviewer as viewer\n",
    "\n",
    "# Load images to be used in this exercise \n",
    "bikesgray = cv.imread('images/bikesgray.tif', cv.IMREAD_UNCHANGED).astype('float64')\n",
    "camera = cv.imread('images/camera-16bits.tif', cv.IMREAD_UNCHANGED).astype('float64')\n",
    "spots = cv.imread('images/spots.tif', cv.IMREAD_UNCHANGED).astype('float64')"
   ]
  },
  {
   "cell_type": "markdown",
   "metadata": {
    "deletable": false,
    "editable": false,
    "kernel": "SoS",
    "nbgrader": {
     "cell_type": "markdown",
     "checksum": "1d137d1f7fb5ea8444087bf114b2802f",
     "grade": false,
     "grade_id": "cell-8614f5d6a7454625",
     "locked": true,
     "schema_version": 3,
     "solution": false,
     "task": false
    }
   },
   "source": [
    "Now we will import the `ImageAccess` class. You can find the documentation of the class [here](https://biomedical-imaging-group.github.io/image-access/). Moreover, we will put the images we will be using in the JavaScript kernel."
   ]
  },
  {
   "cell_type": "code",
   "execution_count": 118,
   "metadata": {
    "deletable": false,
    "editable": false,
    "kernel": "JavaScript",
    "nbgrader": {
     "cell_type": "code",
     "checksum": "4ec2f105d4591df15745f8f8096cbcee",
     "grade": true,
     "grade_id": "cell-c6c746246d09f0e7",
     "locked": true,
     "points": 0,
     "schema_version": 3,
     "solution": false,
     "task": false
    }
   },
   "outputs": [],
   "source": [
    "%use javascript\n",
    "%get bikesgray camera spots\n",
    "// import IPLabImageAccess as Image\n",
    "var Image = require('image-access')"
   ]
  },
  {
   "cell_type": "markdown",
   "metadata": {
    "deletable": false,
    "editable": false,
    "kernel": "SoS",
    "nbgrader": {
     "cell_type": "markdown",
     "checksum": "cfec55657d87e08ed4618615d7606db0",
     "grade": false,
     "grade_id": "cell-4b72a2bcfd3b306d",
     "locked": true,
     "schema_version": 3,
     "solution": false,
     "task": false
    }
   },
   "source": [
    "# Filtering applications (9 points)\n",
    "\n",
    "After the [first part](./1_Filtering.ipynb) of the lab, we expect you to feel comfortable with the basics of filtering. In this part we will look in the detail at the implementation of a Gaussian filter, as well as some of its direct applications. Gaussian filters are known to be near-optimal smoothing filters, and represent perhaps the most used preprocessing step in image processing to improve robustness in a workflow and to denoise images.\n",
    "\n",
    "## <a id=\"ToC_2_FilteringApplications\"></a>Table of contents\n",
    "1. [Gaussian filter](#1.-Gaussian-filter-(4-points))\n",
    "    1. [Implementation of a 2D Gaussian filter](#1.A.-Implementation-of-a-2D-Gaussian-filter-(4-points)) (**4 points**)\n",
    "    2. [Gaussian filter in Python](#1.B.-Gaussian-filter-in-Python)\n",
    "4. [Application: Spot detector](#2.-Application:-Spot-detector-(5-points))\n",
    "    1. [Difference of Gaussians](#2.A.-Difference-of-Gaussians-(2-points)) (**2 points**)\n",
    "    2. [Local maxima](#2.B.-Local-maxima-(1-point)) (**1 point**)\n",
    "    3. [Spot detector](#2.C.-Spot-detector-(2-points)) (**2 points**)\n",
    "\n",
    "<div class=\" alert alert-danger\">\n",
    "\n",
    "<b>Important:</b> Each cell that contains code begins with `%use sos` or `%use javascript`. This indicates if the code in this specific cell should be written in Python or JavaScript. Do not change or remove any lines of code that begin with an %. They are used for the notebook to run smoothly with <code>SoS</code> and need to be on the first line of each cell!\n",
    "</div>\n",
    "\n",
    "Good luck and enjoy! "
   ]
  },
  {
   "cell_type": "markdown",
   "metadata": {
    "deletable": false,
    "editable": false,
    "kernel": "SoS",
    "nbgrader": {
     "cell_type": "markdown",
     "checksum": "1383fe208b982d5de83430599095d878",
     "grade": false,
     "grade_id": "cell-74e9fa45faa39321",
     "locked": true,
     "schema_version": 3,
     "solution": false,
     "task": false
    }
   },
   "source": [
    "### Visualize images\n",
    "Get familiar now with the images you are going to be using.\n",
    "\n",
    "Remember that to use the `ImageViewer` class, we only need to call it with an image (and make sure that the image is a `numpy.ndarray`, or a list of such arrays). From there you can change the plotting range, visualize the histogram, get the statistics, browse through the images with the buttons `Next` & `Prev`, etc."
   ]
  },
  {
   "cell_type": "code",
   "execution_count": 119,
   "metadata": {
    "deletable": false,
    "editable": false,
    "kernel": "SoS",
    "nbgrader": {
     "cell_type": "code",
     "checksum": "35ad62ee87824dbf7a9e4cca09a43b07",
     "grade": false,
     "grade_id": "cell-fe1a26f8c6df6294",
     "locked": true,
     "schema_version": 3,
     "solution": false,
     "task": false
    }
   },
   "outputs": [
    {
     "data": {
      "application/vnd.jupyter.widget-view+json": {
       "model_id": "591d456e94574760a63728ba3f7f36ab",
       "version_major": 2,
       "version_minor": 0
      },
      "text/plain": [
       "HBox(children=(Output(layout=Layout(width='80%')), Output(), Output(layout=Layout(width='25%'))))"
      ]
     },
     "metadata": {},
     "output_type": "display_data"
    }
   ],
   "source": [
    "%use sos\n",
    "# Declare image_list for ImageViewer\n",
    "image_list = [bikesgray, camera, spots]\n",
    "\n",
    "imgs_viewer = viewer(image_list, widgets = True, hist = True)"
   ]
  },
  {
   "cell_type": "markdown",
   "metadata": {
    "deletable": false,
    "editable": false,
    "kernel": "Python3",
    "nbgrader": {
     "cell_type": "markdown",
     "checksum": "2873aef15ffeef5e127244baa72b075d",
     "grade": false,
     "grade_id": "cell-727e084ec8969cc3",
     "locked": true,
     "schema_version": 3,
     "solution": false,
     "task": false
    }
   },
   "source": [
    "# 1. Gaussian filter (4 points)\n",
    "[Back to table of contents](#ToC_2_FilteringApplications)\n",
    "\n",
    "In this section you will implement a 2D Gaussian filter with impulse response $h_{\\sigma}[m,n]$, where $\\sigma$ is the standard deviation of an isotropic 2D Gaussian and controls the smoothing strength. This impulse response discretizes the 2D Gaussian function $h_\\sigma(x,y)$ between $[-\\lceil3\\sigma\\rceil,\\lceil 3\\sigma\\rceil]$ in $x$ and $y$. You will **choose the size of the filter to be $N = 2\\lceil 3\\sigma \\rceil+1$** (hence, $N$ is always odd), and you will **ensure your impulse response adds up to $1$** using the appropriate normalization. Here, $\\lceil x \\rceil$ refers to the ceiling function, i.e., the smallest integer larger than a given $x\\in\\mathbb{R}$. \n",
    "\n",
    "Remember that the expression of an [isotropic 2D Gaussian](https://en.wikipedia.org/wiki/Multivariate_normal_distribution) is\n",
    "\n",
    "$$h_\\sigma(x,y) = \\frac{1}{2\\pi\\sigma^2}\\exp\\left(-\\frac{x^2 + y^2}{2\\sigma^2}\\right) = \\frac{1}{\\sqrt{2\\pi}\\sigma}\\exp\\left(-\\frac{x^2}{2\\sigma^2}\\right) \\frac{1}{\\sqrt{2\\pi}\\sigma}\\exp\\left(-\\frac{ y^2}{2\\sigma^2}\\right) \\,.$$"
   ]
  },
  {
   "cell_type": "markdown",
   "metadata": {
    "deletable": false,
    "editable": false,
    "kernel": "Python3",
    "nbgrader": {
     "cell_type": "markdown",
     "checksum": "7e15037cbe3cf434313d2c4d92edb8d0",
     "grade": false,
     "grade_id": "cell-4ee31adda2ebf52a",
     "locked": true,
     "schema_version": 3,
     "solution": false,
     "task": false
    }
   },
   "source": [
    "## 1.A. Implementation of a 2D Gaussian filter (4 points)\n",
    "[Back to table of contents](#ToC_2_FilteringApplications)\n",
    "\n",
    "For **3 points**, implement the function `gaussian(img, sigma)` that convolves an image with a Gaussian filter using a **separable implementation**. If you wish, you can take advantage of the `filter1D` function defined in Section [1.B.](./1_Filtering.ipynb#1.B.-Separable-implementation-(2-points)) and redefined here.\n",
    "\n",
    "<div class=\"alert alert-success\">\n",
    "    <b>Hint: </b> Remember that you can use <a href=\"https://developer.mozilla.org/en-US/docs/Web/JavaScript/Reference/Global_Objects/Math\">the <code>Math</code> library</a> to access different mathematical functions (<code>Math.ceil()</code>, <code>Math.floor()</code>, <code>Math.exp()</code>, <code>Math.PI</code>, <code>Math.sqrt()</code>).\n",
    "</div>\n",
    "\n",
    "<div class=\"alert alert-info\">\n",
    "\n",
    "<b>Remember:</b> The first argument to the <code>Image</code> constructor is the <b>height</b> and the second is the <b>width</b>: <code>new Image(height, width)</code> or <code>new Image([height, width])</code>. Feel free to go back to <a href=\"./Introductory.ipynb#3.-Javascript-image-access-class-(2-points)\">Lab 0: Introduction</a> to review the basic usage of the ImageAccess class.\n",
    "</div>"
   ]
  },
  {
   "cell_type": "code",
   "execution_count": 120,
   "metadata": {
    "deletable": false,
    "kernel": "JavaScript",
    "nbgrader": {
     "cell_type": "code",
     "checksum": "b6f7a1e82645da620c68e60d21dc377c",
     "grade": false,
     "grade_id": "cell-6afcfd812f79ebb9",
     "locked": false,
     "schema_version": 3,
     "solution": true,
     "task": false
    }
   },
   "outputs": [],
   "source": [
    "%use javascript\n",
    "// function that performs a gaussian filter with sigma on img\n",
    "function gaussian(img, sigma){\n",
    "    // declare output variable\n",
    "    var output = new Image(img.shape());\n",
    "    \n",
    "    // Define normalized mask\n",
    "    // YOUR CODE HERE\n",
    "    var filter_range = Array.from({length: 2*Math.ceil(3*sigma)+1}, (_, i) => i - Math.ceil(3*sigma));\n",
    "\n",
    "    var mask_x = filter_range.map(\n",
    "        function(val, idx, arr){\n",
    "            return Math.exp(-Math.pow(val, 2) / (2 * Math.pow(sigma, 2))) / (sigma * Math.sqrt(2 * Math.PI))\n",
    "            });\n",
    "    \n",
    "    var mask_y = filter_range.map(\n",
    "            function(val, idx, arr){\n",
    "                return Math.exp(-Math.pow(val, 2) / (2 * Math.pow(sigma, 2))) / (sigma * Math.sqrt(2 * Math.PI))\n",
    "            });\n",
    "    \n",
    "    // Normalize the masks\n",
    "    const reducer = (accu, curr) => accu + curr;\n",
    "    const mask_x_Sum = mask_x.reduce(reducer);\n",
    "    const mask_y_Sum = mask_y.reduce(reducer);\n",
    "\n",
    "    var mask_x_img = new Image([mask_x]);\n",
    "    var mask_y_img = new Image([mask_y]);\n",
    "    \n",
    "    for(var x = 0; x < mask_x_img.nx; x++){\n",
    "        var pixel_norm = mask_x_img.getPixel(x, 0) / mask_x_Sum;\n",
    "        mask_x_img.setPixel(x, 0, pixel_norm);\n",
    "    }\n",
    "    \n",
    "    for(var x = 0; x < mask_y_img.nx; x++){\n",
    "        var pixel_norm = mask_y_img.getPixel(x, 0) / mask_y_Sum;\n",
    "        mask_y_img.setPixel(x, 0, pixel_norm);\n",
    "    }\n",
    "    \n",
    "    \n",
    "    // Filter using separable implementation (hint: your mask should be 1D)\n",
    "    // You can use the filter1D function defined below\n",
    "    // iterate through every row \n",
    "    for(var y = 0; y < img.ny; y++){\n",
    "        // extract row\n",
    "        var row = img.getRow(y);\n",
    "        // apply filter\n",
    "        var new_row = filter1D(row, mask_x_img)\n",
    "        // set column in output variable\n",
    "        output.putRow(y, new_row)  \n",
    "        // console.log(output.visualize())\n",
    "    }\n",
    "    \n",
    "    // iterate through every column\n",
    "    for(var x = 0; x < img.nx; x++){\n",
    "        // filter the columns\n",
    "        var column = output.getColumn(x);\n",
    "        \n",
    "        // extract column, apply filter and set\n",
    "        var new_column = filter1D(column, mask_y_img)\n",
    "        output.putColumn(x, new_column)\n",
    "        // console.log(output.visualize())\n",
    "    }\n",
    "    return output\n",
    "}\n",
    "\n",
    "// function that applies a 1D filter\n",
    "function filter1D(img, mask){\n",
    "    // transpose the input variables if necessary\n",
    "    if(img.nx == 1){\n",
    "        img.transposeImage();\n",
    "    }\n",
    "    if(mask.nx == 1){\n",
    "        mask.transposeImage();\n",
    "    }\n",
    "    // create the output image\n",
    "    var output = new Image(img.shape());\n",
    "    // iterate through all pixels\n",
    "    for(var x = 0; x < img.nx; x++){\n",
    "        // get the neighbourhood around position x\n",
    "        var neigh = img.getNbh(x, 0, mask.nx, 1);\n",
    "        // declare a variable to store the values of the convolution. \n",
    "        var val = 0;\n",
    "        // iterate through the neighbourhood\n",
    "        for(var i = 0; i < neigh.nx; i++){\n",
    "            // perform convolution\n",
    "            val += neigh.getPixel(i, 0) * mask.getPixel(mask.nx - 1 - i, 0);\n",
    "        }\n",
    "        // set value in output array\n",
    "        output.setPixel(x, 0, val);\n",
    "    }\n",
    "    return output\n",
    "}"
   ]
  },
  {
   "cell_type": "markdown",
   "metadata": {
    "deletable": false,
    "editable": false,
    "kernel": "JavaScript",
    "nbgrader": {
     "cell_type": "markdown",
     "checksum": "d8e25714ca40f3b326f35de7f0411eee",
     "grade": false,
     "grade_id": "cell-6e545f157757b7dd",
     "locked": true,
     "schema_version": 3,
     "solution": false,
     "task": false
    }
   },
   "source": [
    "We have designed a quick test for you to evaluate your method, applying it to a $3 \\times 3$ impulse image. Run the following cell and check that your output has all the desired properties of a Gaussian."
   ]
  },
  {
   "cell_type": "code",
   "execution_count": 121,
   "metadata": {
    "deletable": false,
    "editable": false,
    "kernel": "JavaScript",
    "nbgrader": {
     "cell_type": "code",
     "checksum": "5692ba215490b7fc7efb024e46717c18",
     "grade": true,
     "grade_id": "cell-60827fde3a4cfda5",
     "locked": true,
     "points": 2,
     "schema_version": 3,
     "solution": false,
     "task": false
    }
   },
   "outputs": [
    {
     "name": "stdout",
     "output_type": "stream",
     "text": [
      "Your impulse Gaussian:\n",
      "[[ 0.011 0.084 0.011 ]\n",
      " [ 0.084 0.619 0.084 ]\n",
      " [ 0.011 0.084 0.011 ]]\n",
      "\n",
      "The symmetry of the Gaussian seems good.\n",
      "Well done! The output sums up to approximately 1.\n"
     ]
    }
   ],
   "source": [
    "%use javascript\n",
    "// define the impulse image\n",
    "var impulse = new Image([[0, 0, 0], [0, 1, 0], [0, 0, 0]]);\n",
    "\n",
    "// apply filter to previously defined impulse\n",
    "var impulse_gaussian = gaussian(impulse, 0.5);\n",
    "\n",
    "// look at result, verify that it has the properties of a Gaussian\n",
    "console.log('Your impulse Gaussian:\\n' + impulse_gaussian.visualize());\n",
    "\n",
    "// this assertion checks proper behaviour: that the center is the maximum, and that two pixels in equivalent positions have the same values.\n",
    "if(impulse_gaussian.getPixel(1, 1) < impulse_gaussian.getPixel(1, 2) || impulse_gaussian.getPixel(1, 0) !== impulse_gaussian.getPixel(1, 2)){\n",
    "    console.log('WARNING!!!\\nThere are still some mistakes with your implementation! Look at the sanity checks to understand the mistakes');\n",
    "}else{\n",
    "    console.log('The symmetry of the Gaussian seems good.');\n",
    "}\n",
    "\n",
    "// check normalization\n",
    "var sum = 0\n",
    "for(var x = 0; x < impulse_gaussian.nx; x++){\n",
    "    for (var y = 0; y < impulse_gaussian.ny; y++){\n",
    "        sum += impulse_gaussian.getPixel(x, y);\n",
    "    }\n",
    "}\n",
    "if(Math.abs(sum - 1) > 1e-5){\n",
    "    console.log(\"WARNING!!\\nNormalization not correct\");\n",
    "}else{\n",
    "    console.log(\"Well done! The output sums up to approximately 1.\");\n",
    "}"
   ]
  },
  {
   "cell_type": "markdown",
   "metadata": {
    "deletable": false,
    "editable": false,
    "kernel": "Python3",
    "nbgrader": {
     "cell_type": "markdown",
     "checksum": "827078da46983e9010058937269c1976",
     "grade": false,
     "grade_id": "cell-55250fb304b56fbb",
     "locked": true,
     "schema_version": 3,
     "solution": false,
     "task": false
    }
   },
   "source": [
    "Now that you have tested your Gaussian filter, apply it to the image `bikesgray`. Use different values of $\\sigma$ (you can change it in the next cell). Look at the evolution of the mean and the standard deviation (you can get them from the statistics box in the `viewer`, or you can use the functions `np.mean` and `np.std`). Then, answer the two multiple choice questions.\n",
    "\n",
    "Run and modify the two following cells to apply Gaussian filters with different $\\sigma$ values to `bikesgray` and view the result. "
   ]
  },
  {
   "cell_type": "code",
   "execution_count": 122,
   "metadata": {
    "kernel": "JavaScript"
   },
   "outputs": [],
   "source": [
    "%use javascript\n",
    "%put bikesgray_gaussian1 bikesgray_gaussian5\n",
    "\n",
    "// apply filter to Image object. To try different sigma values, change the variables or declare more. \n",
    "var bikesgray_gaussian1 = gaussian(new Image(bikesgray), 1).toArray()\n",
    "var bikesgray_gaussian5 = gaussian(new Image(bikesgray), 5).toArray()"
   ]
  },
  {
   "cell_type": "code",
   "execution_count": 123,
   "metadata": {
    "kernel": "SoS"
   },
   "outputs": [
    {
     "name": "stdout",
     "output_type": "stream",
     "text": [
      "[[0.05855018 0.09653293 0.05855018]\n",
      " [0.09653293 0.15915589 0.09653293]\n",
      " [0.05855018 0.09653293 0.05855018]]\n"
     ]
    },
    {
     "data": {
      "application/vnd.jupyter.widget-view+json": {
       "model_id": "fea884bce29a4d2e9c25c2ff2084314d",
       "version_major": 2,
       "version_minor": 0
      },
      "text/plain": [
       "HBox(children=(Output(layout=Layout(width='80%')), Output(), Output(layout=Layout(width='25%'))))"
      ]
     },
     "metadata": {},
     "output_type": "display_data"
    }
   ],
   "source": [
    "%use sos\n",
    "a = np.zeros((3, 3))\n",
    "a[1, 1] = 1\n",
    "print(skimage.filters.gaussian(a, sigma=1))\n",
    "\n",
    "# Declare parameters for ImageViewer. If you want to visualize more sigma values, update the previous cell and these lists accordingly\n",
    "image_list_blur = [bikesgray, bikesgray_gaussian1, bikesgray_gaussian5]\n",
    "title_list_blur = ['Original', 'Sigma: 1', 'Sigma: 5']\n",
    "# Make sure that the object used is a numpy array\n",
    "for i in range(len(image_list_blur)):\n",
    "    image_list_blur[i] = np.array(image_list_blur[i])\n",
    "\n",
    "# To allow a direct comparison of the images.\n",
    "plt.close('all')\n",
    "blurred_bikesgray_viewer = viewer(image_list_blur, title = title_list_blur, hist = True)"
   ]
  },
  {
   "cell_type": "markdown",
   "metadata": {
    "deletable": false,
    "editable": false,
    "kernel": "Python3",
    "nbgrader": {
     "cell_type": "markdown",
     "checksum": "d735e7c055f8dd90a4cb78b3fb7840a1",
     "grade": false,
     "grade_id": "cell-ad335badddb0d387",
     "locked": true,
     "schema_version": 3,
     "solution": false,
     "task": false
    }
   },
   "source": [
    "### Multiple Choice Question\n",
    "\n",
    "After modifying the two cells above and visualizing the results, answer the next two questions (worth **0.5 points** each).\n",
    "\n",
    "* Q1: How would you expect the Fourier transform to change?\n",
    "    1. It will show lower values for higher frequencies.\n",
    "    2. It will show higher values for higher frequencies.\n",
    "    3. It will show lower values for lower frequencies.\n",
    "    4. It will not change.\n",
    "\n",
    "\n",
    "* Q2: What will be the output image when $\\sigma\\rightarrow \\infty$? What type of filter would that be?\n",
    "    1. An image equal to the original. It would be an all-pass filter.\n",
    "    2. A constant image. It would be a high-pass filter.\n",
    "    3. A 2D Gaussian. It would be a band-pass filter.\n",
    "    4. A constant image. It would be a low-pass filter.\n",
    "\n",
    "Modify the variables `answer_one` and `answer_two` in the next cell to match your choices. The second and third cells are for you to make sure that your answer is in the valid range (they should not raise any error)."
   ]
  },
  {
   "cell_type": "code",
   "execution_count": 124,
   "metadata": {
    "deletable": false,
    "kernel": "SoS",
    "nbgrader": {
     "cell_type": "code",
     "checksum": "32a9b32c3392f858306ebd5a37335037",
     "grade": false,
     "grade_id": "cell-d31ab4ed244354b6",
     "locked": false,
     "schema_version": 3,
     "solution": true,
     "task": false
    }
   },
   "outputs": [],
   "source": [
    "%use sos\n",
    "# Modify these variables\n",
    "answer_one = 1\n",
    "answer_two = 4\n",
    "# YOUR CODE HERE"
   ]
  },
  {
   "cell_type": "code",
   "execution_count": 125,
   "metadata": {
    "deletable": false,
    "editable": false,
    "kernel": "SoS",
    "nbgrader": {
     "cell_type": "code",
     "checksum": "a6c11fceb2417e3d502be51a2e48235d",
     "grade": true,
     "grade_id": "cell-798aea71d77a0954",
     "locked": true,
     "points": 0.5,
     "schema_version": 3,
     "solution": false,
     "task": false
    }
   },
   "outputs": [],
   "source": [
    "%use sos\n",
    "# Sanity test\n",
    "if not answer_one in [1, 2, 3, 4, 5]:\n",
    "    print('WARNING!\\nAnswer one of 1, 2, 3, 4 or 5.')"
   ]
  },
  {
   "cell_type": "code",
   "execution_count": 126,
   "metadata": {
    "deletable": false,
    "editable": false,
    "kernel": "SoS",
    "nbgrader": {
     "cell_type": "code",
     "checksum": "4a81512f0a7bec47e5b282c4ac4df153",
     "grade": true,
     "grade_id": "cell-54c9fa3efc0ce756",
     "locked": true,
     "points": 0.5,
     "schema_version": 3,
     "solution": false,
     "task": false
    }
   },
   "outputs": [],
   "source": [
    "%use sos\n",
    "# Sanity test\n",
    "if not answer_two in [1, 2, 3, 4]:\n",
    "    print('WARNING!\\nAnswer one of 1, 2, 3 or 4.')"
   ]
  },
  {
   "cell_type": "markdown",
   "metadata": {
    "deletable": false,
    "editable": false,
    "kernel": "Python3",
    "nbgrader": {
     "cell_type": "markdown",
     "checksum": "c82433d7af85f2b543948216f9c8aef7",
     "grade": false,
     "grade_id": "cell-ab3b2bafff5869b1",
     "locked": true,
     "schema_version": 3,
     "solution": false,
     "task": false
    }
   },
   "source": [
    "## 1.B. Gaussian filter in Python\n",
    "[Back to table of contents](#ToC_2_FilteringApplications)\n",
    "\n",
    "There are several implementations of Gaussian filters in Python. In this section, we will use the `scikit-image` implementation (see its documentation [here](https://scikit-image.org/docs/dev/api/skimage.filters.html#skimage.filters.gaussian)). The basic syntax is the following:\n",
    "\n",
    "```python\n",
    "output = skimage.filters.gaussian(input, sigma, mode, truncate, preserve_range = True)\n",
    "```\n",
    "\n",
    "The parameters are:\n",
    "* `input` (numpy array): Original image.\n",
    "* `sigma` (float): $\\sigma$ value.\n",
    "* `mode` (string): Boundary conditions. As in the rest of the course, we will be using `'reflect'`. Look carefully at its description in [this link](https://docs.scipy.org/doc/scipy/reference/reference/generated/scipy.ndimage.convolve.html#scipy.ndimage.convolve).\n",
    "* `truncate` (float): truncate the filter at this many standard deviations. Defaults to 4, but **we will use 3** to agree with the implementation in JavaScript.\n",
    "* `preserve_range` (boolean): indicates whether to convert the image to a floating point value between $0$ and $1$ (`False`), or simply normalizing the Gaussian kernel to sum to one (`True`). \n",
    "\n",
    "The output is the filtered image. \n",
    "\n",
    "<div class = 'alert alert-info'>\n",
    "<b>Note</b>: In this lab we have presented -and will use- <i>Skimages'</i> implementation of the Gaussian filter because it is more adequate to what we need. However, we encourage you to check out OpenCV's and SciPy's implementation!\n",
    "</div>\n",
    "\n",
    "In the next cells, we will give you an example on the image `bikesgray`. Furthermore, we will compare it to your implementation. Run the next cell to get a blurred version of bikesgray using the skimage gaussian filter. We will use $\\sigma = 10$."
   ]
  },
  {
   "cell_type": "code",
   "execution_count": 127,
   "metadata": {
    "deletable": false,
    "editable": false,
    "kernel": "SoS",
    "nbgrader": {
     "cell_type": "code",
     "checksum": "7e0e0374f13127a9992e8d86b39f3316",
     "grade": false,
     "grade_id": "cell-96a61b2fe62e1965",
     "locked": true,
     "schema_version": 3,
     "solution": false,
     "task": false
    }
   },
   "outputs": [
    {
     "data": {
      "application/vnd.jupyter.widget-view+json": {
       "model_id": "32ff5748a97b4cb89acdaa4f96323c11",
       "version_major": 2,
       "version_minor": 0
      },
      "text/plain": [
       "HBox(children=(Output(layout=Layout(width='80%')), Output(), Output(layout=Layout(width='25%'))))"
      ]
     },
     "metadata": {},
     "output_type": "display_data"
    },
    {
     "data": {
      "application/vnd.jupyter.widget-view+json": {
       "model_id": "35e398968a5a40a4a29acc02792c7034",
       "version_major": 2,
       "version_minor": 0
      },
      "text/plain": [
       "Button(description='Show Widgets', style=ButtonStyle())"
      ]
     },
     "metadata": {},
     "output_type": "display_data"
    }
   ],
   "source": [
    "%use sos\n",
    "\n",
    "bikesgray_gaussian_skimage = skimage.filters.gaussian(bikesgray, sigma = 10 , mode = 'reflect', truncate = 3, preserve_range = True)\n",
    "gaussian_viewer = viewer(bikesgray_gaussian_skimage)"
   ]
  },
  {
   "cell_type": "markdown",
   "metadata": {
    "deletable": false,
    "editable": false,
    "kernel": "Python3",
    "nbgrader": {
     "cell_type": "markdown",
     "checksum": "73ddfd7e2b5f17fd08e44e13fd3f1100",
     "grade": false,
     "grade_id": "cell-7bd5fa00998f0187",
     "locked": true,
     "schema_version": 3,
     "solution": false,
     "task": false
    }
   },
   "source": [
    "Now, we will compare it to your implementation in JavaScript to make sure that they are equivalent (up to errors on the order of $10^{-14}$). For this, we call the `gaussian` function you implemented with the image bikesgray, also for $\\sigma = 10$. \n",
    "\n",
    "Run the next cell to get the variable `bikesgray_gaussian10`, and the one below it to make the comparison in Python. Note that, if the images are not the same, an `ImageViewer` will pop up, showing you in red the regions that differ the most. If necessary, you can use this information to try to find your mistakes. "
   ]
  },
  {
   "cell_type": "code",
   "execution_count": 128,
   "metadata": {
    "deletable": false,
    "editable": false,
    "kernel": "JavaScript",
    "nbgrader": {
     "cell_type": "code",
     "checksum": "18ff818221a4d3621c0a66457b42ec41",
     "grade": false,
     "grade_id": "cell-ea846baf9848b17b",
     "locked": true,
     "schema_version": 3,
     "solution": false,
     "task": false
    }
   },
   "outputs": [],
   "source": [
    "%use javascript\n",
    "%put bikesgray_gaussian10\n",
    "\n",
    "// apply filter to Image object\n",
    "var bikesgray_gaussian10 = gaussian(new Image(bikesgray), 10).toArray()"
   ]
  },
  {
   "cell_type": "code",
   "execution_count": 129,
   "metadata": {
    "kernel": "SoS",
    "tags": []
   },
   "outputs": [
    {
     "data": {
      "text/plain": [
       "array([[78.14869718, 78.13214596, 78.09992117, ..., 61.58882594,\n",
       "        61.5390265 , 61.51478112],\n",
       "       [78.14109973, 78.12452463, 78.09225347, ..., 61.56675507,\n",
       "        61.51688621, 61.49261002],\n",
       "       [78.12607468, 78.10945588, 78.07709982, ..., 61.52258502,\n",
       "        61.47258433, 61.44824993],\n",
       "       ...,\n",
       "       [30.37950886, 30.51500625, 30.79209222, ..., 27.53209726,\n",
       "        27.23359109, 27.08009227],\n",
       "       [30.50178406, 30.63707533, 30.9137314 , ..., 27.70547032,\n",
       "        27.40666202, 27.25300417],\n",
       "       [30.56396127, 30.69914409, 30.97557623, ..., 27.79292922,\n",
       "        27.49398022, 27.34024661]])"
      ]
     },
     "execution_count": 129,
     "metadata": {},
     "output_type": "execute_result"
    }
   ],
   "source": [
    "%use sos\n",
    "# Make sure that the one imported from JavaScript is a numpy array\n",
    "bikesgray_gaussian10 = np.array(bikesgray_gaussian10)\n",
    "bikesgray_gaussian10\n",
    "#np.abs(bikesgray_gaussian_skimage - bikesgray_gaussian10)"
   ]
  },
  {
   "cell_type": "markdown",
   "metadata": {
    "deletable": false,
    "editable": false,
    "kernel": "JavaScript",
    "nbgrader": {
     "cell_type": "markdown",
     "checksum": "870d098addb89c122f2261a0276432d5",
     "grade": false,
     "grade_id": "cell-fa5028dc9b008544",
     "locked": true,
     "schema_version": 3,
     "solution": false,
     "task": false
    }
   },
   "source": [
    "Now we will look at each of them and at their differences. Look at the range of values in the histogram to verify the scale of the differences."
   ]
  },
  {
   "cell_type": "code",
   "execution_count": 130,
   "metadata": {
    "deletable": false,
    "editable": false,
    "kernel": "SoS",
    "nbgrader": {
     "cell_type": "code",
     "checksum": "015f4d8623d1ec826edd862b01552710",
     "grade": true,
     "grade_id": "cell-fbc96337ae903689",
     "locked": true,
     "points": 1,
     "schema_version": 3,
     "solution": false,
     "task": false
    }
   },
   "outputs": [
    {
     "name": "stdout",
     "output_type": "stream",
     "text": [
      "Seems like your Gaussian filter is correct!\n"
     ]
    }
   ],
   "source": [
    "%use sos\n",
    "\n",
    "# Make sure that the one imported from JavaScript is a numpy array\n",
    "bikesgray_gaussian10 = np.array(bikesgray_gaussian10)\n",
    "\n",
    "# Declare parameters of viewer\n",
    "image_list = [bikesgray_gaussian10, bikesgray_gaussian_skimage, np.abs(bikesgray_gaussian_skimage - bikesgray_gaussian10)]\n",
    "title_list = ['JS', 'Skimage', 'Difference']\n",
    "\n",
    "# We call the viewer with clip_range = [0, 1] to compare the difference with respect to the originals\n",
    "plt.close('all')\n",
    "if not np.allclose(bikesgray_gaussian10, bikesgray_gaussian_skimage):\n",
    "    print('The results of your Gaussian filter do not match Skimage results! Look at the red areas in the viewer to see where you might have gone wrong.')\n",
    "    skimage_gaussian_viewer = viewer([bikesgray_gaussian10, bikesgray_gaussian_skimage], title = ['JS', 'Skimage'], widgets = True, compare = True)\n",
    "else :\n",
    "    print('Seems like your Gaussian filter is correct!')"
   ]
  },
  {
   "cell_type": "markdown",
   "metadata": {
    "deletable": false,
    "editable": false,
    "kernel": "Python3",
    "nbgrader": {
     "cell_type": "markdown",
     "checksum": "6d3f783e78701bdc9aaf04fc1057a05b",
     "grade": false,
     "grade_id": "cell-fbad05695a20a7ac",
     "locked": true,
     "schema_version": 3,
     "solution": false,
     "task": false
    }
   },
   "source": [
    "# 2. Application: Spot detector (5 points)\n",
    "[Back to table of contents](#ToC_2_FilteringApplications)\n",
    "\n",
    "Now that you have implemented several filters and you master the concepts behind digital filtering, we are going to lead you in a real application of Gaussian filtering. You are going to implement a *spot detector*, based on the Difference of Gaussians (DoG) filter. From now on, you will only be using Python libraries.\n",
    "\n",
    "A good algorithm to detect spots is to compute the local maximum on the output of the DoG filter (Difference of Gaussians), which is an approximation of the Laplacian-of-Gaussian (LoG) filter explained on _page 5-35_ of the course notes.\n",
    "\n",
    "In the following two exercises we'll be using the image `spots`. Run the next cell to visualize it again.\n",
    "\n",
    "<div class = 'alert alert-success'>\n",
    "<b>Note</b>: A naive first thought could be that a simple thresholding can detect <i><u>bright</u></i> spots. In the end, they are brighter than the rest of the image aren't they? Explore the image carefully -hover you mouse around the image and look at the pixel values-. You will quickly realize that there exists no such threshold, which is why we need to use more sophisiticated techniques. Moreover, the <i>spot detector</i> you will code is robust to noise, and to changing pixel values accross images. \n",
    "</div>"
   ]
  },
  {
   "cell_type": "code",
   "execution_count": 131,
   "metadata": {
    "deletable": false,
    "editable": false,
    "kernel": "SoS",
    "nbgrader": {
     "cell_type": "code",
     "checksum": "72b0f9aa237d1e9890f39787161f27f0",
     "grade": false,
     "grade_id": "cell-47d11e507bc385e4",
     "locked": true,
     "schema_version": 3,
     "solution": false,
     "task": false
    }
   },
   "outputs": [
    {
     "data": {
      "application/vnd.jupyter.widget-view+json": {
       "model_id": "36817ded8a0b4f9ea3bb9576f43e072e",
       "version_major": 2,
       "version_minor": 0
      },
      "text/plain": [
       "HBox(children=(Output(layout=Layout(width='80%')), Output(), Output(layout=Layout(width='25%'))))"
      ]
     },
     "metadata": {},
     "output_type": "display_data"
    },
    {
     "data": {
      "application/vnd.jupyter.widget-view+json": {
       "model_id": "5b6c04dd1052430883cd30c0cf014c02",
       "version_major": 2,
       "version_minor": 0
      },
      "text/plain": [
       "Button(description='Show Widgets', style=ButtonStyle())"
      ]
     },
     "metadata": {},
     "output_type": "display_data"
    }
   ],
   "source": [
    "%use sos\n",
    "plt.close('all')\n",
    "spots_vis = viewer(spots)"
   ]
  },
  {
   "cell_type": "markdown",
   "metadata": {
    "deletable": false,
    "editable": false,
    "kernel": "SoS",
    "nbgrader": {
     "cell_type": "markdown",
     "checksum": "b72d82c4a9dfb67cc1131ca2eb891738",
     "grade": false,
     "grade_id": "cell-23b603ff28264ca5",
     "locked": true,
     "schema_version": 3,
     "solution": false,
     "task": false
    }
   },
   "source": [
    "## 2.A. Difference of Gaussians (2 points)\n",
    "[Back to table of contents](#ToC_2_FilteringApplications)\n",
    "\n",
    "The DoG is constructed from the subtraction of two Gaussian functions, i.e., $\\mathrm{DoG}(x) = h_{\\sigma_{1}}(x) - h_{\\sigma_2}(x)$. It is usually parametrised only by $\\sigma_1$, and $\\sigma_2$ is chosen as $\\sigma_2 = \\sqrt{2}\\sigma_1$. Experiment with the value of $\\sigma_1$ in the next cell to see the kind of profile generated by this filter in 1D (use the slider to do so). "
   ]
  },
  {
   "cell_type": "code",
   "execution_count": 162,
   "metadata": {
    "deletable": false,
    "editable": false,
    "kernel": "SoS",
    "nbgrader": {
     "cell_type": "code",
     "checksum": "f4beb7d8544e37fee10270f52240f149",
     "grade": false,
     "grade_id": "cell-81f9d8b8afe93d36",
     "locked": true,
     "schema_version": 3,
     "solution": false,
     "task": false
    }
   },
   "outputs": [
    {
     "data": {
      "application/vnd.jupyter.widget-view+json": {
       "model_id": "c07cfb581bcb46748f6c03cfef5c8ae0",
       "version_major": 2,
       "version_minor": 0
      },
      "text/plain": [
       "Canvas(toolbar=Toolbar(toolitems=[('Home', 'Reset original view', 'home', 'home'), ('Pan', 'Pan axes with left…"
      ]
     },
     "metadata": {},
     "output_type": "display_data"
    },
    {
     "data": {
      "application/vnd.jupyter.widget-view+json": {
       "model_id": "b4980ce6bb7647e6bdc93a27027017f5",
       "version_major": 2,
       "version_minor": 0
      },
      "text/plain": [
       "FloatSlider(value=1.0, description='$\\\\sigma_1$', max=5.0, min=0.5)"
      ]
     },
     "metadata": {},
     "output_type": "display_data"
    }
   ],
   "source": [
    "%use sos\n",
    "# Choose sigmas\n",
    "sigma_slider = widgets.FloatSlider(value=0.5, min=0.5, max=5, description='$\\sigma_1$')\n",
    "\n",
    "# Initialize figure\n",
    "plt.close('all')\n",
    "fig, ax = plt.subplots(1, 1, num=f\"Difference of Gaussians filter in 1D - SCIPER: {uid}\", figsize = [10,4])\n",
    "ax.plot(0, 0, 0, 0, 0, 0);\n",
    "ax.set_xlabel(r\"$x$\"); plt.legend([r\"$h_{\\sigma_1}(x)$\", r\"$h_{\\sigma_2}(x)$\", r\"$\\mathrm{DoG}_{\\sigma_1}(x)$\"]);\n",
    "ax.set_xlim([-20, 20]); ax.set_ylim([-0.1, 0.8])\n",
    "ax.grid(); fig.tight_layout()\n",
    " \n",
    "# Plotting function - Callback for slider\n",
    "def dog_1d(change):\n",
    "    # Get value of sigma, initialize variables of interest and clear axes\n",
    "    sigma_1 = change.new\n",
    "    sigma_2 = sigma_1*np.sqrt(2)\n",
    "    # Update plot\n",
    "    x = np.arange(-3*sigma_2, (3+6./100)*sigma_2, 6*sigma_2/100)\n",
    "    ax.lines[0].set_data(x, scipy.stats.norm(scale=sigma_1).pdf(x))\n",
    "    ax.lines[1].set_data(x, scipy.stats.norm(scale=sigma_2).pdf(x))\n",
    "    ax.lines[2].set_data(x, scipy.stats.norm(scale=sigma_1).pdf(x) - scipy.stats.norm(scale=sigma_2).pdf(x));\n",
    "\n",
    "sigma_slider.observe(dog_1d, 'value')\n",
    "sigma_slider.value = 1\n",
    "display(sigma_slider)"
   ]
  },
  {
   "cell_type": "markdown",
   "metadata": {
    "deletable": false,
    "editable": false,
    "kernel": "SoS",
    "nbgrader": {
     "cell_type": "markdown",
     "checksum": "18b83e64397dc452c246a1fb38d45dfa",
     "grade": false,
     "grade_id": "cell-d32eba378f29b254",
     "locked": true,
     "schema_version": 3,
     "solution": false,
     "task": false
    }
   },
   "source": [
    "For **1 point**, modify the next cell and write the function `dog`, that takes as input an image and the value of $\\sigma_1$. This function should implement the DoG filter by combining the result of two Gaussian filters. **You should hardcode the value of $\\sigma_2 = \\sigma_1\\sqrt{2}$**. After getting the *DoG*, normalize the output of your function so that it expands the range $[0,1]$.\n",
    "\n",
    "<div class = 'alert alert-info'>\n",
    "<b>Note</b>: in Section <a href=\"#1.B.-Gaussian-filter-in-Python\">1.B.</a> we presented you the <code>scikit-image</code> implementation, which is simple and clear ($2$ strong points of SciKit-Image). However, as you will see later, OpenCV and SciPy tend to be faster, and have different strong points. Of course we will accept any correct implementation, but we encourage you to find OpenCV's and SciPy's implementations and use the one you prefer! <b>Make sure you use the correct parameters, like <code>preserve_range = True</code> option (or equivalent), truncating the filter at $3\\sigma$ (so $N = 2\\lceil 3\\sigma \\rceil+1$), and using <code>'reflect'</code> or equivalent boundary conditions.</b>\n",
    "</div>\n",
    "\n",
    "Complete the function `dog` in the next cell, where we have also included an initial sanity check."
   ]
  },
  {
   "cell_type": "code",
   "execution_count": 166,
   "metadata": {
    "deletable": false,
    "kernel": "SoS",
    "nbgrader": {
     "cell_type": "code",
     "checksum": "75be5374520a354b21499c18fbde08e6",
     "grade": false,
     "grade_id": "cell-674ef161dfa3e785",
     "locked": false,
     "schema_version": 3,
     "solution": true,
     "task": false
    }
   },
   "outputs": [],
   "source": [
    "%use sos\n",
    "def dog(image, sigma_1):\n",
    "    output = np.copy(image)\n",
    "    \n",
    "    # Apply the DoG filter to image\n",
    "    sigma_2 = np.sqrt(2) * sigma_1\n",
    "    \n",
    "    '''\n",
    "    sigma_2 = sigma_1 * np.sqrt(2)\n",
    "    output = skimage.filters.difference_of_gaussians(image, low_sigma=sigma_1, high_sigma=sigma_2, mode='reflect', truncate=np.ceil(sigma_1))\n",
    "    output = (output - np.min(output)) / (np.max(output) - np.min(output))\n",
    "    '''\n",
    "    low_sigma = skimage.filters.gaussian(output, sigma_1, mode='reflect', preserve_range=True, truncate=3*sigma_1)\n",
    "    high_sigma = skimage.filters.gaussian(output, sigma_2, mode='reflect', preserve_range=True, truncate=3*sigma_2)\n",
    "    \n",
    "    output = low_sigma - high_sigma\n",
    "    output = (output - np.min(output)) / (np.max(output) - np.min(output))\n",
    "    \n",
    "    return output\n",
    "\n",
    "err_message = \"Remember to normalize the output so that it spans the range [0,1].\"\n",
    "assert dog(spots, 1).max() == 1, err_message\n",
    "assert dog(spots, 1).min() == 0, err_message"
   ]
  },
  {
   "cell_type": "markdown",
   "metadata": {
    "deletable": false,
    "editable": false,
    "kernel": "Python3",
    "nbgrader": {
     "cell_type": "markdown",
     "checksum": "290dbd8b58a9e2fe97d7e23d4a4e45c7",
     "grade": false,
     "grade_id": "cell-c377142e63832728",
     "locked": true,
     "schema_version": 3,
     "solution": false,
     "task": false
    }
   },
   "source": [
    "In the next two cells, you will visualize the results of your function for different $\\sigma$ values. We will declare a slider with values in the range $[0-10]$, a button and an activation function to get the value of the slider and apply your function to an input image. \n",
    "\n",
    "First, run the next cell to declare these widgets and the function."
   ]
  },
  {
   "cell_type": "code",
   "execution_count": 167,
   "metadata": {
    "deletable": false,
    "editable": false,
    "kernel": "SoS",
    "nbgrader": {
     "cell_type": "code",
     "checksum": "727da4e4ff0f4ff1e8be144896d3284a",
     "grade": true,
     "grade_id": "cell-285ed553c8175cd9",
     "locked": true,
     "points": 0.5,
     "schema_version": 3,
     "solution": false,
     "task": false
    }
   },
   "outputs": [],
   "source": [
    "%use sos\n",
    "# Define sliders and button\n",
    "sigma_slider = widgets.FloatSlider(value=1, min=0.5, max=10.0, step=0.5, description='\\u03c3\\u2081:')\n",
    "button = widgets.Button(description = 'Apply DoG')\n",
    "# Define callback function\n",
    "def button_dog(image):\n",
    "    sigma = sigma_slider.value\n",
    "    image = dog(image, sigma)\n",
    "    return image"
   ]
  },
  {
   "cell_type": "markdown",
   "metadata": {
    "deletable": false,
    "editable": false,
    "kernel": "SoS",
    "nbgrader": {
     "cell_type": "markdown",
     "checksum": "520076d339c61855d313207f2efc3fb6",
     "grade": false,
     "grade_id": "cell-03303684c8a43c42",
     "locked": true,
     "schema_version": 3,
     "solution": false,
     "task": false
    }
   },
   "source": [
    "Now run the next cell to visualize the results. Go to the menu *Extra Widgets*, where you can find the slider. You will apply it to the image `spots`. If you want to experiment with the filter using other values of $\\sigma_1$, you can modify the values `min`, `max` and `step` in the cell above. "
   ]
  },
  {
   "cell_type": "code",
   "execution_count": 168,
   "metadata": {
    "deletable": false,
    "editable": false,
    "kernel": "SoS",
    "nbgrader": {
     "cell_type": "code",
     "checksum": "36e161e5f0b2297ad9d6d4e1954e5a4b",
     "grade": true,
     "grade_id": "cell-7d39aaad843fd5f9",
     "locked": true,
     "points": 0.5,
     "schema_version": 3,
     "solution": false,
     "task": false
    }
   },
   "outputs": [
    {
     "data": {
      "application/vnd.jupyter.widget-view+json": {
       "model_id": "aba9e2ae27364bef99dac9f920eacde4",
       "version_major": 2,
       "version_minor": 0
      },
      "text/plain": [
       "HBox(children=(Output(layout=Layout(width='80%')), Output(), Output(layout=Layout(width='25%'))))"
      ]
     },
     "metadata": {},
     "output_type": "display_data"
    }
   ],
   "source": [
    "%use sos\n",
    "# Visualize the dog spots\n",
    "plt.close(\"all\")\n",
    "dog_viewer = viewer(spots, title = \"DoG Spots\", new_widgets = [sigma_slider, button], callbacks = [button_dog], widgets = True, normalize = True)"
   ]
  },
  {
   "cell_type": "markdown",
   "metadata": {
    "deletable": false,
    "editable": false,
    "kernel": "Python3",
    "nbgrader": {
     "cell_type": "markdown",
     "checksum": "49e58078a331af9f3a8679e7f22a8b2b",
     "grade": false,
     "grade_id": "cell-fcf5fd34130ddd5f",
     "locked": true,
     "schema_version": 3,
     "solution": false,
     "task": false
    }
   },
   "source": [
    "### Multiple choice question (0.5 points each)\n",
    "\n",
    "* Q1: What type of filter is the DoG?\n",
    "\n",
    "    1. Low-pass  \n",
    "    2. Band-pass  \n",
    "    3. High-pass  \n",
    "\n",
    "\n",
    "* Q2: Which $\\sigma$ would you choose to highlight the spots?\n",
    "\n",
    "    1. 1.5  \n",
    "    2. 5  \n",
    "    3. 10 \n",
    "\n",
    "\n",
    "Modify the variables `answer_one` and `answer_two` in the next cell to your choices. Use the subsequent two cells to verify that your answers are valid."
   ]
  },
  {
   "cell_type": "code",
   "execution_count": 169,
   "metadata": {
    "deletable": false,
    "kernel": "SoS",
    "nbgrader": {
     "cell_type": "code",
     "checksum": "be2c913856eded346f758da32ad5f40e",
     "grade": false,
     "grade_id": "cell-dda6c8f5f9a1c163",
     "locked": false,
     "schema_version": 3,
     "solution": true,
     "task": false
    }
   },
   "outputs": [],
   "source": [
    "%use sos\n",
    "# Modify these variables\n",
    "answer_one = 2\n",
    "answer_two = 1\n",
    "# YOUR CODE HERE"
   ]
  },
  {
   "cell_type": "code",
   "execution_count": 170,
   "metadata": {
    "deletable": false,
    "editable": false,
    "kernel": "SoS",
    "nbgrader": {
     "cell_type": "code",
     "checksum": "ed2f9ddf9360987af8c4ab38ef756000",
     "grade": true,
     "grade_id": "cell-d7c3a04da9a8c7b5",
     "locked": true,
     "points": 0.5,
     "schema_version": 3,
     "solution": false,
     "task": false
    }
   },
   "outputs": [],
   "source": [
    "%use sos\n",
    "# Sanity check\n",
    "if not answer_one in [1, 2, 3]:\n",
    "    print('WARNING!\\nAnswer one of 1, 2 or 3.')\n",
    "assert answer_one in [1, 2, 3], 'Choose one of 1, 2 or 3.'"
   ]
  },
  {
   "cell_type": "code",
   "execution_count": 171,
   "metadata": {
    "deletable": false,
    "editable": false,
    "kernel": "SoS",
    "nbgrader": {
     "cell_type": "code",
     "checksum": "79ebf3abdd70741fc35ed55b6b79881d",
     "grade": true,
     "grade_id": "cell-7cf69ee788a9b5d6",
     "locked": true,
     "points": 0.5,
     "schema_version": 3,
     "solution": false,
     "task": false
    }
   },
   "outputs": [],
   "source": [
    "%use sos\n",
    "# Sanity check\n",
    "if not answer_two in [1, 2, 3]:\n",
    "    print('WARNING!\\nAnswer one of 1, 2 or 3.')"
   ]
  },
  {
   "cell_type": "markdown",
   "metadata": {
    "deletable": false,
    "editable": false,
    "kernel": "Python3",
    "nbgrader": {
     "cell_type": "markdown",
     "checksum": "713c624a286c92581d9e33ca6cbaf185",
     "grade": false,
     "grade_id": "cell-81417b2b120db889",
     "locked": true,
     "schema_version": 3,
     "solution": false,
     "task": false
    }
   },
   "source": [
    "## 2.B. Local maxima (1 point)\n",
    "[Back to table of contents](#ToC_2_FilteringApplications)\n",
    "\n",
    "Now you will write the function `local_max(img, T)` that returns a binary image. This function will set the pixels which are a local maximum in a $3\\times 3$ neighbourhood to the maximum value of the image, and any other pixels to $0$. A local maximum is a pixel that has a value strictly greater than its 8 closest neighbors (8-connected) and is strictly greater than a threshold $T$ (specified between $0$ and $1$, relative to the maximum of the image).\n",
    "\n",
    "<div class=\"alert alert-info\">\n",
    "\n",
    "**Remember:** 8-connected pixels are neighbors to every pixel that touches one of their edges or corners. <img src=\"images/8_connectivity.jpg\" alt=\"8-connectivity\" width=\"100px\">\n",
    "</div>\n",
    "\n",
    "<div class = 'alert alert-success'>\n",
    "<b>Hint</b>: Remember that Image Processing libraries can do most of the work for you. <code>scikit-image</code> has the method <code>skimage.feature.peak_local_max</code> (<a href = 'https://scikit-image.org/docs/0.7.0/api/skimage.feature.peak'>see documentation here</a>), which allows you to specify the size of the neighborhood (through the parameter <code>min_distance</code>, that leads to regions of size <code>2*min_distance+1</code>) and a threshold relative to the maximum value of the image. It outputs the coordinates of the corresponding pixels. Once you have the coordinates, you can use them to index an array and put the desired value in the appropriate places. For example, if we have a NumPy array <code>peaks</code> with local maxima locations as the one returned by the aforementioned function, you can index an image as <code>output[peaks[:,0], peaks[:,1]] = value</code>.\n",
    "    \n",
    "We strongly suggest you use this function. If you are curious about the algorithm, remember that in the documentation of most Python libraries, you can find the <a href = 'https://github.com/scikit-image/scikit-image/blob/main/skimage/feature/peak.py#L119-L326'>source code</a> of a function.\n",
    "</div>\n",
    "    \n",
    "For **1 point**, modify the next cell and define your function."
   ]
  },
  {
   "cell_type": "code",
   "execution_count": 172,
   "metadata": {
    "deletable": false,
    "kernel": "SoS",
    "nbgrader": {
     "cell_type": "code",
     "checksum": "6dad14406c1a937e8bce8eb970807d26",
     "grade": false,
     "grade_id": "cell-3d3323cd890505a7",
     "locked": false,
     "schema_version": 3,
     "solution": true,
     "task": false
    }
   },
   "outputs": [],
   "source": [
    "%use sos\n",
    "# Import the module feature from skimage if you are going to use it\n",
    "# Use it as feature.peak_local_max\n",
    "from skimage import feature\n",
    "\n",
    "# Function that computes the local max in a 3x3 nbh\n",
    "def local_max(img, T):\n",
    "    output = np.zeros(img.shape)\n",
    "    \n",
    "    # Apply the local maxima\n",
    "    T_intensity = np.max(img) * T\n",
    "    max_intensity = np.max(img)\n",
    "    peaks = feature.peak_local_max(img, min_distance=1)\n",
    "    \n",
    "    for i in range(len(peaks)):\n",
    "        if img[peaks[i,0], peaks[i,1]] > T_intensity:\n",
    "            output[peaks[i,0], peaks[i,1]] = max_intensity\n",
    "\n",
    "    return output"
   ]
  },
  {
   "cell_type": "markdown",
   "metadata": {
    "deletable": false,
    "editable": false,
    "kernel": "Python3",
    "nbgrader": {
     "cell_type": "markdown",
     "checksum": "d8ad318bbd23175087cdd6848df42e1b",
     "grade": false,
     "grade_id": "cell-3d454b9aa5651480",
     "locked": true,
     "schema_version": 3,
     "solution": false,
     "task": false
    }
   },
   "source": [
    "Run the next cell for a quick test on your function. In it, we test  that your image applied to `camera` with a threshold $T = 0.5$ detects exactly the four maximum points of the image, as it should. If the assertion raises no error, your function is most probably correct."
   ]
  },
  {
   "cell_type": "code",
   "execution_count": 173,
   "metadata": {
    "deletable": false,
    "editable": false,
    "kernel": "SoS",
    "nbgrader": {
     "cell_type": "code",
     "checksum": "b305e75d156bc4dd8823f5c91de3b43f",
     "grade": true,
     "grade_id": "cell-bd08c0fedcdfd206",
     "locked": true,
     "points": 1,
     "schema_version": 3,
     "solution": false,
     "task": false
    }
   },
   "outputs": [
    {
     "name": "stdout",
     "output_type": "stream",
     "text": [
      "Congratulations! Your function passed this initial sanity check.\n"
     ]
    }
   ],
   "source": [
    "%use sos\n",
    "\n",
    "if np.count_nonzero(local_max(camera, 0.5)) in [4, 5]:\n",
    "    print('Congratulations! Your function passed this initial sanity check.')\n",
    "else :\n",
    "    print('WARNING!!\\nYour function is not working on the image `cameras` as it should.')"
   ]
  },
  {
   "cell_type": "markdown",
   "metadata": {
    "deletable": false,
    "editable": false,
    "kernel": "Python3",
    "nbgrader": {
     "cell_type": "markdown",
     "checksum": "88b93cca40e78f3b09d4bf39ad037332",
     "grade": false,
     "grade_id": "cell-c7584daecf25a116",
     "locked": true,
     "schema_version": 3,
     "solution": false,
     "task": false
    }
   },
   "source": [
    "Now you are going to see the effect of this function through a slider on the `ImageViewer`. Like in the exercise to visualize the effects of `dog()`, we will declare one slider for the threshold and one button to call the `local_max` method. \n",
    "\n",
    "Run the next cell to test it on the image `camera`. Do you think that this function would be able to detect the **6 spots** in `spots`?  Modify the next cell and look at the result of your function applied to other images!\n",
    "\n",
    "<div class = 'alert alert-info'>\n",
    "<b>Note</b>: In the image camera, you might notice a somewhat strange behaviour with the bright pixel located at the bottom of the image. Do you know why is this happening? If you don't, have a closer look at the documentation of <code>feature.peak_local_max</code>! In any case, as you might guess, this boundary artifact will not have any effect on the image <code>spots</code>, our real test image.\n",
    "</div>"
   ]
  },
  {
   "cell_type": "code",
   "execution_count": 174,
   "metadata": {
    "kernel": "SoS"
   },
   "outputs": [
    {
     "data": {
      "application/vnd.jupyter.widget-view+json": {
       "model_id": "4b64f0492477411fb82b464a49732213",
       "version_major": 2,
       "version_minor": 0
      },
      "text/plain": [
       "HBox(children=(Output(layout=Layout(width='80%')), Output(), Output(layout=Layout(width='25%'))))"
      ]
     },
     "metadata": {},
     "output_type": "display_data"
    }
   ],
   "source": [
    "%use sos\n",
    "\n",
    "threshold_slider = widgets.FloatSlider(value=0, min=0, max=1, step=0.01, description='T:')\n",
    "button = widgets.Button(description = 'Apply Local Maxima')\n",
    "\n",
    "def button_local_max(image):\n",
    "    t = threshold_slider.value\n",
    "    image = local_max(image, t)\n",
    "    return image\n",
    "\n",
    "local_max_viewer = viewer(camera, title = \"Local Maxima\", new_widgets = [threshold_slider, button], callbacks = [button_local_max], widgets=True)"
   ]
  },
  {
   "cell_type": "markdown",
   "metadata": {
    "deletable": false,
    "editable": false,
    "kernel": "Python3",
    "nbgrader": {
     "cell_type": "markdown",
     "checksum": "71a5022f8b427aeee78f7c41c3dad101",
     "grade": false,
     "grade_id": "cell-1deb1d7cd1c39f9b",
     "locked": true,
     "schema_version": 3,
     "solution": false,
     "task": false
    }
   },
   "source": [
    "## 2.C. Spot detector (2 points)\n",
    "[Back to table of contents](#ToC_2_FilteringApplications)\n",
    "\n",
    "For **1 point**, implement the method `spot_detector(img, sigma, T)`, where you use your previous two functions to detect spots. In other words, apply the detection of local maxima on the output of the DoG filter."
   ]
  },
  {
   "cell_type": "code",
   "execution_count": 175,
   "metadata": {
    "deletable": false,
    "kernel": "SoS",
    "nbgrader": {
     "cell_type": "code",
     "checksum": "6002850816ff3773cf72e5fd1895c1d2",
     "grade": false,
     "grade_id": "cell-ea2375434c08cbb4",
     "locked": false,
     "schema_version": 3,
     "solution": true,
     "task": false
    },
    "tags": []
   },
   "outputs": [],
   "source": [
    "%use sos\n",
    "# Function that detects spots in img, using sigma and a threshold T\n",
    "def spot_detector(img, sigma, T):\n",
    "    output = None\n",
    "    \n",
    "    # Apply spot detector\n",
    "    output_dog = dog(img, sigma)\n",
    "    output = local_max(output_dog, T)\n",
    "    \n",
    "    return output"
   ]
  },
  {
   "cell_type": "markdown",
   "metadata": {
    "deletable": false,
    "editable": false,
    "kernel": "Python3",
    "nbgrader": {
     "cell_type": "markdown",
     "checksum": "7120347384e68a2f299dd5a1f04e79c5",
     "grade": false,
     "grade_id": "cell-b2328e6a28636925",
     "locked": true,
     "schema_version": 3,
     "solution": false,
     "task": false
    }
   },
   "source": [
    "Run the next cell for a quick test on your function."
   ]
  },
  {
   "cell_type": "code",
   "execution_count": 176,
   "metadata": {
    "deletable": false,
    "editable": false,
    "kernel": "SoS",
    "nbgrader": {
     "cell_type": "code",
     "checksum": "953ee72197a4e9f4765fbba061fb9391",
     "grade": true,
     "grade_id": "cell-236fd22ab8cd9cc8",
     "locked": true,
     "points": 1,
     "schema_version": 3,
     "solution": false,
     "task": false
    }
   },
   "outputs": [
    {
     "name": "stdout",
     "output_type": "stream",
     "text": [
      "Congratulations! Your spot detector seems to be correct.\n"
     ]
    }
   ],
   "source": [
    "%use sos\n",
    "\n",
    "if not np.count_nonzero(spot_detector(spots, 1, 0.3)) == 6:\n",
    "    print('WARNING!!!\\nYour function is not yet correct. First make sure that `dog` and `local_max` are.')\n",
    "else :\n",
    "    print('Congratulations! Your spot detector seems to be correct.')"
   ]
  },
  {
   "cell_type": "markdown",
   "metadata": {
    "deletable": false,
    "editable": false,
    "kernel": "Python3",
    "nbgrader": {
     "cell_type": "markdown",
     "checksum": "877b1f437706096cbc12856bc25b8d31",
     "grade": false,
     "grade_id": "cell-1ab167d65b94d87e",
     "locked": true,
     "schema_version": 3,
     "solution": false,
     "task": false
    }
   },
   "source": [
    "Now, lets apply your function to the image `spots` inside an `ImageViewer`, using two sliders for the values of $\\sigma_1$ and $T$. \n",
    "\n",
    "Run the following cell, and play with these values (access the sliders through the button *Extra Widgets*). Explore the results also on other images.\n",
    "\n",
    "<div class=\"alert alert-info\">\n",
    "\n",
    "**Note:** Because it can be hard to see single white pixels on some screens (especially if they're dusty) we also print the number of spots that have been detected when applying the function in the viewer. You can also make the image larger by dragging the gray triangle in the bottom right corner of the image.\n",
    "</div>"
   ]
  },
  {
   "cell_type": "code",
   "execution_count": 177,
   "metadata": {
    "deletable": false,
    "editable": false,
    "kernel": "SoS",
    "nbgrader": {
     "cell_type": "code",
     "checksum": "de7286e95d4dcd08d5fbfbdd457dc2e4",
     "grade": false,
     "grade_id": "cell-0ae2b2b07fe6909b",
     "locked": true,
     "schema_version": 3,
     "solution": false,
     "task": false
    }
   },
   "outputs": [
    {
     "data": {
      "application/vnd.jupyter.widget-view+json": {
       "model_id": "c9d9f82e0e5c4d4691982a3641e57806",
       "version_major": 2,
       "version_minor": 0
      },
      "text/plain": [
       "HBox(children=(Output(layout=Layout(width='80%')), Output(), Output(layout=Layout(width='25%'))))"
      ]
     },
     "metadata": {},
     "output_type": "display_data"
    }
   ],
   "source": [
    "%use sos\n",
    "\n",
    "# Define sliders\n",
    "sigma_slider = widgets.FloatSlider(value=5, min=0.5, max=10.0, step=0.5, description=\"\\u03c3\\u2081:\")\n",
    "t_slider = widgets.FloatSlider(value=0.5, min=0, max=1, step=0.01, description='T:')\n",
    "button = widgets.Button(description='Apply Spot Detection')\n",
    "\n",
    "# Define callback function\n",
    "def button_spot_detection(image):\n",
    "    sigma = sigma_slider.value\n",
    "    t = t_slider.value\n",
    "    image = spot_detector(image, sigma, t)\n",
    "    contours, _ = cv.findContours(image.astype(np.uint8), cv.RETR_LIST, cv.CHAIN_APPROX_NONE)\n",
    "    print(f'Detected {len(contours):4} spots.', end='\\r')\n",
    "    return image\n",
    "\n",
    "# Launch viewer\n",
    "plt.close(\"all\")\n",
    "spot_detector_viewer = viewer(spots, title = \"Spot Detector\", new_widgets = [sigma_slider, t_slider, button], callbacks = [button_spot_detection], widgets=True, normalize=True )"
   ]
  },
  {
   "cell_type": "markdown",
   "metadata": {
    "deletable": false,
    "editable": false,
    "kernel": "Python3",
    "nbgrader": {
     "cell_type": "markdown",
     "checksum": "5e2f057022cfc54fb140469094ae317c",
     "grade": false,
     "grade_id": "cell-1beb5d91da314289",
     "locked": true,
     "schema_version": 3,
     "solution": false,
     "task": false
    }
   },
   "source": [
    "### Multiple choice question (1 point)\n",
    "\n",
    "What pair of parameters will give you exactly 6 spots? If there are more than one, try to select the most reasonable one. \n",
    "\n",
    "1. $\\sigma_1 = 10$ and $T = 0.2$,\n",
    "2. $\\sigma_1 = 5$ and $T = 0.6$, \n",
    "3. $\\sigma_1 = 5$ and $T = 0.2$, or\n",
    "4. $\\sigma_1 = 1$ and $T = 0.3$.\n",
    "\n",
    "Modify the variable answer in the next cell to reflect your choice. Run the last cell to check that your answer is valid."
   ]
  },
  {
   "cell_type": "code",
   "execution_count": 180,
   "metadata": {
    "deletable": false,
    "kernel": "SoS",
    "nbgrader": {
     "cell_type": "code",
     "checksum": "cd86cdc8248bebfb7cd35dbdf0336a6d",
     "grade": false,
     "grade_id": "cell-bd84aba67a6ffbda",
     "locked": false,
     "schema_version": 3,
     "solution": true,
     "task": false
    }
   },
   "outputs": [
    {
     "data": {
      "text/plain": [
       "6"
      ]
     },
     "execution_count": 180,
     "metadata": {},
     "output_type": "execute_result"
    }
   ],
   "source": [
    "%use sos\n",
    "# Assign your answer to this variable\n",
    "answer = 4\n",
    "# YOUR CODE HERE\n",
    "np.count_nonzero(spot_detector(spots, 5, 0.6))"
   ]
  },
  {
   "cell_type": "code",
   "execution_count": 181,
   "metadata": {
    "deletable": false,
    "editable": false,
    "kernel": "SoS",
    "nbgrader": {
     "cell_type": "code",
     "checksum": "77b199a6da2de3f23f75d5a61e1afcf1",
     "grade": true,
     "grade_id": "cell-de4a59f4d4ea2220",
     "locked": true,
     "points": 1,
     "schema_version": 3,
     "solution": false,
     "task": false
    }
   },
   "outputs": [],
   "source": [
    "%use sos\n",
    "# Sanity check\n",
    "if not answer in [1, 2, 3, 4]:\n",
    "    print('WARNING!\\nAnswer one of 1, 2, 3 or 4.')"
   ]
  },
  {
   "cell_type": "markdown",
   "metadata": {
    "deletable": false,
    "editable": false,
    "kernel": "SoS",
    "nbgrader": {
     "cell_type": "markdown",
     "checksum": "82d96a9bddca3c41ac387e32d6408260",
     "grade": false,
     "grade_id": "cell-150b621dbb22fc35",
     "locked": true,
     "schema_version": 3,
     "solution": false,
     "task": false
    }
   },
   "source": [
    "<div class=\"alert alert-success\">\n",
    "    \n",
    "<p><b>Congratulations on finishing Lab 2!</b></p>\n",
    "<p>\n",
    "Make sure to save your notebook (you might want to keep a copy on your personal computer) and upload it to <a href=\"https://moodle.epfl.ch/mod/assign/view.php?id=1111434\">Moodle</a>, in a zip file together with the first part of this lab.\n",
    "</p>\n",
    "</div>\n",
    "\n",
    "* Keep the name of the notebook as: *2_Filtering_applications.ipynb*,\n",
    "* Name the zip file: *Filtering_lab.zip*."
   ]
  },
  {
   "cell_type": "code",
   "execution_count": null,
   "metadata": {
    "kernel": "SoS"
   },
   "outputs": [],
   "source": []
  }
 ],
 "metadata": {
  "kernelspec": {
   "display_name": "SoS",
   "language": "sos",
   "name": "sos"
  },
  "language_info": {
   "codemirror_mode": "sos",
   "file_extension": ".sos",
   "mimetype": "text/x-sos",
   "name": "sos",
   "nbconvert_exporter": "sos_notebook.converter.SoS_Exporter",
   "pygments_lexer": "sos"
  },
  "sos": {
   "kernels": [
    [
     "JavaScript",
     "javascript",
     "JavaScript",
     "#c8e1ae",
     ""
    ],
    [
     "SoS",
     "sos",
     "",
     "",
     "sos"
    ]
   ],
   "panel": {
    "displayed": false,
    "height": 0
   },
   "version": "0.22.6"
  }
 },
 "nbformat": 4,
 "nbformat_minor": 4
}
