{
 "cells": [
  {
   "cell_type": "markdown",
   "metadata": {
    "deletable": false,
    "editable": false,
    "kernel": "SoS",
    "nbgrader": {
     "cell_type": "markdown",
     "checksum": "2f86587a7b6af1886060c19578b3f882",
     "grade": false,
     "grade_id": "cell-2f137ed5983c4fea",
     "locked": true,
     "schema_version": 3,
     "solution": false,
     "task": false
    }
   },
   "source": [
    "<img src=\"https://www.epfl.ch/about/overview/wp-content/uploads/2020/07/logo-epfl-1024x576.png\" style=\"padding-right:10px;width:140px;float:left\"></td>\n",
    "<h2 style=\"white-space: nowrap\">Image Processing Laboratory Notebooks</h2>\n",
    "<hr style=\"clear:both\">\n",
    "<p style=\"font-size:0.85em; margin:2px; text-align:justify\">\n",
    "This Juypter notebook is part of a series of computer laboratories which are designed\n",
    "to teach image-processing programming; they are running on the EPFL's Noto server. They are the practical complement of the theoretical lectures of the EPFL's Master course <b>Image Processing I</b> \n",
    "(<a href=\"https://moodle.epfl.ch/course/view.php?id=522\">MICRO-511</a>) taught by Prof. M. Unser and Prof. D. Van de Ville.\n",
    "</p>\n",
    "<p style=\"font-size:0.85em; margin:2px; text-align:justify\">\n",
    "The project is funded by the Center for Digital Education and the School of Engineering. It is owned by the <a href=\"http://bigwww.epfl.ch/\">Biomedical Imaging Group</a>. \n",
    "The distribution or the reproduction of the notebook is strictly prohibited without the written consent of the authors.  &copy; EPFL 2021.\n",
    "</p>\n",
    "<p style=\"font-size:0.85em; margin:0px\"><b>Authors</b>: \n",
    "    <a href=\"mailto:pol.delaguilapla@epfl.ch\">Pol del Aguila Pla</a>, \n",
    "    <a href=\"mailto:kay.lachler@epfl.ch\">Kay Lächler</a>,\n",
    "    <a href=\"mailto:alejandro.nogueronaramburu@epfl.ch\">Alejandro Noguerón Arámburu</a>, and\n",
    "    <a href=\"mailto:daniel.sage@epfl.ch\">Daniel Sage</a>.\n",
    "</p>\n",
    "<hr style=\"clear:both\">\n",
    "<h1>Lab 2.1: Filtering</h1>\n",
    "<div style=\"background-color:#F0F0F0;padding:4px\">\n",
    "    <p style=\"margin:4px;\"><b>Released</b>: Thursday November 11, 2021</p>\n",
    "    <p style=\"margin:4px;\"><b>Submission</b>: <span style=\"color:red\">Friday November 19, 2021</span> (before 11:59PM) on <a href=\"https://moodle.epfl.ch/course/view.php?id=522\">Moodle</a></p>\n",
    "    <p style=\"margin:4px;\"><b>Grade weigth</b>: Lab 2 (18 points), 10% of the overall grade</p>\n",
    "    <p style=\"margin:4px;\"><b>Help sessions</b>: Monday November 15, on Zoom (12h-13h, see Moodle for link) and Thursday November 18 on campus</p>        \n",
    "    <p style=\"margin:4px;\"><b>Related lectures</b>: Chapter 3</p>\n",
    "</div>"
   ]
  },
  {
   "cell_type": "markdown",
   "metadata": {
    "kernel": "SoS"
   },
   "source": [
    "### Student Name: Guanqun Liu\n",
    "### SCIPER: 334988\n",
    "\n",
    "Double-click on this cell and fill your name and SCIPER number. Then, run the cell below to verify your identity in Noto and set the seed for random results."
   ]
  },
  {
   "cell_type": "code",
   "execution_count": 1,
   "metadata": {
    "deletable": false,
    "editable": false,
    "kernel": "SoS",
    "nbgrader": {
     "cell_type": "code",
     "checksum": "181db843e2a8484c104865f047736fe1",
     "grade": true,
     "grade_id": "cell-5808010fef9a8499",
     "locked": true,
     "points": 0,
     "schema_version": 3,
     "solution": false,
     "task": false
    }
   },
   "outputs": [
    {
     "name": "stdout",
     "output_type": "stream",
     "text": [
      "SCIPER: 334988\n"
     ]
    }
   ],
   "source": [
    "%use sos\n",
    "import getpass\n",
    "# This line recovers your camipro number to mark the images with your ID\n",
    "uid = int(getpass.getuser().split('-')[2]) if len(getpass.getuser().split('-')) > 2 else ord(getpass.getuser()[0])\n",
    "print(f'SCIPER: {uid}')"
   ]
  },
  {
   "cell_type": "markdown",
   "metadata": {
    "deletable": false,
    "editable": false,
    "kernel": "SoS",
    "nbgrader": {
     "cell_type": "markdown",
     "checksum": "a923aaf34334a78376507c8ea1304e76",
     "grade": false,
     "grade_id": "cell-22d02ae9386542b4",
     "locked": true,
     "schema_version": 3,
     "solution": false,
     "task": false
    }
   },
   "source": [
    "### Imports\n",
    "In the next cell we import the Python libraries that we will use throughout the lab, as well as the `ImageViewer` class (Python package developed specifically for these laboratories, see documentation [here](https://github.com/Biomedical-Imaging-Group/interactive-kit/wiki/Image-Viewer), or run the python command `help(viewer)` after loading the class):\n",
    "\n",
    "* [`matplotlib.pyplot`](https://matplotlib.org), to display images\n",
    "* [`ipywidgets`](https://ipywidgets.readthedocs.io/en/latest/), to make the image display interactive\n",
    "* [`numpy`](https://numpy.org/doc/stable/reference/index.html), for mathematical operations on arrays\n",
    "* [`openCV` (cv2)](https://docs.opencv.org/2.4/index.html), for image-processing tasks\n",
    "* [`scipy.ndimage`](https://docs.scipy.org/doc/scipy/reference/ndimage.html), Scipy's specific module for multidimensional image processing\n",
    "\n",
    "Finally, we load the images you will use in the exercise to test your algorithms. "
   ]
  },
  {
   "cell_type": "code",
   "execution_count": 2,
   "metadata": {
    "deletable": false,
    "editable": false,
    "kernel": "SoS",
    "nbgrader": {
     "cell_type": "code",
     "checksum": "d5b9f6451fe4d55ff7a17ccdd9e42cf2",
     "grade": false,
     "grade_id": "cell-e71e32bb6c3077e0",
     "locked": true,
     "schema_version": 3,
     "solution": false,
     "task": false
    }
   },
   "outputs": [],
   "source": [
    "%use sos\n",
    "# Configure plotting as dynamic\n",
    "%matplotlib widget\n",
    "\n",
    "# Import standard required packages for this exercise\n",
    "import matplotlib.pyplot as plt\n",
    "import numpy as np\n",
    "import cv2 as cv \n",
    "import scipy.ndimage as ndi\n",
    "import ipywidgets as widgets\n",
    "from interactive_kit import imviewer as viewer\n",
    "\n",
    "# Load images to be used in this exercise \n",
    "bikesgray = cv.imread('images/bikesgray.tif', cv.IMREAD_UNCHANGED).astype('float64')\n",
    "camera = cv.imread('images/camera-16bits.tif', cv.IMREAD_UNCHANGED).astype('float64')\n",
    "spots = cv.imread('images/spots.tif', cv.IMREAD_UNCHANGED).astype('float64')"
   ]
  },
  {
   "cell_type": "markdown",
   "metadata": {
    "deletable": false,
    "editable": false,
    "kernel": "SoS",
    "nbgrader": {
     "cell_type": "markdown",
     "checksum": "dedfc1eb03750935c18faa8de2a9801c",
     "grade": false,
     "grade_id": "cell-afefb971d5846883",
     "locked": true,
     "schema_version": 3,
     "solution": false,
     "task": false
    }
   },
   "source": [
    "Now we will import the `ImageAccess` class. You can find the documentation of the class [here](https://biomedical-imaging-group.github.io/image-access/). Moreover, we will put the images we will be using in the JavaScript kernel."
   ]
  },
  {
   "cell_type": "code",
   "execution_count": 3,
   "metadata": {
    "deletable": false,
    "editable": false,
    "kernel": "JavaScript",
    "nbgrader": {
     "cell_type": "code",
     "checksum": "b3f097108e2f58a285db9e17a4f2cedd",
     "grade": true,
     "grade_id": "cell-c6c746246d09f0e7",
     "locked": true,
     "points": 0,
     "schema_version": 3,
     "solution": false,
     "task": false
    }
   },
   "outputs": [],
   "source": [
    "%use javascript\n",
    "%get bikesgray camera spots\n",
    "// import ImageAccess as Image\n",
    "var Image = require('image-access')"
   ]
  },
  {
   "cell_type": "markdown",
   "metadata": {
    "deletable": false,
    "editable": false,
    "kernel": "SoS",
    "nbgrader": {
     "cell_type": "markdown",
     "checksum": "20f7724fc345f58442b70d2ad6f2fded",
     "grade": false,
     "grade_id": "cell-4b72a2bcfd3b306d",
     "locked": true,
     "schema_version": 3,
     "solution": false,
     "task": false
    }
   },
   "source": [
    "# Filtering (9 points)\n",
    "\n",
    "In this lab you will review the basics of digital image filtering. You will review how to implement a convolution (the main ingredient of filtering), and you will review topics such as separable filters, non-separable filters, filter design and boundary conditions. The goal is for you to fully understand the filtering algorithm at a pixel-by-pixel level (implementing it in JavaScript), and at the same time to learn the standard tools to use filtering in professional image-processing libraries in Python.\n",
    "\n",
    "## <a id=\"ToC_1_Filtering\"></a>Table of contents\n",
    "1. [Edge detection](#1.-Edge-detection-(3-points))\n",
    "    1. [Non-separable implementation](#1.A.-Non-separable-implementation-(1-point)) (**1 point**)\n",
    "    2. [Separable implementation](#1.B.-Separable-implementation-(2-points)) (**2 points**)\n",
    "    3. [Comparison: Separable vs Non-separable](#1.C.-Comparison:-Separable-vs-Non-separable) \n",
    "    4. [Edge detection in Python](#1.D.-Edge-detection-in-Python)\n",
    "2. [Implementation and classification of digital filters](#2.-Implementation-and-classification-of-digital-filters-(6-points)) (**6 points**)\n",
    "    1. [Mask A](#2.A.-Mask-A)\n",
    "    2. [Mask B](#2.B.-Mask-B)\n",
    "    3. [Mask C](#2.C.-Mask-C)\n",
    "    4. [Mask D](#2.D.-Mask-D)\n",
    "    5. [Mask E](#2.E.-Mask-E)\n",
    "    6. [Mask F](#2.F.-Mask-F)\n",
    "\n",
    "<div class=\" alert alert-danger\">\n",
    "\n",
    "<b>Important:</b> Each cell that contains code begins with `%use sos` or `%use javascript`. This indicates if the code in this specific cell should be written in Python or JavaScript. Do not change or remove any lines of code that begin with an %. They are used for the notebook to run smoothly with <code>SoS</code> and need to be on the first line of each cell!\n",
    "</div>\n",
    "\n",
    "Good luck and enjoy! "
   ]
  },
  {
   "cell_type": "markdown",
   "metadata": {
    "deletable": false,
    "editable": false,
    "kernel": "SoS",
    "nbgrader": {
     "cell_type": "markdown",
     "checksum": "be97c331074e3710cf0eeceacde31660",
     "grade": false,
     "grade_id": "cell-74e9fa45faa39321",
     "locked": true,
     "schema_version": 3,
     "solution": false,
     "task": false
    }
   },
   "source": [
    "### Visualize images\n",
    "Get familiar now with the images you are going to be using. Remember to browse through the images with the buttons `Next` & `Prev`, and pay attention to the histograms. "
   ]
  },
  {
   "cell_type": "code",
   "execution_count": 4,
   "metadata": {
    "deletable": false,
    "editable": false,
    "kernel": "SoS",
    "nbgrader": {
     "cell_type": "code",
     "checksum": "99c431acbfc92bf048a54266b6f57874",
     "grade": false,
     "grade_id": "cell-ef12174b159775db",
     "locked": true,
     "schema_version": 3,
     "solution": false,
     "task": false
    }
   },
   "outputs": [
    {
     "data": {
      "application/vnd.jupyter.widget-view+json": {
       "model_id": "2cae3f68f136467b8a71da29cc6d5166",
       "version_major": 2,
       "version_minor": 0
      },
      "text/plain": [
       "HBox(children=(Output(layout=Layout(width='80%')), Output(), Output(layout=Layout(width='25%'))))"
      ]
     },
     "metadata": {},
     "output_type": "display_data"
    }
   ],
   "source": [
    "%use sos\n",
    "# Declare image_list for ImageViewer\n",
    "image_list = [bikesgray, camera, spots]\n",
    "\n",
    "imgs_viewer = viewer(image_list, widgets=True, hist=True)"
   ]
  },
  {
   "cell_type": "markdown",
   "metadata": {
    "deletable": false,
    "editable": false,
    "kernel": "JavaScript",
    "nbgrader": {
     "cell_type": "markdown",
     "checksum": "9d5197a4ac66213dd8629fa061423591",
     "grade": false,
     "grade_id": "cell-197bf6fba6c8591a",
     "locked": true,
     "schema_version": 3,
     "solution": false,
     "task": false
    },
    "tags": []
   },
   "source": [
    "# 1. Edge detection (3 points)\n",
    "[Back to table of contents](#ToC_1_Filtering)\n",
    "\n",
    "In this part of the lab, we will review one of the most basic image processing operation, edge detection. Moreover, we will use this filter to review the concepts of convolution and correlation. As you might remember from the course, edge detection algorithms try to outline steep intesity differences between neighbouring pixels. A common vertical-edge detector (detecting changes in the $x$ direction) is the filter represented by the impulse response \n",
    "\n",
    "$$h[m,n] = \n",
    "\\begin{bmatrix}\n",
    "    -1 & 0 & 1 \\\\\n",
    "    -2 & 0 & 2 \\\\\n",
    "    -1 & 0 & 1\n",
    "\\end{bmatrix}\\,.$$\n",
    "\n",
    "If pixels neighbouring a given pixel position all have a similar value, the output at that pixel will have a value close to zero after applying the mask. On the other hand, if there is a big difference in the values of the left and right columns, this likely indicates some kind of vertical edge and consequently the output at that location will have either a highly positive or highly negative intensity.  "
   ]
  },
  {
   "cell_type": "markdown",
   "metadata": {
    "deletable": false,
    "editable": false,
    "kernel": "JavaScript",
    "nbgrader": {
     "cell_type": "markdown",
     "checksum": "372a95074dcbe5e92c6ea10a55f046b7",
     "grade": false,
     "grade_id": "cell-6dbf92312a1ff865",
     "locked": true,
     "schema_version": 3,
     "solution": false,
     "task": false
    }
   },
   "source": [
    "## 1.A. Non-separable implementation (1 point)\n",
    "[Back to table of contents](#ToC_1_Filtering)\n",
    "\n",
    "In the next cell we provide the function `filterNonSeparable()`. This function **is supposed to perform a convolution** on two input images `img` and `mask`. However, whoever implemented the function (*it certainly wasn't us*) had not heard about the difference between a correlation and a convolution. Long story short, the function does not provide the correct result. **For 1 point**, find the mistake and correct it in the cell below.\n",
    "\n",
    "<div class=\"alert alert-success\">\n",
    "\n",
    "<b>Hints</b>: <ul><li>The two-dimensional convolution between two images <code>h</code> and <code>f</code> is given by\n",
    "$$(h \\ast f)[x,y] = \\sum_{m \\in \\mathbb{Z}}\\sum_{n \\in \\mathbb{Z}}f[m,n]h[x-m,y-n]$$</li></ul>\n",
    "<li>There are a few considerations that you will need to keep in mind when going from formula to code. For example, in the formula above, $x-m$ is negative for some values, but happens if you try to acces the $-1$ index of a JavaScript Array?</li>\n",
    "</div>"
   ]
  },
  {
   "cell_type": "code",
   "execution_count": 77,
   "metadata": {
    "kernel": "JavaScript"
   },
   "outputs": [],
   "source": [
    "%use javascript\n",
    "\n",
    "// function that performs a convolution on the two input parameters img and mask\n",
    "function filterNonSeparable(img, mask){\n",
    "    // create output Image, of the same shape as the input\n",
    "    var output = new Image(img.shape());\n",
    "    // iterate through every pixel\n",
    "    for(var x = 0; x < img.nx; x++){  \n",
    "        for(var y = 0; y < img.ny; y++){\n",
    "            // get neighbourhood with the size of mask of current position\n",
    "            var neigh = img.getNbh(x, y, mask.nx, mask.ny)\n",
    "            // perform convolution\n",
    "            var val = 0;\n",
    "            for(var k = 0; k < mask.nx; k++){\n",
    "                for(var l = 0; l < mask.ny; l++){\n",
    "                    val += neigh.getPixel(k, l) * mask.getPixel((mask.nx-1-k), (mask.ny-1-l));\n",
    "                }\n",
    "            }\n",
    "            // assign value on output image\n",
    "            output.setPixel(x, y, val)\n",
    "        }\n",
    "    }\n",
    "    return output\n",
    "}"
   ]
  },
  {
   "cell_type": "markdown",
   "metadata": {
    "deletable": false,
    "editable": false,
    "kernel": "JavaScript",
    "nbgrader": {
     "cell_type": "markdown",
     "checksum": "0767c8475a4cd2d7527fb6ad12658bb1",
     "grade": false,
     "grade_id": "cell-1bf275d12cc9758b",
     "locked": true,
     "schema_version": 3,
     "solution": false,
     "task": false
    }
   },
   "source": [
    "Run the next cell to perform a sanity check (convolution of the mask with an impulse image)."
   ]
  },
  {
   "cell_type": "code",
   "execution_count": 78,
   "metadata": {
    "deletable": false,
    "editable": false,
    "kernel": "JavaScript",
    "nbgrader": {
     "cell_type": "code",
     "checksum": "7eee69ec55c2af89e6669383c5dbf7c4",
     "grade": true,
     "grade_id": "cell-1dabd588ee42d0a0",
     "locked": true,
     "points": 0.5,
     "schema_version": 3,
     "solution": false,
     "task": false
    }
   },
   "outputs": [
    {
     "name": "stdout",
     "output_type": "stream",
     "text": [
      "Convolving by an impulse should return the unchanged mask.\n",
      "Mask:\n",
      "[[ -1  0  1 ]\n",
      " [ -2  0  2 ]\n",
      " [ -1  0  1 ]]\n",
      "\n",
      "Result:\n",
      "[[ -1  0  1 ]\n",
      " [ -2  0  2 ]\n",
      " [ -1  0  1 ]]\n",
      "\n",
      "It seems that the function performs a convolution.\n"
     ]
    }
   ],
   "source": [
    "// Lets do a sanity check\n",
    "// we use a simple 3x3 impulse image\n",
    "var impulse = new Image([[0, 0, 0], [0, 1, 0], [0, 0, 0]]);\n",
    "// declare mask\n",
    "var mask = new Image([[-1, 0, 1],[-2, 0, 2],[-1, 0, 1]]);\n",
    "// check the result\n",
    "console.log('Convolving by an impulse should return the unchanged mask.\\nMask:\\n' + mask.visualize() )\n",
    "console.log('Result:\\n' + filterNonSeparable(impulse, mask).visualize());\n",
    "if(filterNonSeparable(impulse, mask).imageCompare(mask) == false){\n",
    "    console.log('\\nWARNING!!!\\nThe function `filterNonSeparable` still provides an incorrect output.\\n')\n",
    "}else{\n",
    "    console.log('It seems that the function performs a convolution.')\n",
    "}"
   ]
  },
  {
   "cell_type": "markdown",
   "metadata": {
    "deletable": false,
    "editable": false,
    "kernel": "JavaScript",
    "nbgrader": {
     "cell_type": "markdown",
     "checksum": "d752fe6385894abe87472ec827f621bb",
     "grade": false,
     "grade_id": "cell-d4b757e2b974576f",
     "locked": true,
     "schema_version": 3,
     "solution": false,
     "task": false
    }
   },
   "source": [
    "### Applying the function\n",
    "\n",
    "Run the next cell to apply the `filterNonSeparable` function with the mask given above to the images `bikesgray`, `camera` and `spots`. "
   ]
  },
  {
   "cell_type": "code",
   "execution_count": 79,
   "metadata": {
    "deletable": false,
    "editable": false,
    "kernel": "JavaScript",
    "nbgrader": {
     "cell_type": "code",
     "checksum": "244445729d17b9aac5651b944f6c7bc6",
     "grade": true,
     "grade_id": "cell-43d01fbb15e5a663",
     "locked": true,
     "points": 0.5,
     "schema_version": 3,
     "solution": false,
     "task": false
    }
   },
   "outputs": [],
   "source": [
    "%use javascript\n",
    "%get bikesgray camera spots\n",
    "\n",
    "// apply Non separable filter\n",
    "var vedge_bike_nons   = filterNonSeparable(new Image(bikesgray), mask).toArray();\n",
    "var vedge_spots_nons  = filterNonSeparable(new Image(spots),     mask).toArray();\n",
    "var vedge_camera_nons = filterNonSeparable(new Image(camera),    mask).toArray();"
   ]
  },
  {
   "cell_type": "markdown",
   "metadata": {
    "deletable": false,
    "editable": false,
    "kernel": "JavaScript",
    "nbgrader": {
     "cell_type": "markdown",
     "checksum": "c2ae7c7185df7888008637c29c9831a9",
     "grade": false,
     "grade_id": "cell-eaf895c6a9a0fe0a",
     "locked": true,
     "schema_version": 3,
     "solution": false,
     "task": false
    }
   },
   "source": [
    "### Visualize the results\n",
    "In the next cell we will visualize the results of edge detection. Run the next cell to visualize the results and use the `Next` / `Prev` buttons to cycle through the images."
   ]
  },
  {
   "cell_type": "code",
   "execution_count": 80,
   "metadata": {
    "deletable": false,
    "editable": false,
    "kernel": "SoS",
    "nbgrader": {
     "cell_type": "code",
     "checksum": "c9c95f7222cba7ae9b49b10347b88af1",
     "grade": false,
     "grade_id": "cell-737f3f5d40ce108a",
     "locked": true,
     "schema_version": 3,
     "solution": false,
     "task": false
    }
   },
   "outputs": [
    {
     "data": {
      "application/vnd.jupyter.widget-view+json": {
       "model_id": "811fc60598e44edb8b40cefb2a463897",
       "version_major": 2,
       "version_minor": 0
      },
      "text/plain": [
       "HBox(children=(Output(layout=Layout(width='80%')), Output(), Output(layout=Layout(width='25%'))))"
      ]
     },
     "metadata": {},
     "output_type": "display_data"
    }
   ],
   "source": [
    "%use sos\n",
    "%get vedge_bike_nons vedge_camera_nons vedge_spots_nons --from javascript\n",
    "\n",
    "# Declare parameters for viewer\n",
    "image_list_nons = [vedge_bike_nons, vedge_camera_nons, vedge_spots_nons]\n",
    "title_list = ['Bike - Vertical edges', 'Camera - Vertical edges', 'Spots - Vertical edges']\n",
    "\n",
    "# Make sure that the images are numpy arrays and not lists\n",
    "for image in range(len(image_list_nons)):\n",
    "    image_list_nons[image] = np.array(image_list_nons[image])\n",
    "\n",
    "vedge_nons_viewer = viewer(image_list_nons, title = title_list, widgets=True)"
   ]
  },
  {
   "cell_type": "markdown",
   "metadata": {
    "deletable": false,
    "editable": false,
    "kernel": "Python3",
    "nbgrader": {
     "cell_type": "markdown",
     "checksum": "9cf1295ef2c15953b5d82c0a5b2828c1",
     "grade": false,
     "grade_id": "cell-cf84e8455a646681",
     "locked": true,
     "schema_version": 3,
     "solution": false,
     "task": false
    }
   },
   "source": [
    "## 1.B. Separable implementation (2 points)\n",
    "[Back to table of contents](#ToC_1_Filtering)\n",
    "\n",
    "In this subsection, you are going to modify the function `filterSeparable()` we provide to implement the separable version of the filter. This function is based on the function `filter1D()` (also declared in the next cell), which takes as input a row/column of the image and a 1D mask and performs a 1D convolution. Recall that separable filters are divided into two 1D masks (`mx` and `my` in the code below). \n",
    "\n",
    "In the next cell, **for 1 point** complete the function `filterSeparable()` by implementing the column filtering. The row filtering is provided and can be used as a reference.\n",
    "\n",
    "<div class=\"alert alert-warning\">\n",
    "    \n",
    "<b>Technical Note:</b> <code>img.getRow(y)</code> extracts the $y^{\\text{th}}$ row from <code>img</code> while <code>output.putRow(y, new_row)</code> inserts <code>new_row</code> into the $y^{\\text{th}}$ row of <code>output</code>. Similarly you can use <code>.getColumn(x)</code> and <code>.putColumn(x, new_column)</code> to extract and insert columns from/to <code>Image</code> objects.\n",
    "</div>\n",
    "<div class=\"alert alert-info\">\n",
    "    \n",
    "<b>Hint:</b> If you don't remember how a separable filter works, review the theory in your course notes.\n",
    "</div>"
   ]
  },
  {
   "cell_type": "code",
   "execution_count": 139,
   "metadata": {
    "deletable": false,
    "kernel": "JavaScript",
    "nbgrader": {
     "cell_type": "code",
     "checksum": "ac16d768b3eb32d59109f6132310e634",
     "grade": false,
     "grade_id": "cell-91d7512eab988bf2",
     "locked": false,
     "schema_version": 3,
     "solution": true,
     "task": false
    }
   },
   "outputs": [],
   "source": [
    "%use javascript\n",
    "\n",
    "// function that performs a separable convolution on img using two 1D masks mx and my\n",
    "function filterSeparable(img, mx, my){\n",
    "    // initialize output Image, of the same shape as the input\n",
    "    var output = new Image(img.shape());\n",
    "    \n",
    "    // iterate through every row \n",
    "    for(var y = 0; y < img.ny; y++){\n",
    "        // extract row\n",
    "        var row = img.getRow(y);\n",
    "        // apply filter\n",
    "        var new_row = filter1D(row, mx)\n",
    "        // set column in output variable\n",
    "        output.putRow(y, new_row)  \n",
    "        // console.log(output.visualize())\n",
    "    }\n",
    "    \n",
    "    // iterate through every column\n",
    "    for(var x = 0; x < img.nx; x++){\n",
    "        // filter the columns\n",
    "        var column = output.getColumn(x);\n",
    "        \n",
    "        // extract column, apply filter and set\n",
    "        var new_column = filter1D(column, my)\n",
    "        output.putColumn(x, new_column)\n",
    "        // console.log(output.visualize())\n",
    "    }\n",
    "    return output\n",
    "}\n",
    "\n",
    "// function that applies a 1D filter\n",
    "function filter1D(img, mask){\n",
    "    // transpose the input variables if necessary\n",
    "    if(img.nx == 1){\n",
    "        img.transposeImage();\n",
    "    }\n",
    "    if(mask.nx == 1){\n",
    "        mask.transposeImage();\n",
    "    }\n",
    "    // create the output image\n",
    "    var output = new Image(img.shape());\n",
    "    // iterate through all pixels\n",
    "    for(var x = 0; x < img.nx; x++){\n",
    "        // get the neighbourhood around position x\n",
    "        var neigh = img.getNbh(x, 0, mask.nx, 1);\n",
    "        // declare a variable to store the values of the convolution. \n",
    "        var val = 0;\n",
    "        // iterate through the neighbourhood\n",
    "        for(var i = 0; i < neigh.nx; i++){\n",
    "            // perform convolution\n",
    "            val += neigh.getPixel(i, 0) * mask.getPixel(mask.nx - 1 - i, 0);\n",
    "        }\n",
    "        // set value in output array\n",
    "        output.setPixel(x, 0, val);\n",
    "    }\n",
    "    return output\n",
    "}"
   ]
  },
  {
   "cell_type": "markdown",
   "metadata": {
    "deletable": false,
    "editable": false,
    "kernel": "JavaScript",
    "nbgrader": {
     "cell_type": "markdown",
     "checksum": "e2d8160074df75f4ed78502614fef4e9",
     "grade": false,
     "grade_id": "cell-a01e57b63a6a2aee",
     "locked": true,
     "schema_version": 3,
     "solution": false,
     "task": false
    }
   },
   "source": [
    "### 1D masks\n",
    "\n",
    "Now, before testing your separable implementation and **for 1 point** change the masks `mask_x` and `mask_y` in the cell below to the correct 1D masks corresponding to the separable version of the vertical-edge detection filter presented [at the beginning of this section](#1.-Edge-detection-(3-points))."
   ]
  },
  {
   "cell_type": "code",
   "execution_count": 137,
   "metadata": {
    "deletable": false,
    "kernel": "JavaScript",
    "nbgrader": {
     "cell_type": "code",
     "checksum": "a37e667d55dff5b2abce1a68bb48e10b",
     "grade": false,
     "grade_id": "cell-39c4339868e3faa2",
     "locked": false,
     "schema_version": 3,
     "solution": true,
     "task": false
    }
   },
   "outputs": [],
   "source": [
    "%use javascript\n",
    "%put mask_x mask_y\n",
    "// // change the masks to the correct value \n",
    "var mask_x = [-1, 0, 1];\n",
    "var mask_y = [1, 2, 1];\n",
    "\n",
    "// convert the masks to Image objects\n",
    "var mask_x_img = new Image([mask_x]);\n",
    "var mask_y_img = new Image([mask_y]);"
   ]
  },
  {
   "cell_type": "markdown",
   "metadata": {
    "deletable": false,
    "editable": false,
    "kernel": "JavaScript",
    "nbgrader": {
     "cell_type": "markdown",
     "checksum": "ba10c769e858a0a6797ebb869b5ef8fa",
     "grade": false,
     "grade_id": "cell-efe1520723ad9c74",
     "locked": true,
     "schema_version": 3,
     "solution": false,
     "task": false
    }
   },
   "source": [
    "Now, run the next cell for a quick sanity check on your function `filterSeparable` and on your $1$D masks. We will convolve an impulse with your $1$D masks, and the result should be exactly the filter that we presented [at the beginning of the section](#1.-Edge-detection-(3-points))."
   ]
  },
  {
   "cell_type": "code",
   "execution_count": 140,
   "metadata": {
    "deletable": false,
    "editable": false,
    "kernel": "JavaScript",
    "nbgrader": {
     "cell_type": "code",
     "checksum": "ef36d369274d7024772c09003a1328d9",
     "grade": true,
     "grade_id": "cell-f0edc6838129ae12",
     "locked": true,
     "points": 1,
     "schema_version": 3,
     "solution": false,
     "task": false
    }
   },
   "outputs": [
    {
     "name": "stdout",
     "output_type": "stream",
     "text": [
      "Convolving by an impulse should return the original 2D mask.\n",
      "Mask:\n",
      "[[ -1  0  1 ]\n",
      " [ -2  0  2 ]\n",
      " [ -1  0  1 ]]\n",
      "\n",
      "Result:\n",
      "[[ -1  0  1 ]\n",
      " [ -2  0  2 ]\n",
      " [ -1  0  1 ]]\n",
      " \n",
      "\n",
      "The separable filter and the 1D masks have passed this sanity check!\n"
     ]
    }
   ],
   "source": [
    "%use javascript\n",
    "// again let's do a sanity check with an impulse image\n",
    "var impulse = new Image([[0, 0, 0], [0, 1, 0], [0, 0, 0]]);\n",
    "// declare correct 2D mask\n",
    "var mask = new Image([[-1, 0, 1], [-2, 0, 2], [-1, 0, 1]]);\n",
    "// the result of a convolution with an impulse image should be the mask itself\n",
    "console.log('Convolving by an impulse should return the original 2D mask.\\nMask:\\n' + mask.visualize() )\n",
    "console.log('Result:\\n' + filterSeparable(impulse, mask_x_img, mask_y_img).visualize(), '\\n');\n",
    "if(filterSeparable(impulse, mask_x_img, mask_y_img).imageCompare(mask) == false){\n",
    "    console.log('WARNING!!!\\nSorry it looks like the separable filter or the 1D masks are not yet correct.');\n",
    "}else{\n",
    "    console.log('The separable filter and the 1D masks have passed this sanity check!');\n",
    "}"
   ]
  },
  {
   "cell_type": "markdown",
   "metadata": {
    "deletable": false,
    "editable": false,
    "kernel": "JavaScript",
    "nbgrader": {
     "cell_type": "markdown",
     "checksum": "f68db33506ea185e1514ffe137e474ee",
     "grade": false,
     "grade_id": "cell-cbc3f7362589bdc4",
     "locked": true,
     "schema_version": 3,
     "solution": false,
     "task": false
    }
   },
   "source": [
    "Now run the next cell to apply the function to the same three images we have been using before."
   ]
  },
  {
   "cell_type": "code",
   "execution_count": 141,
   "metadata": {
    "deletable": false,
    "editable": false,
    "kernel": "JavaScript",
    "nbgrader": {
     "cell_type": "code",
     "checksum": "00dbd3859b6ba6ba3dbb4a8a0b94874b",
     "grade": true,
     "grade_id": "cell-371402cb11573886",
     "locked": true,
     "points": 1,
     "schema_version": 3,
     "solution": false,
     "task": false
    }
   },
   "outputs": [],
   "source": [
    "%use javascript\n",
    "%get bikesgray spots camera\n",
    "// Apply function on previously defined Images\n",
    "var vedge_bike_s = filterSeparable(new Image(bikesgray), mask_x_img, mask_y_img).toArray();\n",
    "var vedge_spots_s = filterSeparable(new Image(spots), mask_x_img, mask_y_img).toArray();\n",
    "var vedge_camera_s = filterSeparable(new Image(camera), mask_x_img, mask_y_img).toArray();"
   ]
  },
  {
   "cell_type": "markdown",
   "metadata": {
    "deletable": false,
    "editable": false,
    "kernel": "JavaScript",
    "nbgrader": {
     "cell_type": "markdown",
     "checksum": "082513eff173af909bc0366db9efef9e",
     "grade": false,
     "grade_id": "cell-5dd51236de517c9f",
     "locked": true,
     "schema_version": 3,
     "solution": false,
     "task": false
    }
   },
   "source": [
    "Run the next one to visualize the results."
   ]
  },
  {
   "cell_type": "code",
   "execution_count": 142,
   "metadata": {
    "deletable": false,
    "editable": false,
    "kernel": "SoS",
    "nbgrader": {
     "cell_type": "code",
     "checksum": "f628a642a2b10a1d516f737bdcde22ff",
     "grade": false,
     "grade_id": "cell-664065187b4a1db7",
     "locked": true,
     "schema_version": 3,
     "solution": false,
     "task": false
    }
   },
   "outputs": [
    {
     "data": {
      "application/vnd.jupyter.widget-view+json": {
       "model_id": "f37f3348e00a4c12b27d53baad7bd27d",
       "version_major": 2,
       "version_minor": 0
      },
      "text/plain": [
       "HBox(children=(Output(layout=Layout(width='80%')), Output(), Output(layout=Layout(width='25%'))))"
      ]
     },
     "metadata": {},
     "output_type": "display_data"
    }
   ],
   "source": [
    "%use sos\n",
    "%get vedge_bike_s vedge_camera_s vedge_spots_s --from javascript\n",
    "# Declare the image list\n",
    "image_list_sep = [vedge_bike_s, vedge_camera_s, vedge_spots_s]\n",
    "title_list = ['Bike - Vertical edges', 'Camera - Vertical edges', 'Spots - Vertical edges']\n",
    "\n",
    "# Make sure that the images are numpy arrays and not lists\n",
    "for i, image in enumerate(image_list_sep):\n",
    "    image_list_sep[i] = np.array(image)\n",
    "\n",
    "plt.close('all')\n",
    "vedge_s_viewer = viewer(image_list_sep, title = title_list, widgets=True)"
   ]
  },
  {
   "cell_type": "markdown",
   "metadata": {
    "deletable": false,
    "editable": false,
    "kernel": "Python3",
    "nbgrader": {
     "cell_type": "markdown",
     "checksum": "4216f29afe981416996a62417217bf2e",
     "grade": false,
     "grade_id": "cell-c52bb35862da59d5",
     "locked": true,
     "schema_version": 3,
     "solution": false,
     "task": false
    }
   },
   "source": [
    "## 1.C. Comparison: Separable vs Non-separable\n",
    "[Back to table of contents](#ToC_1_Filtering)\n",
    "\n",
    "Did you notice any difference between the separable and non-separable versions of the results? Did you expect any difference? \n",
    "\n",
    "Explore the two histograms, zoom into different areas of the three images, and see if they are truly equal. There are several tests you can do to measure the equality of both implementations. You can even take the difference between the two images and visualize it (`image1 - image2`), or you can use the different functions provided by NumPy to compare arrays (see [numpy.testing.assert_array_equal](https://numpy.org/doc/stable/reference/generated/numpy.testing.assert_array_equal.html) and [numpy.testing.assert_array_almost_equal](https://numpy.org/doc/stable/reference/generated/numpy.testing.assert_array_almost_equal.html)). Use the next blank cell to do any necessary exploration. \n",
    "\n",
    "<div class = 'alert alert-info'>\n",
    "<b>Hint</b>: If both your implementations are correct, the difference should be negligible. \n",
    "</div>"
   ]
  },
  {
   "cell_type": "code",
   "execution_count": 152,
   "metadata": {
    "deletable": false,
    "kernel": "SoS",
    "nbgrader": {
     "cell_type": "code",
     "checksum": "bc8563ae0d2594a20fd7915458060598",
     "grade": false,
     "grade_id": "cell-cf3ac27ebe1266d6",
     "locked": false,
     "schema_version": 3,
     "solution": true,
     "task": false
    }
   },
   "outputs": [
    {
     "name": "stdout",
     "output_type": "stream",
     "text": [
      "Difference negligible, correct!\n",
      "Difference negligible, correct!\n",
      "Difference negligible, correct!\n"
     ]
    }
   ],
   "source": [
    "%use sos\n",
    "equal_count = 0\n",
    "\n",
    "for idx in range(len(image_list_sep)):\n",
    "    try:\n",
    "        np.testing.assert_array_almost_equal(image_list_nons[idx], image_list_sep[idx])\n",
    "    except AssertionError:\n",
    "        print(\"Difference not negligible.\")\n",
    "    else:\n",
    "        print(\"Difference negligible, correct!\")"
   ]
  },
  {
   "cell_type": "markdown",
   "metadata": {
    "deletable": false,
    "editable": false,
    "kernel": "Python3",
    "nbgrader": {
     "cell_type": "markdown",
     "checksum": "d51fc38b6e4d839dede17cd6b3333fed",
     "grade": false,
     "grade_id": "cell-89cfd0072f776104",
     "locked": true,
     "schema_version": 3,
     "solution": false,
     "task": false
    }
   },
   "source": [
    "## 1.D. Edge detection in Python\n",
    "[Back to table of contents](#ToC_1_Filtering)\n",
    "\n",
    "In Python, the two functions `filterNonSeparable` and `filterSeparable` you implemented above are provided by the [`scipy.ndimage`](https://docs.scipy.org/doc/scipy/reference/ndimage.html) library. They are called [`convolve`](https://docs.scipy.org/doc/scipy/reference/generated/scipy.ndimage.convolve.html) and [`convolve1d`](https://docs.scipy.org/doc/scipy/reference/generated/scipy.ndimage.convolve1d.html), respectively (click on links to see the documentation). \n",
    "\n",
    "The arguments of this functions are:\n",
    "\n",
    " * `input`: the original image\n",
    " * `weights`: the mask to convolve the image with\n",
    " * `axis` **(only for `convolve1d`)**: The axis along which the 1D filter will be applied ($0$ to filter columns, $1$ for rows)\n",
    " * `output`: array or dtype (see technical note below)\n",
    " * `mode`: specifies the boundary conditions (see documentation for options). Defaults to `'reflect'`, which is the same we recommend and use in the course, as well as the one implemented in the JavaScript class `ImageAccess`.\n",
    "\n",
    "**Examples:**\n",
    "\n",
    "To apply a non-separable filter with a 2D mask `mask` to the image `img` we use:\n",
    "```python\n",
    "filtered_img = ndi.convolve(img, mask)\n",
    "```\n",
    "To apply a separable filter with two 1D masks `mask_x` and `mask_y` to the image `img` we use:\n",
    "```python\n",
    "# filter the columns\n",
    "filtered_img = ndi.convolve1d(img, mask_y, axis=0)\n",
    "# filter the rows\n",
    "filtered_img = ndi.convolve1d(filtered_img, mask_x, axis=1)\n",
    "```\n",
    "\n",
    "<div class=\"alert alert-warning\">\n",
    "\n",
    "<b>Technical note:</b> \n",
    "In this lab we have been using <code>'float64'</code> ($64$-bit floating point) as the <code>dtype</code> (which stands for <i>data type</i>) of the images (look at the <a href=\"#Imports\">Imports</a> section). This <code>dtype</code> is the most versatile, and since the <code>dtype</code> of the output array is the same (by default) as the dtype of the input array, we don't really need to mind the <code>output</code> parameter right now. However, it is also very common to store images and work with them as <code>np.uint8</code> (8-bit unsigned integer, which as you should know spans the range $[0, 255]$). Nonetheless we know that the gradient can take large positive and negative values, so an <a href=\"https://en.wikipedia.org/wiki/Integer_(computer_science)\" >unsigned integer</a> is not the right type. If you don't realize why, do a quick experiment: declare a NumPy Array of length one, of data type <code>'uint8'</code>, and assign a value outside of the range $[0, 255]$ (e.g. <code>np.array([300], dtype = 'uint8')</code>). Perform a few operations and see what happens.\n",
    "    \n",
    "If at some point you need to work with integers (e.g. to save memory or to increase performance), because we know that the result will still be an integer -the mask only contains integers- you can choose <code>np.int32</code> (32-bit signed integers). \n",
    "    \n",
    "This is something that you will have to keep in mind constantly when working with images, and that can be the source of many bugs.\n",
    "</div>\n",
    "\n",
    "Run the next cell to compare the Python implementations to the JavaScript implementations, and make sure that you get the same result. \n",
    "<div class=\"alert alert-info\">\n",
    "<b>Note:</b> If you did everything correctly in Sections <a href=\"#1.A.-Non-separable-implementation-(1-point)\">1.A.</a> and <a href = '#1.B.-Separable-implementation-(2-points)'>1.B.</a>, this cell will display a winning message. Otherwise, it will plot your images <b>with the regions that differ from the correct answer highlighted in red</b>, this should give you a clue on where you might have gone wrong. For the purpose we will use the function <a href=\"https://numpy.org/doc/stable/reference/generated/numpy.allclose.html\"><code>np.allclose</code></a>, a standard NumPy comparison tool.\n",
    "</div>"
   ]
  },
  {
   "cell_type": "code",
   "execution_count": 153,
   "metadata": {
    "deletable": false,
    "editable": false,
    "kernel": "SoS",
    "nbgrader": {
     "cell_type": "code",
     "checksum": "851895b80bb3254f7e7d7afe14efdbe6",
     "grade": false,
     "grade_id": "cell-847d91faeebc157a",
     "locked": true,
     "schema_version": 3,
     "solution": false,
     "task": false
    }
   },
   "outputs": [
    {
     "name": "stdout",
     "output_type": "stream",
     "text": [
      "Your non-separable implementation is correct!\n",
      "Congratulations!\n",
      "Your separable filter is correct!\n"
     ]
    }
   ],
   "source": [
    "%use sos \n",
    "# Define the 2D mask\n",
    "mask = np.array([[-1, 0, 1],[-2, 0, 2],[-1, 0, 1]])\n",
    "# Apply non-separable Filter\n",
    "vedge_ndi = ndi.convolve(bikesgray, mask, output=np.int32)\n",
    "# Apply separable Filter - we use mask_x and mask_y you defined in the exercise before\n",
    "# filter the columns\n",
    "vedge_ndi_s = ndi.convolve1d(bikesgray, mask_y, axis=0, output=np.int32)\n",
    "# filter the rows\n",
    "vedge_ndi_s = ndi.convolve1d(vedge_ndi_s, mask_x, axis=1, output=np.int32)\n",
    "\n",
    "# Visualize if necessary\n",
    "plt.close('all')\n",
    "if np.allclose(vedge_ndi, vedge_bike_nons):\n",
    "    print('Your non-separable implementation is correct!')\n",
    "else :\n",
    "    print('Review your non-separable JS implementation! \\\n",
    "           \\nThe problem could be either on your 1D masks, or on the implementation itself. The previous sanity checks and the red areas should guide you.')\n",
    "    viewer([np.array(vedge_bike_nons), vedge_ndi], title=['JS non-separable', 'Python non-separable'], compare=True)\n",
    "\n",
    "if np.allclose(vedge_ndi_s, vedge_bike_s):\n",
    "    print('Congratulations!\\nYour separable filter is correct!')\n",
    "else :\n",
    "    print('Review your separable JS implementation.')\n",
    "    viewer([np.array(vedge_bike_s), vedge_ndi_s], title=['JS separable', 'Python separable'], compare=True)\n",
    "\n",
    "# vedge_viewer = viewer([np.array(vedge_bike_nons), vedge_ndi, np.array(vedge_bike_s), vedge_ndi_s], title=['JS non-separable', 'Python non-separable', 'JS separable', 'Python separable'], subplots=(2,2))"
   ]
  },
  {
   "cell_type": "markdown",
   "metadata": {
    "deletable": false,
    "editable": false,
    "kernel": "SoS",
    "nbgrader": {
     "cell_type": "markdown",
     "checksum": "54d7e551a36473efa6be4ffec8f73352",
     "grade": false,
     "grade_id": "cell-88ed9417d9374ead",
     "locked": true,
     "schema_version": 3,
     "solution": false,
     "task": false
    }
   },
   "source": [
    "# 2. Implementation and classification of digital filters (6 points)\n",
    "[Back to table of contents](#ToC_1_Filtering)\n",
    "\n",
    "In this exercise, we will practice the implementation and classification of masks or digital filters. Moreover, you will practice separable and non-separable implementations in Python. We will look at $6$ different digital filters. Your job, **for 6 points**, is to implement and apply to an image each one of the filters in Python (**0.5** points per filter), and classify their visual effect (**0.5** points per filter).\n",
    "\n",
    "Note that you can define a 2D mask in Python with \n",
    "```python\n",
    "mask = np.array([[ 1,  2,  3,  4,  5], \n",
    "                 [ 6,  7,  8,  9, 10], \n",
    "                 [11, 12, 13, 14, 15],\n",
    "                 [16, 17, 18, 19, 20],\n",
    "                 [21, 22, 23, 24, 25]])\n",
    "```\n",
    "and define a 1D mask in Python with\n",
    "```python\n",
    "mask = np.array([1, 2, 3, 4, 5])\n",
    "```\n",
    "\n",
    "<div class=\"alert alert-danger\">\n",
    "\n",
    "<b>Important:</b> If a $2$D mask is separable, it is best practice to implement it as a separable filter using <code>ndi.convolve1d</code> with the appropriate 1D masks (that you will have to find). Otherwise, use <code>ndi.convolve</code>. Review Section [1.D.](#-1.D.-Edge-detection-in-Python) for an example. <b>If a mask is separable and you do not implement it as such, you will not get any points</b>. \n",
    "</div>"
   ]
  },
  {
   "cell_type": "markdown",
   "metadata": {
    "deletable": false,
    "editable": false,
    "kernel": "SoS",
    "nbgrader": {
     "cell_type": "markdown",
     "checksum": "ab028ff1cfc17f412a812c2b81b515dd",
     "grade": false,
     "grade_id": "cell-25f8efa499cc3a13",
     "locked": true,
     "schema_version": 3,
     "solution": false,
     "task": false
    }
   },
   "source": [
    "## 2.A. Mask A\n",
    "[Back to table of contents](#ToC_1_Filtering)\n",
    "\n",
    "In the cell below, **For 0.5 points**, implement the function `filter_A`, which convolves an image given as input parameter with the filter\n",
    "\n",
    "```python3\n",
    "    [ 0,  0,  1,  0,  0]\n",
    "    [ 0,  1,  2,  1,  0]\n",
    "A = [ 1,  2,-16,  2,  1]\n",
    "    [ 0,  1,  2,  1,  0]\n",
    "    [ 0,  0,  1,  0,  0]\n",
    "```\n",
    "\n",
    "Remember to check if the filter is separable, and in that case, implement it in that way.\n",
    "\n",
    "<div class = 'alert alert-danger'>\n",
    "<b>Note</b>: Hard-code the mask inside the function. That means, do not take the mask from a local variable, nor as input parameter of the function <code>filter_A</code> (the only input parameter is an image), but declare the mask <b>inside</b> the function. This is true for all the following 6 exercises.\n",
    "</div>"
   ]
  },
  {
   "cell_type": "code",
   "execution_count": 154,
   "metadata": {
    "deletable": false,
    "kernel": "SoS",
    "nbgrader": {
     "cell_type": "code",
     "checksum": "c298d25b55cb52bcf21751e508886873",
     "grade": false,
     "grade_id": "cell-a49df00199c666c4",
     "locked": false,
     "schema_version": 3,
     "solution": true,
     "task": false
    }
   },
   "outputs": [],
   "source": [
    "%use sos\n",
    "\n",
    "# Function that filters img with the mask A\n",
    "def filter_A(img):\n",
    "    output = img.copy()  \n",
    "    mask_A = np.array([[ 0,  0,  1,  0,  0],\n",
    "                       [ 0,  1,  2,  1,  0],\n",
    "                       [ 1,  2,-16,  2,  1],\n",
    "                       [ 0,  1,  2,  1,  0],\n",
    "                       [ 0,  0,  1,  0,  0]])\n",
    "    \n",
    "    # Filter the image with mask A\n",
    "    output = ndi.convolve(img, mask_A, output=np.int32)\n",
    "    \n",
    "    return output"
   ]
  },
  {
   "cell_type": "markdown",
   "metadata": {
    "deletable": false,
    "editable": false,
    "kernel": "SoS",
    "nbgrader": {
     "cell_type": "markdown",
     "checksum": "967222a7d818f8302ebf54fbe9ae7f75",
     "grade": false,
     "grade_id": "cell-94a0847393c20373",
     "locked": true,
     "schema_version": 3,
     "solution": false,
     "task": false
    }
   },
   "source": [
    "Run the next cell to visualize the result of applying `filter_A` to the image `bikesgray`. \n",
    "<div class = \"alert alert-info\"><b>Note</b>: If you cannot see the whole <code>viewer</code>, remember that you can use <code>Ctrl</code>+<code>b</code> to hide the sidebar at the left. If you have already done this, you can always use <code>Ctrl</code> + <code>-</code> to zoom out a bit</div>"
   ]
  },
  {
   "cell_type": "code",
   "execution_count": 155,
   "metadata": {
    "deletable": false,
    "editable": false,
    "kernel": "SoS",
    "nbgrader": {
     "cell_type": "code",
     "checksum": "9004b631e96b7b5d04a9759b2a0a0ce6",
     "grade": true,
     "grade_id": "cell-1ff60c4e8ad4a813",
     "locked": true,
     "points": 0.5,
     "schema_version": 3,
     "solution": false,
     "task": false
    }
   },
   "outputs": [
    {
     "data": {
      "application/vnd.jupyter.widget-view+json": {
       "model_id": "d309b0e2f2f644638e84a3936224a4f1",
       "version_major": 2,
       "version_minor": 0
      },
      "text/plain": [
       "HBox(children=(Output(layout=Layout(width='80%')), Output(), Output(layout=Layout(width='25%'))))"
      ]
     },
     "metadata": {},
     "output_type": "display_data"
    },
    {
     "data": {
      "application/vnd.jupyter.widget-view+json": {
       "model_id": "4e6e2c4eb2fd4bca9a7f131fd269d5ba",
       "version_major": 2,
       "version_minor": 0
      },
      "text/plain": [
       "Button(description='Show Widgets', style=ButtonStyle())"
      ]
     },
     "metadata": {},
     "output_type": "display_data"
    }
   ],
   "source": [
    "%use sos\n",
    "# Apply the function\n",
    "bikesgray_A = filter_A(bikesgray)\n",
    "# Visualize the result\n",
    "plt.close('all')\n",
    "vis_A = viewer([bikesgray, bikesgray_A], title=['Original', 'Convolved with filter A'], subplots=(1,2))"
   ]
  },
  {
   "cell_type": "markdown",
   "metadata": {
    "deletable": false,
    "editable": false,
    "kernel": "SoS",
    "nbgrader": {
     "cell_type": "markdown",
     "checksum": "c08b3a9c4db3b217db0cfb685db98e8b",
     "grade": false,
     "grade_id": "cell-8685fc2ecdf287cb",
     "locked": true,
     "schema_version": 3,
     "solution": false,
     "task": false
    }
   },
   "source": [
    "**For 0.5 points** answer the following MCQ:\n",
    "\n",
    "* Which of the following keywords best describes the visual effect of this filter?\n",
    "\n",
    "1. isotropic blurring, or\n",
    "2. vertical blurring, or\n",
    "3. horizontal blurring, or\n",
    "4. diagonal blurring, or\n",
    "5. sharpening, or\n",
    "6. vertical-edge detection, or\n",
    "7. horizontal-edge detection, or\n",
    "8. diagonal edge detection, or\n",
    "9. Laplacian: a second order derivative to find edges (maxima and minima), or\n",
    "10. it has not effect."
   ]
  },
  {
   "cell_type": "code",
   "execution_count": 158,
   "metadata": {
    "deletable": false,
    "kernel": "SoS",
    "nbgrader": {
     "cell_type": "code",
     "checksum": "0f7345dbe970dd48259855c43841c0b8",
     "grade": false,
     "grade_id": "cell-5447a7b75c32f43d",
     "locked": false,
     "schema_version": 3,
     "solution": true,
     "task": false
    }
   },
   "outputs": [],
   "source": [
    "%use sos\n",
    "# Assign your answer to this variable\n",
    "answer = 9\n",
    "# YOUR CODE HERE"
   ]
  },
  {
   "cell_type": "code",
   "execution_count": 159,
   "metadata": {
    "deletable": false,
    "editable": false,
    "kernel": "SoS",
    "nbgrader": {
     "cell_type": "code",
     "checksum": "274fc45d45bce868cbc82b1663617057",
     "grade": true,
     "grade_id": "cell-1aae516709224dc8",
     "locked": true,
     "points": 0.5,
     "schema_version": 3,
     "solution": false,
     "task": false
    }
   },
   "outputs": [],
   "source": [
    "%use sos\n",
    "# Sanity check\n",
    "if not answer in list(range(1,11)):\n",
    "    print('WARNING!\\nAnswer one of 1, 2, 3, 4, 5, 6, 7, 8, 9 or 10.')"
   ]
  },
  {
   "cell_type": "markdown",
   "metadata": {
    "deletable": false,
    "editable": false,
    "kernel": "SoS",
    "nbgrader": {
     "cell_type": "markdown",
     "checksum": "56530acd24b50faaa442e2e17658382f",
     "grade": false,
     "grade_id": "cell-d287c24b60062255",
     "locked": true,
     "schema_version": 3,
     "solution": false,
     "task": false
    }
   },
   "source": [
    "## 2.B. Mask B\n",
    "[Back to table of contents](#ToC_1_Filtering)\n",
    "\n",
    "In the cell below, **For 0.5 points**, implement the function `filter_B`, which convolves the input image with the filter\n",
    "\n",
    "```python3\n",
    "    [ 0,  1,  2,  1,  0]\n",
    "    [ 1,  2,  4,  2,  1]\n",
    "B = [ 2,  4,  8,  4,  2]\n",
    "    [ 1,  2,  4,  2,  1]\n",
    "    [ 0,  1,  2,  1,  0]\n",
    "```\n",
    "\n",
    "Remember to check if the filter is separable, and in that case, implement it in that way."
   ]
  },
  {
   "cell_type": "code",
   "execution_count": 156,
   "metadata": {
    "deletable": false,
    "kernel": "SoS",
    "nbgrader": {
     "cell_type": "code",
     "checksum": "77fc44d8ca4d073186d338a59cc18e74",
     "grade": false,
     "grade_id": "cell-ea68ff81d2e30188",
     "locked": false,
     "schema_version": 3,
     "solution": true,
     "task": false
    }
   },
   "outputs": [],
   "source": [
    "%use sos\n",
    "\n",
    "# Function that filters img with the mask B\n",
    "def filter_B(img):\n",
    "    output = img.copy()\n",
    "    mask_B = np.array([[ 0,  1,  2,  1,  0],\n",
    "                       [ 1,  2,  4,  2,  1],\n",
    "                       [ 2,  4,  8,  4,  2],\n",
    "                       [ 1,  2,  4,  2,  1],\n",
    "                       [ 0,  1,  2,  1,  0]])\n",
    "    \n",
    "    # Filter the image with mask B    \n",
    "    output = ndi.convolve(img, mask_B, output=np.int32)\n",
    "    \n",
    "    return output"
   ]
  },
  {
   "cell_type": "markdown",
   "metadata": {
    "deletable": false,
    "editable": false,
    "kernel": "SoS",
    "nbgrader": {
     "cell_type": "markdown",
     "checksum": "7d532563fe86aa6ce9b9c94fd8bbce83",
     "grade": false,
     "grade_id": "cell-3caffb4abde56d6a",
     "locked": true,
     "schema_version": 3,
     "solution": false,
     "task": false
    }
   },
   "source": [
    "Run the next cell to visualize the result of applying `filter_B` to the image `bikesgray`."
   ]
  },
  {
   "cell_type": "code",
   "execution_count": 157,
   "metadata": {
    "deletable": false,
    "editable": false,
    "kernel": "SoS",
    "nbgrader": {
     "cell_type": "code",
     "checksum": "e5007b6b62ffb34cf7c5df2464771372",
     "grade": true,
     "grade_id": "cell-4bd2f074776e8c20",
     "locked": true,
     "points": 0.5,
     "schema_version": 3,
     "solution": false,
     "task": false
    }
   },
   "outputs": [
    {
     "data": {
      "application/vnd.jupyter.widget-view+json": {
       "model_id": "718356e6788a4a89a053cd99e652b2ff",
       "version_major": 2,
       "version_minor": 0
      },
      "text/plain": [
       "HBox(children=(Output(layout=Layout(width='80%')), Output(), Output(layout=Layout(width='25%'))))"
      ]
     },
     "metadata": {},
     "output_type": "display_data"
    },
    {
     "data": {
      "application/vnd.jupyter.widget-view+json": {
       "model_id": "",
       "version_major": 2,
       "version_minor": 0
      },
      "text/plain": [
       "Button(description='Show Widgets', style=ButtonStyle())"
      ]
     },
     "metadata": {},
     "output_type": "display_data"
    }
   ],
   "source": [
    "%use sos\n",
    "# Apply the function\n",
    "bikesgray_B = filter_B(bikesgray)\n",
    "# Visualize the result\n",
    "plt.close('all')\n",
    "vis_B = viewer([bikesgray, bikesgray_B], title=['Original', 'Filtered with mask B'], subplots=(1,2))"
   ]
  },
  {
   "cell_type": "markdown",
   "metadata": {
    "deletable": false,
    "editable": false,
    "kernel": "SoS",
    "nbgrader": {
     "cell_type": "markdown",
     "checksum": "c74c0d7d001bc7d1504b19856ad7ad28",
     "grade": false,
     "grade_id": "cell-b1fd0c4867b8446f",
     "locked": true,
     "schema_version": 3,
     "solution": false,
     "task": false
    }
   },
   "source": [
    "**For 0.5 points** answer the following MCQ:\n",
    "\n",
    "* Which of the following keywords best describes the visual effect of this filter?\n",
    "\n",
    "1. isotropic blurring, or\n",
    "2. vertical blurring, or\n",
    "3. horizontal blurring, or\n",
    "4. diagonal blurring, or\n",
    "5. sharpening, or\n",
    "6. vertical-edge detection, or\n",
    "7. horizontal-edge detection, or\n",
    "8. diagonal edge detection, or\n",
    "9. Laplacian: a second order derivative to find edges (maxima and minima), or\n",
    "10. it has not effect."
   ]
  },
  {
   "cell_type": "code",
   "execution_count": 175,
   "metadata": {
    "deletable": false,
    "kernel": "SoS",
    "nbgrader": {
     "cell_type": "code",
     "checksum": "aab9e1b215ce5a4bc943f3119d8c5e0d",
     "grade": false,
     "grade_id": "cell-28826dd8aeee4fbd",
     "locked": false,
     "schema_version": 3,
     "solution": true,
     "task": false
    }
   },
   "outputs": [],
   "source": [
    "%use sos\n",
    "# Assign your answer to this variable\n",
    "answer = 1\n",
    "# YOUR CODE HERE"
   ]
  },
  {
   "cell_type": "code",
   "execution_count": 176,
   "metadata": {
    "deletable": false,
    "editable": false,
    "kernel": "SoS",
    "nbgrader": {
     "cell_type": "code",
     "checksum": "8a76d77a7bea5a8d0f6a4c95e18b2a97",
     "grade": true,
     "grade_id": "cell-69d785a8379b181c",
     "locked": true,
     "points": 0.5,
     "schema_version": 3,
     "solution": false,
     "task": false
    }
   },
   "outputs": [],
   "source": [
    "%use sos\n",
    "# Sanity check\n",
    "if not answer in list(range(1,11)):\n",
    "    print('WARNING!\\nAnswer one of 1, 2, 3, 4, 5, 6, 7, 8, 9 or 10.')"
   ]
  },
  {
   "cell_type": "markdown",
   "metadata": {
    "deletable": false,
    "editable": false,
    "kernel": "SoS",
    "nbgrader": {
     "cell_type": "markdown",
     "checksum": "f73422cf2f7b7fa7597bcb2e42f72eda",
     "grade": false,
     "grade_id": "cell-f92cafcf93a0db16",
     "locked": true,
     "schema_version": 3,
     "solution": false,
     "task": false
    }
   },
   "source": [
    "## 2.C. Mask C\n",
    "[Back to table of contents](#ToC_1_Filtering)\n",
    "\n",
    "In the cell below, **For 0.5 points**, implement the function `filter_C`, which convolves the input image with the filter\n",
    "\n",
    "```python3\n",
    "    [-1,  -1,  -1,  -1,  -1]\n",
    "    [-2,  -2,  -2,  -2,  -2]\n",
    "C = [ 0,   0,   0,   0,   0]\n",
    "    [ 2,   2,   2,   2,   2]\n",
    "    [ 1,   1,   1,   1,   1]\n",
    "```\n",
    "\n",
    "Remember to check if the filter is separable, and in that case, implement it in that way."
   ]
  },
  {
   "cell_type": "code",
   "execution_count": 4,
   "metadata": {
    "deletable": false,
    "kernel": "SoS",
    "nbgrader": {
     "cell_type": "code",
     "checksum": "d4ebd0e91eebae1225254a0ecdee77fe",
     "grade": false,
     "grade_id": "cell-272af542af1aac69",
     "locked": false,
     "schema_version": 3,
     "solution": true,
     "task": false
    }
   },
   "outputs": [],
   "source": [
    "%use sos\n",
    "\n",
    "# Function that filters img with the mask C\n",
    "def filter_C(img):\n",
    "    output = img.copy()\n",
    "    mask_C_x = np.array([1, 1, 1, 1, 1])\n",
    "    mask_C_y = np.array([-1, -2, 0, 2, 1])\n",
    "    \n",
    "    # Filter the image with mask C\n",
    "    # filter the columns\n",
    "    output = ndi.convolve1d(img, mask_C_y, axis=0)\n",
    "    # filter the rows\n",
    "    output = ndi.convolve1d(output, mask_C_x, axis=1)\n",
    "    \n",
    "    return output"
   ]
  },
  {
   "cell_type": "markdown",
   "metadata": {
    "deletable": false,
    "editable": false,
    "kernel": "SoS",
    "nbgrader": {
     "cell_type": "markdown",
     "checksum": "55d764b8c000eed8a8b59844d2b98708",
     "grade": false,
     "grade_id": "cell-94d15031d58549ee",
     "locked": true,
     "schema_version": 3,
     "solution": false,
     "task": false
    }
   },
   "source": [
    "Run the next cell to visualize the result of applying `filter_C` to the image `bikesgray`."
   ]
  },
  {
   "cell_type": "code",
   "execution_count": 5,
   "metadata": {
    "deletable": false,
    "editable": false,
    "kernel": "SoS",
    "nbgrader": {
     "cell_type": "code",
     "checksum": "d1bcca621f7486c8e77a949703a245b2",
     "grade": true,
     "grade_id": "cell-912e231be098ed1c",
     "locked": true,
     "points": 0.5,
     "schema_version": 3,
     "solution": false,
     "task": false
    }
   },
   "outputs": [
    {
     "data": {
      "application/vnd.jupyter.widget-view+json": {
       "model_id": "ebce7fdcb836486492973107ca3d8402",
       "version_major": 2,
       "version_minor": 0
      },
      "text/plain": [
       "HBox(children=(Output(layout=Layout(width='80%')), Output(), Output(layout=Layout(width='25%'))))"
      ]
     },
     "metadata": {},
     "output_type": "display_data"
    },
    {
     "data": {
      "application/vnd.jupyter.widget-view+json": {
       "model_id": "4801e5608761490faff2b075fae4fb9d",
       "version_major": 2,
       "version_minor": 0
      },
      "text/plain": [
       "Button(description='Show Widgets', style=ButtonStyle())"
      ]
     },
     "metadata": {},
     "output_type": "display_data"
    }
   ],
   "source": [
    "%use sos\n",
    "# Apply the function\n",
    "bikesgray_C = filter_C(bikesgray)\n",
    "# Visualize the result\n",
    "plt.close('all')\n",
    "vis_C = viewer([bikesgray, bikesgray_C], title=['Original', 'Filtered with mask C'], subplots=(1,2))"
   ]
  },
  {
   "cell_type": "markdown",
   "metadata": {
    "deletable": false,
    "editable": false,
    "kernel": "SoS",
    "nbgrader": {
     "cell_type": "markdown",
     "checksum": "41e175b512fa74322fcd5589d34b2350",
     "grade": false,
     "grade_id": "cell-91f9deee1a55bd99",
     "locked": true,
     "schema_version": 3,
     "solution": false,
     "task": false
    }
   },
   "source": [
    "**For 0.5 points** answer the following MCQ:\n",
    "\n",
    "* Which of the following keywords best describes the visual effect of this filter?\n",
    "\n",
    "1. isotropic blurring, or\n",
    "2. vertical blurring, or\n",
    "3. horizontal blurring, or\n",
    "4. diagonal blurring, or\n",
    "5. sharpening, or\n",
    "6. vertical-edge detection, or\n",
    "7. horizontal-edge detection, or\n",
    "8. diagonal edge detection, or\n",
    "9. Laplacian: a second order derivative to find edges (maxima and minima), or\n",
    "10. it has not effect."
   ]
  },
  {
   "cell_type": "code",
   "execution_count": 162,
   "metadata": {
    "deletable": false,
    "kernel": "SoS",
    "nbgrader": {
     "cell_type": "code",
     "checksum": "ac5e56905c80dafc1a3a5a932dacbaa7",
     "grade": false,
     "grade_id": "cell-f16ee02c059ed28a",
     "locked": false,
     "schema_version": 3,
     "solution": true,
     "task": false
    }
   },
   "outputs": [],
   "source": [
    "%use sos\n",
    "# Assign your answer to this variable\n",
    "answer = 7\n",
    "# YOUR CODE HERE"
   ]
  },
  {
   "cell_type": "code",
   "execution_count": 163,
   "metadata": {
    "deletable": false,
    "editable": false,
    "kernel": "SoS",
    "nbgrader": {
     "cell_type": "code",
     "checksum": "1ccee61ac1dad52684d7c03f30c0853d",
     "grade": true,
     "grade_id": "cell-6186de8d22151933",
     "locked": true,
     "points": 0.5,
     "schema_version": 3,
     "solution": false,
     "task": false
    }
   },
   "outputs": [],
   "source": [
    "%use sos\n",
    "# Sanity check\n",
    "if not answer in list(range(1,11)):\n",
    "    print('WARNING!\\nAnswer one of 1, 2, 3, 4, 5, 6, 7, 8, 9 or 10.')"
   ]
  },
  {
   "cell_type": "markdown",
   "metadata": {
    "deletable": false,
    "editable": false,
    "kernel": "SoS",
    "nbgrader": {
     "cell_type": "markdown",
     "checksum": "3e255d603e413b854596c91661275f87",
     "grade": false,
     "grade_id": "cell-43a53842332bbb66",
     "locked": true,
     "schema_version": 3,
     "solution": false,
     "task": false
    }
   },
   "source": [
    "## 2.D. Mask D\n",
    "[Back to table of contents](#ToC_1_Filtering)\n",
    "\n",
    "In the cell below, **For 0.5 points**, implement the function `filter_D`, which convolves the input image with the filter\n",
    "\n",
    "```python3\n",
    "    [-1,  -4,  -6,  -4, -1]\n",
    "    [-4, -16, -24, -16, -4]\n",
    "D = [-6, -24, 476, -24, -6]\n",
    "    [-4, -16, -24, -16, -4]\n",
    "    [-1,  -4,  -6,  -4, -1]\n",
    "```\n",
    "\n",
    "Remember to check if the filter is separable, and in that case, implement it in that way."
   ]
  },
  {
   "cell_type": "code",
   "execution_count": 164,
   "metadata": {
    "deletable": false,
    "kernel": "SoS",
    "nbgrader": {
     "cell_type": "code",
     "checksum": "f867f64598ca848fd55a61a1153e1281",
     "grade": false,
     "grade_id": "cell-4ab67e5043c326fc",
     "locked": false,
     "schema_version": 3,
     "solution": true,
     "task": false
    }
   },
   "outputs": [],
   "source": [
    "%use sos\n",
    "\n",
    "# Function that filters img with the mask D\n",
    "def filter_D(img):\n",
    "    output = img.copy()\n",
    "    mask_D = np.array([[-1,  -4,  -6,  -4, -1],\n",
    "                       [-4, -16, -24, -16, -4],\n",
    "                       [-6, -24, 476, -24, -6],\n",
    "                       [-4, -16, -24, -16, -4],\n",
    "                       [-1,  -4,  -6,  -4, -1]])\n",
    "    \n",
    "    # Filter the image with mask D\n",
    "    output = ndi.convolve(output, mask_D, output=np.int32)\n",
    "    \n",
    "    return output"
   ]
  },
  {
   "cell_type": "markdown",
   "metadata": {
    "deletable": false,
    "editable": false,
    "kernel": "SoS",
    "nbgrader": {
     "cell_type": "markdown",
     "checksum": "b66a6da2992fcafb581bef614429edce",
     "grade": false,
     "grade_id": "cell-c647c16bf1a486a2",
     "locked": true,
     "schema_version": 3,
     "solution": false,
     "task": false
    }
   },
   "source": [
    "Run the next cell to visualize the result of applying `filter_D` to the image `bikesgray`."
   ]
  },
  {
   "cell_type": "code",
   "execution_count": 165,
   "metadata": {
    "deletable": false,
    "editable": false,
    "kernel": "SoS",
    "nbgrader": {
     "cell_type": "code",
     "checksum": "d7a609f5464a8f823640c06fd77a4818",
     "grade": true,
     "grade_id": "cell-cc68125ec3aea436",
     "locked": true,
     "points": 0.5,
     "schema_version": 3,
     "solution": false,
     "task": false
    }
   },
   "outputs": [
    {
     "data": {
      "application/vnd.jupyter.widget-view+json": {
       "model_id": "f46be37f32314f2da631158d286eb3ad",
       "version_major": 2,
       "version_minor": 0
      },
      "text/plain": [
       "HBox(children=(Output(layout=Layout(width='80%')), Output(), Output(layout=Layout(width='25%'))))"
      ]
     },
     "metadata": {},
     "output_type": "display_data"
    },
    {
     "data": {
      "application/vnd.jupyter.widget-view+json": {
       "model_id": "7816a4ce114647c8be0e2d24ac7bd479",
       "version_major": 2,
       "version_minor": 0
      },
      "text/plain": [
       "Button(description='Show Widgets', style=ButtonStyle())"
      ]
     },
     "metadata": {},
     "output_type": "display_data"
    }
   ],
   "source": [
    "%use sos\n",
    "# Apply the function\n",
    "bikesgray_D = filter_D(bikesgray)\n",
    "# Visualize the result\n",
    "plt.close('all')\n",
    "vis_D = viewer([bikesgray, bikesgray_D], title=['Original', 'Filtered with mask D'], subplots=(1,2))"
   ]
  },
  {
   "cell_type": "markdown",
   "metadata": {
    "deletable": false,
    "editable": false,
    "kernel": "SoS",
    "nbgrader": {
     "cell_type": "markdown",
     "checksum": "805cd0e6d2c54ed3e7f2073d6690ece0",
     "grade": false,
     "grade_id": "cell-0b65f5379d705bc4",
     "locked": true,
     "schema_version": 3,
     "solution": false,
     "task": false
    }
   },
   "source": [
    "**For 0.5 points** answer the following MCQ:\n",
    "\n",
    "* Which of the following keywords best describes the visual effect of this filter?\n",
    "\n",
    "1. isotropic blurring, or\n",
    "2. vertical blurring, or\n",
    "3. horizontal blurring, or\n",
    "4. diagonal blurring, or\n",
    "5. sharpening, or\n",
    "6. vertical-edge detection, or\n",
    "7. horizontal-edge detection, or\n",
    "8. diagonal edge detection, or\n",
    "9. Laplacian: a second order derivative to find edges (maxima and minima), or\n",
    "10. it has not effect."
   ]
  },
  {
   "cell_type": "code",
   "execution_count": 166,
   "metadata": {
    "deletable": false,
    "kernel": "SoS",
    "nbgrader": {
     "cell_type": "code",
     "checksum": "d04a63a648c6b9a16259c8289661b874",
     "grade": false,
     "grade_id": "cell-deab1ba862c2eff9",
     "locked": false,
     "schema_version": 3,
     "solution": true,
     "task": false
    }
   },
   "outputs": [],
   "source": [
    "%use sos\n",
    "# Assign your answer to this variable\n",
    "answer = 5\n",
    "# YOUR CODE HERE"
   ]
  },
  {
   "cell_type": "code",
   "execution_count": 167,
   "metadata": {
    "deletable": false,
    "editable": false,
    "kernel": "SoS",
    "nbgrader": {
     "cell_type": "code",
     "checksum": "baa4ac6bfb9272bf88c04452c10ea95b",
     "grade": true,
     "grade_id": "cell-8e4a71699dc0e13a",
     "locked": true,
     "points": 0.5,
     "schema_version": 3,
     "solution": false,
     "task": false
    }
   },
   "outputs": [],
   "source": [
    "%use sos\n",
    "# Sanity check\n",
    "if not answer in list(range(1,11)):\n",
    "    print('WARNING!\\nAnswer one of 1, 2, 3, 4, 5, 6, 7, 8, 9 or 10.')"
   ]
  },
  {
   "cell_type": "markdown",
   "metadata": {
    "deletable": false,
    "editable": false,
    "kernel": "SoS",
    "nbgrader": {
     "cell_type": "markdown",
     "checksum": "d00d5204b57c513dbfdead8ae7a3b24d",
     "grade": false,
     "grade_id": "cell-f2e72c21bcc037a0",
     "locked": true,
     "schema_version": 3,
     "solution": false,
     "task": false
    }
   },
   "source": [
    "## 2.E. Mask E\n",
    "[Back to table of contents](#ToC_1_Filtering)\n",
    "\n",
    "In the cell below, **For 0.5 points**, implement the function `filter_E`, which convolves the input image with the filter \n",
    "\n",
    "```python3\n",
    "    [0, 0, 0, 0, 0]\n",
    "    [0, 0, 0, 0, 0]\n",
    "E = [0, 0, 1, 0, 0]\n",
    "    [0, 0, 0, 0, 0]\n",
    "    [0, 0, 0, 0, 0]\n",
    "```\n",
    "Remember to check if the filter is separable, and in that case, implement it in that way."
   ]
  },
  {
   "cell_type": "code",
   "execution_count": 6,
   "metadata": {
    "deletable": false,
    "kernel": "SoS",
    "nbgrader": {
     "cell_type": "code",
     "checksum": "03b6f232887702f119d30ab64e29d8d5",
     "grade": false,
     "grade_id": "cell-173cb71050c2c7e1",
     "locked": false,
     "schema_version": 3,
     "solution": true,
     "task": false
    }
   },
   "outputs": [],
   "source": [
    "%use sos\n",
    "\n",
    "# Function that filters img with the mask E\n",
    "def filter_E(img):\n",
    "    output = img.copy()\n",
    "    mask_E_x = np.array([0, 0, 1, 0, 0])\n",
    "    mask_E_y = np.array([0, 0, 1, 0, 0])\n",
    "    \n",
    "    mask_E = np.array([[0, 0, 0, 0, 0],\n",
    "                       [0, 0, 0, 0, 0],\n",
    "                       [0, 0, 1, 0, 0],\n",
    "                       [0, 0, 0, 0, 0],\n",
    "                       [0, 0, 0, 0, 0]])\n",
    "    \n",
    "    # Filter the image with mask E\n",
    "    # filter the columns\n",
    "    output = ndi.convolve1d(img, mask_E_y, axis=0)\n",
    "    # filter the rows\n",
    "    output = ndi.convolve1d(output, mask_E_x, axis=1)\n",
    "    \n",
    "    return output"
   ]
  },
  {
   "cell_type": "markdown",
   "metadata": {
    "deletable": false,
    "editable": false,
    "kernel": "SoS",
    "nbgrader": {
     "cell_type": "markdown",
     "checksum": "c2b34a7dc79f864e4c89a7ad327fc30a",
     "grade": false,
     "grade_id": "cell-7a9854133b2bfe83",
     "locked": true,
     "schema_version": 3,
     "solution": false,
     "task": false
    }
   },
   "source": [
    "Run the next cell to visualize the result of applying `filter_E` to the image `bikesgray`."
   ]
  },
  {
   "cell_type": "code",
   "execution_count": 7,
   "metadata": {
    "deletable": false,
    "editable": false,
    "kernel": "SoS",
    "nbgrader": {
     "cell_type": "code",
     "checksum": "3d0f6b89ec2b749c1a750d05fe4a9f36",
     "grade": true,
     "grade_id": "cell-817aa10b2ac7c506",
     "locked": true,
     "points": 0.5,
     "schema_version": 3,
     "solution": false,
     "task": false
    }
   },
   "outputs": [
    {
     "data": {
      "application/vnd.jupyter.widget-view+json": {
       "model_id": "82bfd148b4f94273bb89d137a8140d42",
       "version_major": 2,
       "version_minor": 0
      },
      "text/plain": [
       "HBox(children=(Output(layout=Layout(width='80%')), Output(), Output(layout=Layout(width='25%'))))"
      ]
     },
     "metadata": {},
     "output_type": "display_data"
    },
    {
     "data": {
      "application/vnd.jupyter.widget-view+json": {
       "model_id": "0f9d837ec4a64486a2458001da2dbc6b",
       "version_major": 2,
       "version_minor": 0
      },
      "text/plain": [
       "Button(description='Show Widgets', style=ButtonStyle())"
      ]
     },
     "metadata": {},
     "output_type": "display_data"
    }
   ],
   "source": [
    "%use sos\n",
    "# Apply the function\n",
    "bikesgray_E = filter_E(bikesgray)\n",
    "# Visualize the result\n",
    "plt.close('all')\n",
    "vis_E = viewer([bikesgray, bikesgray_E], title=['Original', 'Filtered with mask E'], subplots=(1,2))"
   ]
  },
  {
   "cell_type": "markdown",
   "metadata": {
    "deletable": false,
    "editable": false,
    "kernel": "SoS",
    "nbgrader": {
     "cell_type": "markdown",
     "checksum": "6452420408ac8914e65a092d9ea06a6e",
     "grade": false,
     "grade_id": "cell-88f79d21ec289e43",
     "locked": true,
     "schema_version": 3,
     "solution": false,
     "task": false
    }
   },
   "source": [
    "**For 0.5 points** answer the following MCQ:\n",
    "\n",
    "* Which of the following keywords best describes the visual effect of this filter?\n",
    "\n",
    "1. isotropic blurring, or\n",
    "2. vertical blurring, or\n",
    "3. horizontal blurring, or\n",
    "4. diagonal blurring, or\n",
    "5. sharpening, or\n",
    "6. vertical-edge detection, or\n",
    "7. horizontal-edge detection, or\n",
    "8. diagonal edge detection, or\n",
    "9. Laplacian: a second order derivative to find edges (maxima and minima), or\n",
    "10. it has not effect."
   ]
  },
  {
   "cell_type": "code",
   "execution_count": 173,
   "metadata": {
    "deletable": false,
    "kernel": "SoS",
    "nbgrader": {
     "cell_type": "code",
     "checksum": "6df200c727963a1845e485592890d72d",
     "grade": false,
     "grade_id": "cell-2b64f5ff98234834",
     "locked": false,
     "schema_version": 3,
     "solution": true,
     "task": false
    }
   },
   "outputs": [],
   "source": [
    "%use sos\n",
    "# Assign your answer to this variable\n",
    "answer = 10\n",
    "# YOUR CODE HERE"
   ]
  },
  {
   "cell_type": "code",
   "execution_count": 174,
   "metadata": {
    "deletable": false,
    "editable": false,
    "kernel": "SoS",
    "nbgrader": {
     "cell_type": "code",
     "checksum": "9b7b6df8d5997561f314acae012e76ab",
     "grade": true,
     "grade_id": "cell-59c47107eb0e8e63",
     "locked": true,
     "points": 0.5,
     "schema_version": 3,
     "solution": false,
     "task": false
    }
   },
   "outputs": [],
   "source": [
    "%use sos\n",
    "# Sanity check\n",
    "if not answer in list(range(1,11)):\n",
    "    print('WARNING!\\nAnswer one of 1, 2, 3, 4, 5, 6, 7, 8, 9 or 10.')"
   ]
  },
  {
   "cell_type": "markdown",
   "metadata": {
    "deletable": false,
    "editable": false,
    "kernel": "SoS",
    "nbgrader": {
     "cell_type": "markdown",
     "checksum": "8ab6a082a58b94217a747f55c3f0a91e",
     "grade": false,
     "grade_id": "cell-888fd31f6fc28437",
     "locked": true,
     "schema_version": 3,
     "solution": false,
     "task": false
    }
   },
   "source": [
    "## 2.F. Mask F\n",
    "[Back to table of contents](#ToC_1_Filtering)\n",
    "\n",
    "In the cell below, **For 0.5 points**, implement the function `filter_F`, which convolves the input image with the filter \n",
    "\n",
    "```python3\n",
    "    [ 0, -1, -1,  0,  0]\n",
    "    [-1, -1,  0,  0,  0]\n",
    "F = [-1,  0,  0,  0,  1]\n",
    "    [ 0,  0,  0,  1,  1]\n",
    "    [ 0,  0,  1,  1,  0]\n",
    "```\n",
    "\n",
    "Remember to check if the filter is separable, and in that case, implement it in that way."
   ]
  },
  {
   "cell_type": "code",
   "execution_count": 179,
   "metadata": {
    "deletable": false,
    "kernel": "SoS",
    "nbgrader": {
     "cell_type": "code",
     "checksum": "1854e57c3447261f09a9b3a2240cc738",
     "grade": false,
     "grade_id": "cell-5dfdcf7403d7e9d2",
     "locked": false,
     "schema_version": 3,
     "solution": true,
     "task": false
    }
   },
   "outputs": [],
   "source": [
    "%use sos\n",
    "\n",
    "# Function that filters img with the mask F\n",
    "def filter_F(img):\n",
    "    output = img.copy()\n",
    "    mask_F = np.array([[ 0, -1, -1,  0,  0],\n",
    "                       [-1, -1,  0,  0,  0],\n",
    "                       [-1,  0,  0,  0,  1],\n",
    "                       [ 0,  0,  0,  1,  1],\n",
    "                       [ 0,  0,  1,  1,  0]])\n",
    "    \n",
    "    # Filter the image with mask F\n",
    "    output = ndi.convolve(img, mask_F, output=np.int32)\n",
    "    \n",
    "    return output"
   ]
  },
  {
   "cell_type": "markdown",
   "metadata": {
    "deletable": false,
    "editable": false,
    "kernel": "SoS",
    "nbgrader": {
     "cell_type": "markdown",
     "checksum": "7c144aa393ad5d5c7f42a03fb769017e",
     "grade": false,
     "grade_id": "cell-f4360dff7751e4a4",
     "locked": true,
     "schema_version": 3,
     "solution": false,
     "task": false
    }
   },
   "source": [
    "Run the next cell to visualize the result of applying `filter_F` to the image `bikesgray`."
   ]
  },
  {
   "cell_type": "code",
   "execution_count": 180,
   "metadata": {
    "deletable": false,
    "editable": false,
    "kernel": "SoS",
    "nbgrader": {
     "cell_type": "code",
     "checksum": "ae103176f4334a8feb9a18da74df432c",
     "grade": true,
     "grade_id": "cell-89ecfa2af17122fe",
     "locked": true,
     "points": 0.5,
     "schema_version": 3,
     "solution": false,
     "task": false
    }
   },
   "outputs": [
    {
     "data": {
      "application/vnd.jupyter.widget-view+json": {
       "model_id": "90f345413cfb400daa2b12c1e909fa41",
       "version_major": 2,
       "version_minor": 0
      },
      "text/plain": [
       "HBox(children=(Output(layout=Layout(width='80%')), Output(), Output(layout=Layout(width='25%'))))"
      ]
     },
     "metadata": {},
     "output_type": "display_data"
    },
    {
     "data": {
      "application/vnd.jupyter.widget-view+json": {
       "model_id": "ca10ed0bf73b43e4a546082867cf2578",
       "version_major": 2,
       "version_minor": 0
      },
      "text/plain": [
       "Button(description='Show Widgets', style=ButtonStyle())"
      ]
     },
     "metadata": {},
     "output_type": "display_data"
    }
   ],
   "source": [
    "%use sos\n",
    "# Apply the function\n",
    "bikesgray_F = filter_F(bikesgray)\n",
    "# Visualize the result\n",
    "plt.close('all')\n",
    "vis_F = viewer([bikesgray, bikesgray_F], title=['Original', 'Filtered with mask F'], subplots=(1,2))"
   ]
  },
  {
   "cell_type": "markdown",
   "metadata": {
    "deletable": false,
    "editable": false,
    "kernel": "SoS",
    "nbgrader": {
     "cell_type": "markdown",
     "checksum": "336fbf3c15826dc88cb5ff0d085923ba",
     "grade": false,
     "grade_id": "cell-bcff8dcd8ce012f8",
     "locked": true,
     "schema_version": 3,
     "solution": false,
     "task": false
    }
   },
   "source": [
    "**For 0.5 points** answer the following MCQ:\n",
    "\n",
    "* Which of the following keywords best describes the visual effect of this filter?\n",
    "\n",
    "1. isotropic blurring, or\n",
    "2. vertical blurring, or\n",
    "3. horizontal blurring, or\n",
    "4. diagonal blurring, or\n",
    "5. sharpening, or\n",
    "6. vertical-edge detection, or\n",
    "7. horizontal-edge detection, or\n",
    "8. diagonal edge detection, or\n",
    "9. Laplacian: a second order derivative to find edges (maxima and minima), or\n",
    "10. it has not effect."
   ]
  },
  {
   "cell_type": "code",
   "execution_count": 181,
   "metadata": {
    "deletable": false,
    "kernel": "SoS",
    "nbgrader": {
     "cell_type": "code",
     "checksum": "93c51cd4382b5efb11a67618d3541e73",
     "grade": false,
     "grade_id": "cell-a4ac97cd58f978dc",
     "locked": false,
     "schema_version": 3,
     "solution": true,
     "task": false
    }
   },
   "outputs": [],
   "source": [
    "%use sos\n",
    "# Assign your answer to this variable\n",
    "answer = 8\n",
    "# YOUR CODE HERE"
   ]
  },
  {
   "cell_type": "code",
   "execution_count": 182,
   "metadata": {
    "deletable": false,
    "editable": false,
    "kernel": "SoS",
    "nbgrader": {
     "cell_type": "code",
     "checksum": "dde13d659aad57972ded9dadb9e21c4d",
     "grade": true,
     "grade_id": "cell-0ba30a28ab95dad2",
     "locked": true,
     "points": 0.5,
     "schema_version": 3,
     "solution": false,
     "task": false
    }
   },
   "outputs": [],
   "source": [
    "%use sos\n",
    "# Sanity check\n",
    "if not answer in list(range(1,11)):\n",
    "    print('WARNING!\\nAnswer one of 1, 2, 3, 4, 5, 6, 7, 8, 9 or 10.')"
   ]
  },
  {
   "cell_type": "markdown",
   "metadata": {
    "deletable": false,
    "editable": false,
    "kernel": "SoS",
    "nbgrader": {
     "cell_type": "markdown",
     "checksum": "07a7a3019280d35ffee5c63ce5f9e6d5",
     "grade": false,
     "grade_id": "cell-f70cad8711869b8e",
     "locked": true,
     "schema_version": 3,
     "solution": false,
     "task": false
    }
   },
   "source": [
    "<div class=\"alert alert-success\">\n",
    "    \n",
    "<p><b>Congratulations on finishing the first part of the digital filtering lab!</b></p>\n",
    "<p>\n",
    "Make sure to save your notebook (you might want to keep a copy on your personal computer) and upload it to <a href=\"https://moodle.epfl.ch/mod/assign/view.php?id=1111434\">Moodle</a>, in a zip file together with the second part of this lab.\n",
    "</p>\n",
    "</div>\n",
    "\n",
    "* Keep the name of the notebook as: *1_Filtering.ipynb*,\n",
    "* Name the zip file: *Filtering_lab.zip*."
   ]
  }
 ],
 "metadata": {
  "kernelspec": {
   "display_name": "SoS",
   "language": "sos",
   "name": "sos"
  },
  "language_info": {
   "codemirror_mode": "sos",
   "file_extension": ".sos",
   "mimetype": "text/x-sos",
   "name": "sos",
   "nbconvert_exporter": "sos_notebook.converter.SoS_Exporter",
   "pygments_lexer": "sos"
  },
  "sos": {
   "kernels": [
    [
     "JavaScript",
     "javascript",
     "JavaScript",
     "#c8e1ae",
     ""
    ],
    [
     "SoS",
     "sos",
     "",
     "",
     "sos"
    ]
   ],
   "panel": {
    "displayed": false,
    "height": 0
   },
   "version": "0.22.6"
  }
 },
 "nbformat": 4,
 "nbformat_minor": 4
}
